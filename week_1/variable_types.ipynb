{
 "cells": [
  {
   "cell_type": "markdown",
   "metadata": {},
   "source": [
    "# Variable types\n",
    "\n",
    "> Here there will be a video where variable types are introduced. \n",
    "\n",
    "\n",
    "A *variable* is a container that a Python uses to store some data.\n",
    "The variable can be created and reused at a later stage in the code. \n",
    "In the cell below, assign the value `1` to the variable `principal_quantum_number`."
   ]
  },
  {
   "cell_type": "code",
   "execution_count": null,
   "metadata": {},
   "outputs": [],
   "source": [
    "# Variable assignment \n",
    "\n"
   ]
  },
  {
   "cell_type": "markdown",
   "metadata": {},
   "source": [
    "Not all variables are the same, they may have different *types*. \n",
    "Different operations are possible depending on the variable type. \n",
    "Some examples of variables types that are present in Python include: \n",
    "\n",
    "- *integers* (`int`): these are whole numbers (1, 2, 0, -3, etc.); there is no decimal point and they can be positive, negative, or zero. \n",
    "- *floats* (`float`): these are all real numbers (1.0, 3.14, 0.0, -6.28); any value that can be described with a decimal point. \n",
    "- *string* (`str`): a string is a textual variable, such as a word or a sentence; these are written between single or double inverted commas, `'like this'` or `\"this\"`.\n",
    "- *boolean* (`bool`): named for [George Boole](https://en.wikipedia.org/wiki/George_Boole), who defined an algebraic logic system in the 19th century; a Boolean is a *logical* valiable type that may hold one of two values, either `True` or `False`. We will come back to *logic* later.\n",
    "\n",
    "In the cells below, try and define a *chemistry* example for one of each of the four variable types mentioned above (and don't just copy those from the video!)."
   ]
  },
  {
   "cell_type": "code",
   "execution_count": null,
   "metadata": {},
   "outputs": [],
   "source": [
    "# Define a int\n",
    "\n"
   ]
  },
  {
   "cell_type": "code",
   "execution_count": null,
   "metadata": {},
   "outputs": [],
   "source": [
    "# Define a float\n",
    "\n"
   ]
  },
  {
   "cell_type": "code",
   "execution_count": null,
   "metadata": {},
   "outputs": [],
   "source": [
    "# Define a string\n",
    "\n"
   ]
  },
  {
   "cell_type": "code",
   "execution_count": null,
   "metadata": {},
   "outputs": [],
   "source": [
    "# Define a boolean\n",
    "\n"
   ]
  },
  {
   "cell_type": "markdown",
   "metadata": {},
   "source": [
    "The `type()` function will inform you of the type of the variable that is passed as an argument, complete the cells below such that they return the appropriate type. "
   ]
  },
  {
   "cell_type": "code",
   "execution_count": null,
   "metadata": {},
   "outputs": [],
   "source": [
    "# Return a string\n",
    "\n",
    "a_string = \n",
    "type(a_string)"
   ]
  },
  {
   "cell_type": "code",
   "execution_count": null,
   "metadata": {},
   "outputs": [],
   "source": [
    "# Return a float\n",
    "\n",
    "a_float = \n",
    "type(a_float)"
   ]
  },
  {
   "cell_type": "code",
   "execution_count": null,
   "metadata": {},
   "outputs": [],
   "source": [
    "# Return a int\n",
    "\n",
    "a_int = \n",
    "type(a_int)"
   ]
  },
  {
   "cell_type": "markdown",
   "metadata": {},
   "source": [
    "> **Short Exercise**\n",
    "> \n",
    "> Using the cell below, consider the difference in *type* between `1`, `1.` and `1.0` as interperated by Python. "
   ]
  },
  {
   "cell_type": "code",
   "execution_count": null,
   "metadata": {},
   "outputs": [],
   "source": [
    "# The difference in 1\n",
    "\n"
   ]
  },
  {
   "cell_type": "markdown",
   "metadata": {},
   "source": [
    "Once a variable is assigned, we can make use of it later. \n",
    "For example, if we assign the value `1.` to the variable `atoms` and then add this to `5.` to create the new variable `more_atoms`."
   ]
  },
  {
   "cell_type": "code",
   "execution_count": null,
   "metadata": {},
   "outputs": [],
   "source": [
    "atoms = 1.\n",
    "more_atoms = 5. + atoms"
   ]
  },
  {
   "cell_type": "markdown",
   "metadata": {},
   "source": [
    "What will the value of `more_atoms` be?"
   ]
  },
  {
   "cell_type": "code",
   "execution_count": null,
   "metadata": {},
   "outputs": [],
   "source": [
    "# how many more_atoms?\n",
    "\n"
   ]
  }
 ],
 "metadata": {
  "kernelspec": {
   "display_name": "Python 3",
   "language": "python",
   "name": "python3"
  },
  "language_info": {
   "codemirror_mode": {
    "name": "ipython",
    "version": 3
   },
   "file_extension": ".py",
   "mimetype": "text/x-python",
   "name": "python",
   "nbconvert_exporter": "python",
   "pygments_lexer": "ipython3",
   "version": "3.7.6"
  }
 },
 "nbformat": 4,
 "nbformat_minor": 2
}
