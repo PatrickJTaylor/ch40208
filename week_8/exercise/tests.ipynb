{
 "cells": [
  {
   "cell_type": "code",
   "execution_count": null,
   "metadata": {},
   "outputs": [],
   "source": [
    "import numpy as np"
   ]
  },
  {
   "cell_type": "markdown",
   "metadata": {},
   "source": [
    "### Problem 1\n",
    "\n",
    "The first function should produce the energy of a photon given a particular wavenumber. Note that the speed of light and Planck's constant are imported from the `scipy.constants` library as `c` and `h` respectively.\n",
    "\n",
    "Remember, \n",
    "\n",
    "$$E = hc\\bar{\\nu}$$"
   ]
  },
  {
   "cell_type": "code",
   "execution_count": null,
   "metadata": {},
   "outputs": [],
   "source": [
    "from functions import energy"
   ]
  },
  {
   "cell_type": "code",
   "execution_count": null,
   "metadata": {},
   "outputs": [],
   "source": [
    "np.testing.assert_almost_equal(energy(5.03411665e24), 1)\n",
    "print('Test 1 for Problem 1 Passed!')\n",
    "np.testing.assert_almost_equal(energy(755117497.6671815), 1.5e-16)\n",
    "print('Test 2 for Problem 1 Passed!')\n",
    "np.testing.assert_almost_equal(energy(5.663381232503861e+28), 1.125e4)\n",
    "print('Test 3 for Problem 1 Passed!')"
   ]
  },
  {
   "cell_type": "markdown",
   "metadata": {},
   "source": [
    "### Problem 2\n",
    "\n",
    "The second function should be able to determine the volume of a system (assuming the gas is ideal) given the number of moles of gas $n$, the temperature $T$ and the pressure $p$. Again the ideal gas constant is imported for you as `R`.\n",
    "\n",
    "Remember, \n",
    "\n",
    "$$pV = nRT$$"
   ]
  },
  {
   "cell_type": "code",
   "execution_count": null,
   "metadata": {
    "scrolled": true
   },
   "outputs": [],
   "source": [
    "from functions import ideal_gas_law"
   ]
  },
  {
   "cell_type": "code",
   "execution_count": null,
   "metadata": {},
   "outputs": [],
   "source": [
    "np.testing.assert_almost_equal(ideal_gas_law(100, 100, 101325), 0.82057338)\n",
    "print('Test 1 for Problem 2 Passed!')\n",
    "np.testing.assert_almost_equal(ideal_gas_law(1, 500, 10132500), 4.10286691e-04)\n",
    "print('Test 2 for Problem 2 Passed!')\n",
    "np.testing.assert_raises(ValueError, ideal_gas_law, 1, -1, 10)\n",
    "print('Test 3 for Problem 2 Passed!')"
   ]
  },
  {
   "cell_type": "markdown",
   "metadata": {},
   "source": [
    "### Problem 3\n",
    "\n",
    "This function should return the allowed values of the angular momentum quantum number $l$, given a particular principal quantum number $n$.\n",
    "\n",
    "Remember, \n",
    "\n",
    "$$ 0 \\le l \\le n - 1 $$"
   ]
  },
  {
   "cell_type": "code",
   "execution_count": null,
   "metadata": {},
   "outputs": [],
   "source": [
    "from functions import allowed_angular_momentum_quantum_numbers"
   ]
  },
  {
   "cell_type": "code",
   "execution_count": null,
   "metadata": {},
   "outputs": [],
   "source": [
    "np.testing.assert_equal(allowed_angular_momentum_quantum_numbers(3), [0, 1, 2])\n",
    "print('Test 1 for Problem 3 Passed!')\n",
    "np.testing.assert_equal(allowed_angular_momentum_quantum_numbers(6), [0, 1, 2, 3, 4, 5])\n",
    "print('Test 2 for Problem 3 Passed!')\n",
    "np.testing.assert_raises(ValueError, allowed_angular_momentum_quantum_numbers, 0)\n",
    "print('Test 3 for Problem 3 Passed!')\n",
    "np.testing.assert_raises(TypeError, allowed_angular_momentum_quantum_numbers, 1.5)\n",
    "print('Test 4 for Problem 3 Passed!')"
   ]
  },
  {
   "cell_type": "markdown",
   "metadata": {},
   "source": [
    "### Problem 4\n",
    "\n",
    "This function should return the rate constants $k$ for a reaction with a given activation energy $E_a$ and pre-exponential factor $A$, and at a range of temperatures $T$.\n",
    "\n",
    "Remember, \n",
    "\n",
    "$$ k = A \\exp{\\frac{-E_a}{RT}} $$"
   ]
  },
  {
   "cell_type": "code",
   "execution_count": null,
   "metadata": {},
   "outputs": [],
   "source": [
    "from functions import arrhenius_equation"
   ]
  },
  {
   "cell_type": "code",
   "execution_count": null,
   "metadata": {},
   "outputs": [],
   "source": [
    "np.testing.assert_almost_equal(arrhenius_equation(23e10, 24131, 300), 14461992.1514407)\n",
    "print('Test 1 for Problem 4 Passed!')\n",
    "np.testing.assert_almost_equal(arrhenius_equation(29, 10, np.array([6, 26, 226])), \n",
    "                               [23.73241504, 27.68905521, 28.8460781])\n",
    "print('Test 2 for Problem 4 Passed!')"
   ]
  },
  {
   "cell_type": "markdown",
   "metadata": {},
   "source": [
    "### Problem 5\n",
    "\n",
    "Write a function to calculate the energy of a Morse potential (this potential is a good model of a chemical bond) at a given set of distances. The functional form of a Morse potential is, \n",
    "\n",
    "$$E(r) = D_e\\{1-\\exp{[-(r-r_e)]}\\}^2 $$\n",
    "\n",
    "where $D_e$ is the dissociation energy, $r$ is the bond length, and $r_e$ is the equilibrium bond length."
   ]
  },
  {
   "cell_type": "code",
   "execution_count": null,
   "metadata": {},
   "outputs": [],
   "source": [
    "from functions import morse"
   ]
  },
  {
   "cell_type": "code",
   "execution_count": null,
   "metadata": {},
   "outputs": [],
   "source": [
    "np.testing.assert_almost_equal(morse(4.52, np.linspace(0.5, 1, 10), 0.74), \n",
    "                               [0.332564 , 0.1854401, 0.0855355, 0.0261688, \n",
    "                                0.0014542, 0.0062124, 0.0358916, 0.0864975, \n",
    "                                0.1545298, 0.2369265])\n",
    "print('Test 1 for Problem 5 Passed!')\n",
    "np.testing.assert_almost_equal(morse(0.59, 5, 1.5), 0.5549050979213414)\n",
    "print('Test 2 for Problem 5 Passed!')"
   ]
  },
  {
   "cell_type": "code",
   "execution_count": null,
   "metadata": {},
   "outputs": [],
   "source": []
  }
 ],
 "metadata": {
  "kernelspec": {
   "display_name": "Python 3",
   "language": "python",
   "name": "python3"
  },
  "language_info": {
   "codemirror_mode": {
    "name": "ipython",
    "version": 3
   },
   "file_extension": ".py",
   "mimetype": "text/x-python",
   "name": "python",
   "nbconvert_exporter": "python",
   "pygments_lexer": "ipython3",
   "version": "3.7.3"
  }
 },
 "nbformat": 4,
 "nbformat_minor": 2
}
