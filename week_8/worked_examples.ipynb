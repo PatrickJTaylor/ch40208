{
 "cells": [
  {
   "cell_type": "markdown",
   "metadata": {},
   "source": [
    "# Worked Examples\n",
    "\n",
    "### Dr Andrew McCluskey \n",
    "\n",
    "#### Email: [andrew.mccluskey@diamond.ac.uk](mailto:andrew.mccluskey@diamond.ac.uk)\n",
    "\n",
    "It is important to note that those represent only an example of how the problem in the handout may be approached. \n",
    "Programming problems such as these have **many** correct methods.\n",
    "\n",
    "We **strongly** advise that you try and work though the problem without looking at this worked example. \n",
    "This is the best way to improve your programming skills; as programming is inherently problem-solving based. \n",
    "\n",
    "## Problem 1: Interatomic distances\n",
    "\n",
    "#### Spec \n",
    "\n",
    "From your week 2 code, or from scratch, write a new version of the interatomic distance code that solve the problem using `numpy` arrays and `np.dot`. \n",
    "\n",
    "#### Algorithm\n",
    "\n",
    "1. Import `numpy` and `sqrt`\n",
    "2. Read the atoms in using `np.loadtxt`\n",
    "3. Loop through each **pair** of atoms (this will require a double *nested* loop)\n",
    "4. For each pair, calculate the distance, using `np.dot`\n",
    "5. Print the distance between the pair of atoms"
   ]
  },
  {
   "cell_type": "code",
   "execution_count": null,
   "metadata": {},
   "outputs": [],
   "source": [
    "import numpy as np"
   ]
  },
  {
   "cell_type": "code",
   "execution_count": null,
   "metadata": {},
   "outputs": [],
   "source": [
    "atoms = np.loadtxt('molecule2.txt', unpack=False)"
   ]
  },
  {
   "cell_type": "code",
   "execution_count": null,
   "metadata": {},
   "outputs": [],
   "source": [
    "for i in range(0, len(atoms)):\n",
    "    for j in range(0, len(atoms)):\n",
    "        distance = np.sqrt(np.dot(atoms[i] - atoms[j], atoms[i] - atoms[j]))\n",
    "        print('The distance between atom {} and atom {} is {:.2f} Ångstrom'.format(i, j, distance))"
   ]
  },
  {
   "cell_type": "markdown",
   "metadata": {},
   "source": [
    "## Problem 2: Molecular rotation\n",
    "\n",
    "#### Spec \n",
    "\n",
    "From your week 4 code, or from scratch, write a new version of the molecular rotation code that solves the problem using `numpy` arrays and `np.matmul`. \n",
    "\n",
    "#### Algorithm\n",
    "\n",
    "1. Import `numpy`\n",
    "2. Define a function that will produce the rotation matrix\n",
    "3. Read in the positions for the `water.txt` file\n",
    "4. Perform the rotation by matrix multiplying the `x` and `y` coordinates by the rotation matrix\n",
    "5. Import the visualisation helper\n",
    "6. Visualise the molecule before and after rotation"
   ]
  },
  {
   "cell_type": "code",
   "execution_count": null,
   "metadata": {},
   "outputs": [],
   "source": [
    "import numpy"
   ]
  },
  {
   "cell_type": "code",
   "execution_count": null,
   "metadata": {},
   "outputs": [],
   "source": [
    "def rotation_matrix(angle):\n",
    "    \"\"\"\n",
    "    Produces the appropriate rotation matrix\n",
    "    \n",
    "    Args: \n",
    "        angle (float): the angle (in degrees)\n",
    "                       by which to perform the \n",
    "                       rotation\n",
    "    Returns:\n",
    "        array: rotation matrix\n",
    "    \"\"\"\n",
    "    rad = np.deg2rad(angle)\n",
    "    return np.array([[np.cos(rad), -np.sin(angle)],\n",
    "                     [np.sin(rad), np.cos(rad)]])"
   ]
  },
  {
   "cell_type": "code",
   "execution_count": null,
   "metadata": {},
   "outputs": [],
   "source": [
    "x, y, z = np.loadtxt('water.txt', unpack=True)"
   ]
  },
  {
   "cell_type": "code",
   "execution_count": null,
   "metadata": {},
   "outputs": [],
   "source": [
    "new_array = np.matmul(rotation_matrix(90), np.array([x, y]))\n",
    "x_new = new_array[0]\n",
    "y_new = new_array[1]"
   ]
  },
  {
   "cell_type": "code",
   "execution_count": null,
   "metadata": {},
   "outputs": [],
   "source": [
    "import visualisation as vis"
   ]
  },
  {
   "cell_type": "code",
   "execution_count": null,
   "metadata": {},
   "outputs": [],
   "source": [
    "vis.show(x, y)"
   ]
  },
  {
   "cell_type": "code",
   "execution_count": null,
   "metadata": {},
   "outputs": [],
   "source": [
    "vis.show(x_new, y_new)"
   ]
  },
  {
   "cell_type": "code",
   "execution_count": null,
   "metadata": {},
   "outputs": [],
   "source": []
  }
 ],
 "metadata": {
  "kernelspec": {
   "display_name": "Python 3",
   "language": "python",
   "name": "python3"
  },
  "language_info": {
   "codemirror_mode": {
    "name": "ipython",
    "version": 3
   },
   "file_extension": ".py",
   "mimetype": "text/x-python",
   "name": "python",
   "nbconvert_exporter": "python",
   "pygments_lexer": "ipython3",
   "version": "3.7.3"
  }
 },
 "nbformat": 4,
 "nbformat_minor": 2
}
