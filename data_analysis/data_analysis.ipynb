{
 "cells": [
  {
   "cell_type": "markdown",
   "metadata": {},
   "source": [
    "# Data Analysis with Python \n",
    "\n",
    "## Dr Andrew McCluskey \n",
    "\n",
    "#### Email: andrew.mccluskey@diamond.ac.uk\n",
    "\n",
    "It is important to note that those represent only an example of how the exercise may be approached. Programming problems such as these have **many** correct methods.\n",
    "\n",
    "We **strongly** advise that you try and work though the exercise without looking at this worked example. This is the best way to improve your programming skills; as programming is inherently problem-solving based."
   ]
  },
  {
   "cell_type": "markdown",
   "metadata": {},
   "source": [
    "#### Importing necessary libraries \n",
    "\n",
    "Here we import the libraries that are necessary to complete the exercise."
   ]
  },
  {
   "cell_type": "code",
   "execution_count": null,
   "metadata": {},
   "outputs": [],
   "source": [
    "import numpy as np \n",
    "import matplotlib.pyplot as plt"
   ]
  },
  {
   "cell_type": "markdown",
   "metadata": {},
   "source": [
    "#### Reading in and plotting experimental data\n",
    "\n",
    "`np.loadtxt` is used to read in the model datasets and these are then plotted."
   ]
  },
  {
   "cell_type": "code",
   "execution_count": null,
   "metadata": {},
   "outputs": [],
   "source": [
    "toluene = np.loadtxt('./toluene.csv', unpack=True, delimiter=',')\n",
    "plt.errorbar(toluene[0], toluene[1])\n",
    "plt.xlabel('Wavennumber/cm$^{-1}$')\n",
    "plt.ylabel('Transmittance')\n",
    "plt.show()"
   ]
  },
  {
   "cell_type": "code",
   "execution_count": null,
   "metadata": {},
   "outputs": [],
   "source": [
    "benzyl_alcohol = np.loadtxt('./benzyl_alcohol.csv', unpack=True, delimiter=',')\n",
    "plt.errorbar(benzyl_alcohol[0], benzyl_alcohol[1])\n",
    "plt.xlabel('Wavennumber/cm$^{-1}$')\n",
    "plt.ylabel('Transmittance')\n",
    "plt.show()"
   ]
  },
  {
   "cell_type": "markdown",
   "metadata": {},
   "source": [
    "The same function is then used to read in the experimentally measured data, however now the data includes an experimental uncertainty therefore the `plt.errorbar` function is used for visualisation."
   ]
  },
  {
   "cell_type": "code",
   "execution_count": null,
   "metadata": {},
   "outputs": [],
   "source": [
    "mixture = np.loadtxt('./mixture.csv', unpack=True, delimiter=',')\n",
    "plt.errorbar(mixture[0], mixture[1], mixture[2])\n",
    "plt.xlabel('Wavennumber/cm$^{-1}$')\n",
    "plt.ylabel('Transmittance')\n",
    "plt.show()"
   ]
  },
  {
   "cell_type": "markdown",
   "metadata": {},
   "source": [
    "#### Interpolation\n",
    "\n",
    "First we assess the minimum and maximum on the $x$-axis for for each of the datasets to ensure that the the mixture data is within the model datsets."
   ]
  },
  {
   "cell_type": "code",
   "execution_count": null,
   "metadata": {
    "scrolled": true
   },
   "outputs": [],
   "source": [
    "print(\"Model 1: min = {:.1f} cm-1, max = {:.1f} cm-1\".format(np.min(benzyl_alcohol[0]), np.max(benzyl_alcohol[0])))\n",
    "print(\"Model 2: min = {:.1f} cm-1, max = {:.1f} cm-1\".format(np.min(toluene[0]), np.max(toluene[0])))\n",
    "print(\"Mixture: min = {:.1f} cm-1, max = {:.1f} cm-1\".format(np.min(mixture[0]), np.max(mixture[0])))"
   ]
  },
  {
   "cell_type": "markdown",
   "metadata": {},
   "source": [
    "The interpolation axis is then defined. "
   ]
  },
  {
   "cell_type": "code",
   "execution_count": null,
   "metadata": {},
   "outputs": [],
   "source": [
    "optimisation_x = mixture[0]"
   ]
  },
  {
   "cell_type": "markdown",
   "metadata": {},
   "source": [
    "The two model datatsets are then interpolated using the above defined axis. A new pair of arrays are then created for the two models, to be used in the optimisation of the model."
   ]
  },
  {
   "cell_type": "code",
   "execution_count": null,
   "metadata": {},
   "outputs": [],
   "source": [
    "interp_benzyl_alcohol = np.interp(optimisation_x, benzyl_alcohol[0], benzyl_alcohol[1])\n",
    "interp_toulene = np.interp(optimisation_x, toluene[0], toluene[1])\n",
    "\n",
    "opt_benzyl_alcohol = np.array([optimisation_x, interp_benzyl_alcohol])\n",
    "opt_toluene = np.array([optimisation_x, interp_toulene])"
   ]
  },
  {
   "cell_type": "markdown",
   "metadata": {},
   "source": [
    "These new arrays are then plotted to check that they appear correct. "
   ]
  },
  {
   "cell_type": "code",
   "execution_count": null,
   "metadata": {},
   "outputs": [],
   "source": [
    "plt.errorbar(opt_toluene[0], opt_toluene[1])\n",
    "plt.errorbar(opt_benzyl_alcohol[0], opt_benzyl_alcohol[1])\n",
    "plt.xlabel('Wavennumber/cm$^{-1}$')\n",
    "plt.ylabel('Transmittance')\n",
    "plt.show()"
   ]
  },
  {
   "cell_type": "markdown",
   "metadata": {},
   "source": [
    "#### Fitting real data\n",
    "\n",
    "We can now synthesize the model data for the mixture from the individual components."
   ]
  },
  {
   "cell_type": "code",
   "execution_count": null,
   "metadata": {},
   "outputs": [],
   "source": [
    "def model(c, T1, T2):\n",
    "    \"\"\"\n",
    "    The model function.\n",
    "    \n",
    "    Args:\n",
    "        c (float): The relative concentration of the \n",
    "            two components of the mixture.\n",
    "        T1 (array_like, float): The transmittance of \n",
    "            component 1.\n",
    "        T2 (array_like, float): The transmittance of \n",
    "            component 2.\n",
    "    \n",
    "    Returns:\n",
    "        array_like, float: The transmittance of the \n",
    "            mixture.\n",
    "    \"\"\"\n",
    "    return c * T1 + (1 - c) * T2"
   ]
  },
  {
   "cell_type": "code",
   "execution_count": null,
   "metadata": {},
   "outputs": [],
   "source": [
    "plt.errorbar(mixture[0], mixture[1], mixture[2])\n",
    "plt.errorbar(optimisation_x, model(0.5, opt_toluene[1], opt_benzyl_alcohol[1]))\n",
    "plt.xlabel('Wavennumber/cm$^{-1}$')\n",
    "plt.ylabel('Transmittance')\n",
    "plt.show()"
   ]
  },
  {
   "cell_type": "markdown",
   "metadata": {},
   "source": [
    "The goodness-of-fit metric can also be defined. "
   ]
  },
  {
   "cell_type": "code",
   "execution_count": null,
   "metadata": {},
   "outputs": [],
   "source": [
    "def goodness_of_fit(c, T1, T2, exp_T, dexp_T):\n",
    "    \"\"\"\n",
    "    The goodness-of-fit metric between the model \n",
    "    and experimental data. \n",
    "    \n",
    "    Args:\n",
    "        c (float): The relative concentration of the \n",
    "            two components of the mixture.\n",
    "        T1 (array_like, float): The transmittance of \n",
    "            component 1.\n",
    "        T2 (array_like, float): The transmittance of \n",
    "            component 2.\n",
    "        exp_T (array_like, float): The transmittance \n",
    "            of the mixture.\n",
    "        dexp_T (array_like, float): The uncertainty in \n",
    "            transmittance of the mixture.\n",
    "    \n",
    "    Returns:\n",
    "        float: The value of the chi-squared \n",
    "            goodness-of-fit                      \n",
    "    \"\"\"\n",
    "    mod = model(c, T1, T2)\n",
    "    chi_squared = np.sum(np.square((\n",
    "        mod - exp_T) / dexp_T))\n",
    "    return chi_squared"
   ]
  },
  {
   "cell_type": "markdown",
   "metadata": {},
   "source": [
    "We can then minimise the function above to obtain the best agreement between the model and the experimental data. "
   ]
  },
  {
   "cell_type": "code",
   "execution_count": null,
   "metadata": {},
   "outputs": [],
   "source": [
    "from scipy.optimize import minimize\n",
    "result = minimize(chi, 0.5, args=(opt_toluene[1], opt_benzyl_alcohol[1], mixture[1], mixture[2]))"
   ]
  },
  {
   "cell_type": "markdown",
   "metadata": {},
   "source": [
    "We can plot this to observe the similarity. "
   ]
  },
  {
   "cell_type": "code",
   "execution_count": null,
   "metadata": {},
   "outputs": [],
   "source": [
    "plt.errorbar(mixture[0], mixture[1], mixture[2])\n",
    "plt.errorbar(optimisation_x, model(result.x, opt_toluene[1], opt_benzyl_alcohol[1]))\n",
    "plt.xlabel('Wavennumber/cm$^{-1}$')\n",
    "plt.ylabel('Transmittance')\n",
    "plt.show()"
   ]
  },
  {
   "cell_type": "markdown",
   "metadata": {},
   "source": [
    "#### Markov chain Monte Carlo\n",
    "\n",
    "Now we defined the MCMC algorithm. "
   ]
  },
  {
   "cell_type": "code",
   "execution_count": null,
   "metadata": {},
   "outputs": [],
   "source": [
    "def mcmc(c, model, step_size, iterations, model1, model2, exp):\n",
    "    \"\"\"\n",
    "    An implementation of the MCMC algorithm.\n",
    "    \n",
    "    Args:\n",
    "        theta (float): The initial guess of the \n",
    "            best fit.\n",
    "        model (function): The funciton used to find \n",
    "            model transmittance.\n",
    "        step_size (float): The size of the pertubation.\n",
    "        iterations (int): The number of iterations to be \n",
    "            performed.\n",
    "        model1 (array_like, float): The y-axis data for model 1.\n",
    "        model2 (array_like, float): The y-axis data for model 2.\n",
    "        exp (array_like, float): The experimental data (x-, y-, \n",
    "            and dy-axes).\n",
    "    \n",
    "    Returns:\n",
    "        array_like, float: An array of all of the allowing values \n",
    "            for c.\n",
    "    \"\"\"\n",
    "    accepted = []\n",
    "    chi_squared =  goodness_of_fit(c, model1, model2, exp[1], exp[2])\n",
    "    for i in range(0, iterations):\n",
    "        perturbation = step_size * np.random.randn() * c\n",
    "        new_c = c + perturbation\n",
    "        new_chi_squared =  goodness_of_fit(new_c, model1, model2, \n",
    "                                           exp[1], exp[2])\n",
    "        p = np.exp((-new_chi_squared + chi_squared) / 2)\n",
    "        n = np.random.random()\n",
    "        if n < p:\n",
    "            c = new_c\n",
    "            chi_squared = new_chi_squared\n",
    "            accepted.append(c)\n",
    "    return np.array(accepted)"
   ]
  },
  {
   "cell_type": "markdown",
   "metadata": {},
   "source": [
    "It is then possible to run the above algorithm, plot the histogram of the allowed values and print the relative concentration with an uncertainty. "
   ]
  },
  {
   "cell_type": "code",
   "execution_count": null,
   "metadata": {
    "scrolled": false
   },
   "outputs": [],
   "source": [
    "allowed_c = mcmc(result.x[0], model, 0.001, 10000, opt_toluene[1], opt_benzyl_alcohol[1], mixture)"
   ]
  },
  {
   "cell_type": "code",
   "execution_count": null,
   "metadata": {},
   "outputs": [],
   "source": [
    "plt.hist(allowed_c, density=True)\n",
    "plt.xlabel('Relative concentration')\n",
    "plt.ylabel('Relative probability')\n",
    "plt.show()"
   ]
  },
  {
   "cell_type": "code",
   "execution_count": null,
   "metadata": {},
   "outputs": [],
   "source": [
    "print(\"The relative concentation is {:.3f} +/- {:.3f}.\".format(\n",
    "    np.mean(allowed_c), np.std(allowed_c)))"
   ]
  },
  {
   "cell_type": "code",
   "execution_count": null,
   "metadata": {},
   "outputs": [],
   "source": []
  }
 ],
 "metadata": {
  "file_extension": ".py",
  "kernelspec": {
   "display_name": "Python 3",
   "language": "python",
   "name": "python3"
  },
  "language_info": {
   "codemirror_mode": {
    "name": "ipython",
    "version": 3
   },
   "file_extension": ".py",
   "mimetype": "text/x-python",
   "name": "python",
   "nbconvert_exporter": "python",
   "pygments_lexer": "ipython3",
   "version": "3.7.3"
  },
  "mimetype": "text/x-python",
  "name": "python",
  "npconvert_exporter": "python",
  "pygments_lexer": "ipython3",
  "version": 3
 },
 "nbformat": 4,
 "nbformat_minor": 2
}
