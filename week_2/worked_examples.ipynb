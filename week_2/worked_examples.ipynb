{
 "cells": [
  {
   "cell_type": "markdown",
   "metadata": {},
   "source": [
    "# Worked Examples\n",
    "\n",
    "### Dr Andrew McCluskey \n",
    "\n",
    "#### Email: [andrew.mccluskey@diamond.ac.uk](mailto:andrew.mccluskey@diamond.ac.uk)\n",
    "\n",
    "It is important to note that those represent only an example of how the problem in the handout may be approached. \n",
    "Programming problems such as these have **many** correct methods.\n",
    "\n",
    "We **strongly** advise that you try and work though the problem without looking at this worked example. \n",
    "This is the best way to improve your programming skills; as programming is inherently problem-solving based. \n",
    "\n",
    "## Problem 1: Interatomic distances\n",
    "\n",
    "#### Spec \n",
    "\n",
    "Write some code that can read in the `molecule1.txt` or `molecule2.txt` files available from Moodle and evaluate the distances between each pair of atoms in the molecule.\n",
    "\n",
    "#### Algorithm\n",
    "\n",
    "1. Import `numpy` and `sqrt`\n",
    "2. Read the x, y, and z coordinates in using `np.loadtxt`\n",
    "3. Loop through each **pair** of atoms (this will require a double *nested* loop)\n",
    "4. For each pair, calculate the distance\n",
    "5. Print the distance between the pair of atoms"
   ]
  },
  {
   "cell_type": "code",
   "execution_count": 1,
   "metadata": {},
   "outputs": [],
   "source": [
    "import numpy as np\n",
    "from math import sqrt"
   ]
  },
  {
   "cell_type": "markdown",
   "metadata": {},
   "source": [
    "You need to have `unpack=True` such that the columns are read in and not the rows. "
   ]
  },
  {
   "cell_type": "code",
   "execution_count": 2,
   "metadata": {},
   "outputs": [],
   "source": [
    "x, y, z = np.loadtxt('molecule2.txt', unpack=True)"
   ]
  },
  {
   "cell_type": "code",
   "execution_count": 3,
   "metadata": {},
   "outputs": [
    {
     "name": "stdout",
     "output_type": "stream",
     "text": [
      "The distance between atom 0 and atom 0 is 0.00 Ångstrom\n",
      "The distance between atom 0 and atom 1 is 1.14 Ångstrom\n",
      "The distance between atom 0 and atom 2 is 2.28 Ångstrom\n",
      "The distance between atom 1 and atom 0 is 1.14 Ångstrom\n",
      "The distance between atom 1 and atom 1 is 0.00 Ångstrom\n",
      "The distance between atom 1 and atom 2 is 1.14 Ångstrom\n",
      "The distance between atom 2 and atom 0 is 2.28 Ångstrom\n",
      "The distance between atom 2 and atom 1 is 1.14 Ångstrom\n",
      "The distance between atom 2 and atom 2 is 0.00 Ångstrom\n"
     ]
    }
   ],
   "source": [
    "for i in range(0, len(x)):\n",
    "    for j in range(0, len(x)):\n",
    "        distance = sqrt((x[i] - x[j]) ** 2 + (y[i] - y[j]) ** 2 + (z[i] - z[j]) ** 2)\n",
    "        print('The distance between atom {} and atom {} is {:.2f} Ångstrom'.format(i, j, distance))"
   ]
  },
  {
   "cell_type": "markdown",
   "metadata": {},
   "source": [
    "`molecule1.txt` is bent (the distance between atoms 0 and 1 and 1 and 2 **is not** twice that of the distance between atoms 0 and 2).\n",
    "`molecule2.txt` is linear (the distance between atoms 0 and 1 and 1 and 2 **is** twice that of the distance between atoms 0 and 2).\n",
    "\n",
    "## Extension: molecule 1"
   ]
  },
  {
   "cell_type": "code",
   "execution_count": null,
   "metadata": {},
   "outputs": [],
   "source": [
    "a = 0.95\n",
    "b = 1.57\n",
    "c = 0.94"
   ]
  },
  {
   "cell_type": "markdown",
   "metadata": {},
   "source": [
    "Not that the `np.arccos` function will return an angle in radians, so we convert it to degrees using `np.rad2deg`."
   ]
  },
  {
   "cell_type": "code",
   "execution_count": null,
   "metadata": {},
   "outputs": [],
   "source": [
    "A = np.rad2deg(np.arccos((b ** 2 + c ** 2 - a ** 2) / (2 * b * c)))\n",
    "B = np.rad2deg(np.arccos((a ** 2 + c ** 2 - b ** 2) / (2 * a * c)))\n",
    "C = np.rad2deg(np.arccos((b ** 2 + a ** 2 - c ** 2) / (2 * b * a)))\n",
    "print(A, B, C)"
   ]
  },
  {
   "cell_type": "markdown",
   "metadata": {},
   "source": [
    "From considering the bond lengths and angles, the structure of molecule 1 is similar to that of water; OH bonds length ~0.95 Å and H-O-H angle of ~119<sup>o</sup>. "
   ]
  },
  {
   "cell_type": "markdown",
   "metadata": {},
   "source": [
    "## Extension: molecule 2"
   ]
  },
  {
   "cell_type": "code",
   "execution_count": null,
   "metadata": {},
   "outputs": [],
   "source": [
    "a = 1.14\n",
    "b = 2.28\n",
    "c = 1.14"
   ]
  },
  {
   "cell_type": "code",
   "execution_count": null,
   "metadata": {},
   "outputs": [],
   "source": [
    "A = np.rad2deg(np.arccos((b ** 2 + c ** 2 - a ** 2) / (2 * b * c)))\n",
    "B = np.rad2deg(np.arccos((a ** 2 + c ** 2 - b ** 2) / (2 * a * c)))\n",
    "C = np.rad2deg(np.arccos((b ** 2 + a ** 2 - c ** 2) / (2 * b * a)))\n",
    "print(A, B, C)"
   ]
  },
  {
   "cell_type": "markdown",
   "metadata": {},
   "source": [
    "From considering the bond lengths and angles, the structure of molecule 1 is similar to that of carbon dioxide; C=O  bonds length ~1.15 Å and O=C=O angle of 180<sup>o</sup>. "
   ]
  },
  {
   "cell_type": "markdown",
   "metadata": {},
   "source": [
    "## Problem 2: Optimisation\n",
    "\n",
    "#### Spec \n",
    "\n",
    "Rewrite the above code, making use of the optimisation (the ability for numpy to do maths on whole arrays simultaneously). \n",
    "\n",
    "#### Algorithm\n",
    "\n",
    "1. Import `numpy`\n",
    "2. Read the x, y, and z coordinates in using `np.loadtxt`, as sets of atoms\n",
    "3. Loop through each **pair** of atoms (this will require a double *nested* loop)\n",
    "4. For each pair, calculate the distance (making use of `np.sqrt`, `np.sum`, `np.square`)\n",
    "5. Print the distance between the pair of atoms"
   ]
  },
  {
   "cell_type": "code",
   "execution_count": null,
   "metadata": {},
   "outputs": [],
   "source": [
    "import numpy as np"
   ]
  },
  {
   "cell_type": "code",
   "execution_count": null,
   "metadata": {},
   "outputs": [],
   "source": [
    "atom0, atom1, atom2 = np.loadtxt('molecule1.txt')"
   ]
  },
  {
   "cell_type": "code",
   "execution_count": null,
   "metadata": {},
   "outputs": [],
   "source": [
    "atoms = np.array([atom0, atom1, atom2])\n",
    "for i in range(0, len(x)):\n",
    "    for j in range(0, len(x)):\n",
    "        distance = np.sqrt(np.sum((atoms[i]-atoms[j]) ** 2))\n",
    "        print('The distance between atom {} and atom {} is {:.2f} Ångstrom'.format(i, j, distance))"
   ]
  }
 ],
 "metadata": {
  "kernelspec": {
   "display_name": "Python 3",
   "language": "python",
   "name": "python3"
  },
  "language_info": {
   "codemirror_mode": {
    "name": "ipython",
    "version": 3
   },
   "file_extension": ".py",
   "mimetype": "text/x-python",
   "name": "python",
   "nbconvert_exporter": "python",
   "pygments_lexer": "ipython3",
   "version": "3.7.3"
  }
 },
 "nbformat": 4,
 "nbformat_minor": 2
}
