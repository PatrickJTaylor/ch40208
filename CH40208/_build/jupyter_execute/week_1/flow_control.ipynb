{
 "cells": [
  {
   "cell_type": "markdown",
   "metadata": {},
   "source": [
    "# Flow control\n",
    "\n",
    "**First, run the cell below and watch the video lecture associated with this topic.**"
   ]
  },
  {
   "cell_type": "code",
   "execution_count": 1,
   "metadata": {},
   "outputs": [
    {
     "data": {
      "image/jpeg": "[encoded data removed]",
      "text/html": [
       "\n",
       "<iframe\n",
       "    width=\"560\"\n",
       "    height=\"315\"\n",
       "    src=\"https://www.youtube.com/embed/qZxhnHJxF08\"\n",
       "    frameborder=\"0\"\n",
       "    allowfullscreen\n",
       "></iframe>\n"
      ],
      "text/plain": [
       "<IPython.lib.display.YouTubeVideo at 0x7fc651d75910>"
      ]
     },
     "execution_count": 1,
     "metadata": {
      "filenames": {
       "image/jpeg": "/Users/lno76132/work/teaching/ch40208/CH40208/_build/jupyter_execute/week_1/flow_control_1_0.jpg"
      }
     },
     "output_type": "execute_result"
    }
   ],
   "source": [
    "from IPython.display import YouTubeVideo\n",
    "\n",
    "YouTubeVideo('qZxhnHJxF08', width=560, height=315)"
   ]
  },
  {
   "cell_type": "markdown",
   "metadata": {},
   "source": [
    "In order to make your code \"intelligent\" it is important that the code can make \"decisions\". \n",
    "This is achieved through a broad tool known as *flow control*, where different keywords are used to control the flow fo the program depending on certain values. \n",
    "\n",
    "The `if` statement is one of the simplest, and most powerful, operations that Python can perform.  \n",
    "It allows the code to apply different operations *if* certain conditions are met. \n",
    "An example of a Pythonic *if statement* is shown below. "
   ]
  },
  {
   "cell_type": "code",
   "execution_count": 2,
   "metadata": {},
   "outputs": [
    {
     "name": "stdout",
     "output_type": "stream",
     "text": [
      "Group 1 or 2\n"
     ]
    }
   ],
   "source": [
    "# the if operator\n",
    "\n",
    "highest_occupied_molecular_orbital = 's'\n",
    "\n",
    "if highest_occupied_molecular_orbital == 's':\n",
    "    print('Group 1 or 2')"
   ]
  },
  {
   "cell_type": "markdown",
   "metadata": {},
   "source": [
    "In the Python language, the whitespace/indentation following the `:` is extremely important, it indicates what **is** and what **is not** part of the if statement. \n",
    "We will see more of this whitespace in other examples. \n",
    "The above codes askes the question, \"does the variable `highest_occupied_molecular_orbital` have a value `'s'` ? If it does, print the string `'Group 1 or 2'`\".\n",
    "\n",
    "The `if` statement may be used in a more extended context, such as if the *logical arguement* in the if statement is not `True`, then `else` can be included (or even `elif`), as is shown below. "
   ]
  },
  {
   "cell_type": "code",
   "execution_count": 3,
   "metadata": {},
   "outputs": [
    {
     "name": "stdout",
     "output_type": "stream",
     "text": [
      "Group 1 or 2\n"
     ]
    }
   ],
   "source": [
    "# the other orbitals\n",
    "\n",
    "if highest_occupied_molecular_orbital == 's':\n",
    "    print('Group 1 or 2')\n",
    "elif highest_occupied_molecular_orbital == 'p':\n",
    "    print('Group 13 to 17')\n",
    "elif highest_occupied_molecular_orbital == 'd':\n",
    "    print('Transition metal')\n",
    "elif highest_occupied_molecular_orbital == 'f':\n",
    "    print('Lanthanide or actinide')\n",
    "else:\n",
    "    print('We only accept experimentally measured elements')"
   ]
  },
  {
   "cell_type": "markdown",
   "metadata": {},
   "source": [
    "In the above code, the following sequence of questions is considered:\n",
    "\n",
    "- Does `highest_occupied_molecular_orbital` have the value `'s'`? If yes print `'Group 1 or 2'` else go to the next step.\n",
    "- Does `highest_occupied_molecular_orbital` have the value `'p'`? If yes print `'Group 13 or 17'` else go to the next step.\n",
    "- Does `highest_occupied_molecular_orbital` have the value `'d'`? If yes print `'Transition metal'` else go to the next step.\n",
    "- Does `highest_occupied_molecular_orbital` have the value `'f'`? If yes print `'Lanthanide or actinide'` else go to the next step.\n",
    "- You have exhausted the discovered ground state orbitals (and probably your own patience!), print some explaination. "
   ]
  }
 ],
 "metadata": {
  "kernelspec": {
   "display_name": "Python 3",
   "language": "python",
   "name": "python3"
  },
  "language_info": {
   "codemirror_mode": {
    "name": "ipython",
    "version": 3
   },
   "file_extension": ".py",
   "mimetype": "text/x-python",
   "name": "python",
   "nbconvert_exporter": "python",
   "pygments_lexer": "ipython3",
   "version": "3.7.6"
  }
 },
 "nbformat": 4,
 "nbformat_minor": 2
}