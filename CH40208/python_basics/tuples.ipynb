{
 "cells": [
  {
   "cell_type": "markdown",
   "id": "ee784ed9-a393-48d3-8de1-ad85899c2e13",
   "metadata": {},
   "source": [
    "# Tuples\n",
    "\n",
    "The **immutable** cousin of the list is a **tuple**, a tuple acts in many ways the same as a tuple (such as indexing). However, the elements of a tuple cannot change once the object is defined. Let's look at how a tuple is defined."
   ]
  },
  {
   "cell_type": "code",
   "execution_count": 1,
   "id": "abf5dca2-a0bb-427a-a86b-7e749bf6326f",
   "metadata": {},
   "outputs": [],
   "source": [
    "noble_gases = ('helium', 'neon', 'argon', 'krypton', 'xenon', 'radon')"
   ]
  },
  {
   "cell_type": "markdown",
   "id": "488221f2-6780-41c5-b2ec-dd70a303b2ff",
   "metadata": {},
   "source": [
    "Above is a tuple of noble gases, where the tuple is defined using round brackets."
   ]
  },
  {
   "cell_type": "code",
   "execution_count": 2,
   "id": "d34aaa54-fc20-40fd-893b-6f2f34122a55",
   "metadata": {},
   "outputs": [
    {
     "data": {
      "text/plain": [
       "tuple"
      ]
     },
     "execution_count": 2,
     "metadata": {},
     "output_type": "execute_result"
    }
   ],
   "source": [
    "type(noble_gases)"
   ]
  },
  {
   "cell_type": "markdown",
   "id": "20e7ea01-9841-4672-9a3f-6fcfb3fd825f",
   "metadata": {},
   "source": [
    "Like with lists, we can use the index notation to identify particular elements in the tuple."
   ]
  },
  {
   "cell_type": "code",
   "execution_count": 3,
   "id": "9ee6f094-37fa-42da-9ef5-51711821a011",
   "metadata": {},
   "outputs": [
    {
     "name": "stdout",
     "output_type": "stream",
     "text": [
      "helium\n"
     ]
    }
   ],
   "source": [
    "print(noble_gases[0])"
   ]
  },
  {
   "cell_type": "code",
   "execution_count": 4,
   "id": "765cfad4-90cb-4b1c-84a3-149be2638a34",
   "metadata": {},
   "outputs": [
    {
     "name": "stdout",
     "output_type": "stream",
     "text": [
      "radon\n"
     ]
    }
   ],
   "source": [
    "print(noble_gases[-1])"
   ]
  },
  {
   "cell_type": "markdown",
   "id": "1270b1df-78ea-47e3-9b0e-4cb7d03fc6cc",
   "metadata": {},
   "source": [
    "Above it was mentioned that a tuple is an immutable type, that once created it's objects cannot be altered. We can see this in action if we try and change the value of one of the elements in the tuple."
   ]
  },
  {
   "cell_type": "code",
   "execution_count": 5,
   "id": "4bd1dc89-077c-4b29-9a59-e5d5603c6958",
   "metadata": {},
   "outputs": [
    {
     "ename": "TypeError",
     "evalue": "'tuple' object does not support item assignment",
     "output_type": "error",
     "traceback": [
      "\u001b[0;31m---------------------------------------------------------------------------\u001b[0m",
      "\u001b[0;31mTypeError\u001b[0m                                 Traceback (most recent call last)",
      "\u001b[0;32m<ipython-input-5-22efed8af598>\u001b[0m in \u001b[0;36m<module>\u001b[0;34m\u001b[0m\n\u001b[0;32m----> 1\u001b[0;31m \u001b[0mnoble_gases\u001b[0m\u001b[0;34m[\u001b[0m\u001b[0;36m0\u001b[0m\u001b[0;34m]\u001b[0m \u001b[0;34m=\u001b[0m \u001b[0;34m'Helium'\u001b[0m\u001b[0;34m\u001b[0m\u001b[0;34m\u001b[0m\u001b[0m\n\u001b[0m",
      "\u001b[0;31mTypeError\u001b[0m: 'tuple' object does not support item assignment"
     ]
    }
   ],
   "source": [
    "noble_gases[0] = 'Helium'"
   ]
  },
  {
   "cell_type": "markdown",
   "id": "54934d54-ef36-49c2-9b7f-c5d7fb5d62a9",
   "metadata": {},
   "source": [
    "However, it is still possible to concatenate tuples, like lists, but the item that is being concatentated must be a tuple, hence the brackets and trailing comma."
   ]
  },
  {
   "cell_type": "code",
   "execution_count": 6,
   "id": "8d1f4459-a253-4219-bdab-0b6da0e6f85d",
   "metadata": {},
   "outputs": [
    {
     "data": {
      "text/plain": [
       "('helium', 'neon', 'argon', 'krypton', 'xenon', 'radon', 'oganesson')"
      ]
     },
     "execution_count": 6,
     "metadata": {},
     "output_type": "execute_result"
    }
   ],
   "source": [
    "noble_gases + ('oganesson',)"
   ]
  },
  {
   "cell_type": "markdown",
   "id": "eb734605-05f4-4b4b-ac44-bcba80a8daf5",
   "metadata": {},
   "source": [
    "The immutability of a tuple does not mean that the whole variable cannot be overwritten."
   ]
  },
  {
   "cell_type": "code",
   "execution_count": 7,
   "id": "81110406-a2fe-4d1a-81f6-4b85333b7b88",
   "metadata": {},
   "outputs": [],
   "source": [
    "noble_gases = 'inert'"
   ]
  },
  {
   "cell_type": "code",
   "execution_count": 8,
   "id": "d68c2db2-1e91-46fe-ae66-bfcc93283445",
   "metadata": {},
   "outputs": [
    {
     "name": "stdout",
     "output_type": "stream",
     "text": [
      "inert\n"
     ]
    }
   ],
   "source": [
    "print(noble_gases)"
   ]
  },
  {
   "cell_type": "markdown",
   "id": "5f69885b-0bfc-4bd7-8fb9-ebb3572e1a37",
   "metadata": {},
   "source": [
    "Additionally, like lists, tuple items can also consist of data of different types."
   ]
  }
 ],
 "metadata": {
  "kernelspec": {
   "display_name": "Python 3",
   "language": "python",
   "name": "python3"
  },
  "language_info": {
   "codemirror_mode": {
    "name": "ipython",
    "version": 3
   },
   "file_extension": ".py",
   "mimetype": "text/x-python",
   "name": "python",
   "nbconvert_exporter": "python",
   "pygments_lexer": "ipython3",
   "version": "3.8.8"
  }
 },
 "nbformat": 4,
 "nbformat_minor": 5
}
