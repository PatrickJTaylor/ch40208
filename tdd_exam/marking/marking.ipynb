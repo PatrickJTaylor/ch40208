{
 "cells": [
  {
   "cell_type": "code",
   "execution_count": 1,
   "metadata": {},
   "outputs": [],
   "source": [
    "import numpy as np\n",
    "import matplotlib.pyplot as plt\n",
    "import pandas as pd\n",
    "import glob\n",
    "from os import sep"
   ]
  },
  {
   "cell_type": "code",
   "execution_count": 2,
   "metadata": {},
   "outputs": [
    {
     "data": {
      "text/plain": [
       "'0.25.3'"
      ]
     },
     "execution_count": 2,
     "metadata": {},
     "output_type": "execute_result"
    }
   ],
   "source": [
    "pd.__version__"
   ]
  },
  {
   "cell_type": "code",
   "execution_count": 3,
   "metadata": {},
   "outputs": [],
   "source": [
    "Rand = np.random.RandomState(42)"
   ]
  },
  {
   "cell_type": "code",
   "execution_count": 4,
   "metadata": {},
   "outputs": [],
   "source": [
    "data_dict = {'forename': [], \n",
    "             'surname': []}\n",
    "\n",
    "for i in sorted(glob.glob('scripts/*.py')):\n",
    "    name = i.split(sep)[-1].split('.')[-2].split('_')\n",
    "    data_dict['forename'].append(name[0])\n",
    "    data_dict['surname'].append(name[1])\n",
    "    \n",
    "data = pd.DataFrame(data_dict)\n",
    "data['random'] = Rand.randint(100, 999, size=data.shape[0])"
   ]
  },
  {
   "cell_type": "code",
   "execution_count": 5,
   "metadata": {},
   "outputs": [],
   "source": [
    "data.loc[19, 'random'] = 231\n",
    "data.loc[7, 'random'] = 122"
   ]
  },
  {
   "cell_type": "code",
   "execution_count": 6,
   "metadata": {},
   "outputs": [
    {
     "data": {
      "text/plain": [
       "random    202\n",
       "Name: 0, dtype: object"
      ]
     },
     "execution_count": 6,
     "metadata": {},
     "output_type": "execute_result"
    }
   ],
   "source": [
    "data.iloc[0, 2:]"
   ]
  },
  {
   "cell_type": "code",
   "execution_count": 7,
   "metadata": {},
   "outputs": [],
   "source": [
    "data['question1a'] = np.zeros(data.shape[0], dtype=int)\n",
    "data['question1b'] = np.zeros(data.shape[0], dtype=int)\n",
    "data['question2a'] = np.zeros(data.shape[0], dtype=int)\n",
    "data['question2b'] = np.zeros(data.shape[0], dtype=int)\n",
    "data['question3a'] = np.zeros(data.shape[0], dtype=int)\n",
    "data['question3b'] = np.zeros(data.shape[0], dtype=int)\n",
    "data['question4a'] = np.zeros(data.shape[0], dtype=int)\n",
    "data['question4b'] = np.zeros(data.shape[0], dtype=int)\n",
    "data['question5a'] = np.zeros(data.shape[0], dtype=int)\n",
    "data['question5b'] = np.zeros(data.shape[0], dtype=int)"
   ]
  },
  {
   "cell_type": "markdown",
   "metadata": {},
   "source": [
    "- `a` is the doc strings and code quality \n",
    "- `b` is does it pass the tests"
   ]
  },
  {
   "cell_type": "markdown",
   "metadata": {},
   "source": [
    "### 113"
   ]
  },
  {
   "cell_type": "code",
   "execution_count": 8,
   "metadata": {},
   "outputs": [],
   "source": [
    "row = np.where(data['random'] == 113)[0][0]\n",
    "data.loc[row, 'question{}'.format('1a')] = 2\n",
    "data.loc[row, 'question{}'.format('1b')] = 5\n",
    "data.loc[row, 'question{}'.format('2a')] = 4\n",
    "data.loc[row, 'question{}'.format('2b')] = 4\n",
    "data.loc[row, 'question{}'.format('3a')] = 3\n",
    "data.loc[row, 'question{}'.format('3b')] = 4\n",
    "data.loc[row, 'question{}'.format('4a')] = 3\n",
    "data.loc[row, 'question{}'.format('4b')] = 0\n",
    "data.loc[row, 'question{}'.format('5a')] = 3\n",
    "data.loc[row, 'question{}'.format('5b')] = 2"
   ]
  },
  {
   "cell_type": "code",
   "execution_count": 9,
   "metadata": {},
   "outputs": [
    {
     "data": {
      "text/plain": [
       "(random        113\n",
       " question1a      2\n",
       " question1b      5\n",
       " question2a      4\n",
       " question2b      4\n",
       " question3a      3\n",
       " question3b      4\n",
       " question4a      3\n",
       " question4b      0\n",
       " question5a      3\n",
       " question5b      2\n",
       " Name: 64, dtype: object, 30)"
      ]
     },
     "execution_count": 9,
     "metadata": {},
     "output_type": "execute_result"
    }
   ],
   "source": [
    "data.iloc[row][2:], data.iloc[row][3:].sum()"
   ]
  },
  {
   "cell_type": "markdown",
   "metadata": {},
   "source": [
    "### 120"
   ]
  },
  {
   "cell_type": "code",
   "execution_count": 10,
   "metadata": {},
   "outputs": [],
   "source": [
    "row = np.where(data['random'] == 120)[0][0]\n",
    "data.loc[row, 'question{}'.format('1a')] = 0\n",
    "data.loc[row, 'question{}'.format('1b')] = 5\n",
    "data.loc[row, 'question{}'.format('2a')] = 0\n",
    "data.loc[row, 'question{}'.format('2b')] = 5\n",
    "data.loc[row, 'question{}'.format('3a')] = 0\n",
    "data.loc[row, 'question{}'.format('3b')] = 5\n",
    "data.loc[row, 'question{}'.format('4a')] = 0\n",
    "data.loc[row, 'question{}'.format('4b')] = 2\n",
    "data.loc[row, 'question{}'.format('5a')] = 0\n",
    "data.loc[row, 'question{}'.format('5b')] = 2"
   ]
  },
  {
   "cell_type": "code",
   "execution_count": 11,
   "metadata": {},
   "outputs": [
    {
     "data": {
      "text/plain": [
       "(random        120\n",
       " question1a      0\n",
       " question1b      5\n",
       " question2a      0\n",
       " question2b      5\n",
       " question3a      0\n",
       " question3b      5\n",
       " question4a      0\n",
       " question4b      2\n",
       " question5a      0\n",
       " question5b      2\n",
       " Name: 57, dtype: object, 19)"
      ]
     },
     "execution_count": 11,
     "metadata": {},
     "output_type": "execute_result"
    }
   ],
   "source": [
    "data.iloc[row][2:], data.iloc[row][3:].sum()"
   ]
  },
  {
   "cell_type": "markdown",
   "metadata": {},
   "source": [
    "### 121"
   ]
  },
  {
   "cell_type": "code",
   "execution_count": 12,
   "metadata": {},
   "outputs": [],
   "source": [
    "row = np.where(data['random'] == 121)[0][0]\n",
    "data.loc[row, 'question{}'.format('1a')] = 0\n",
    "data.loc[row, 'question{}'.format('1b')] = 5\n",
    "data.loc[row, 'question{}'.format('2a')] = 0\n",
    "data.loc[row, 'question{}'.format('2b')] = 1\n",
    "data.loc[row, 'question{}'.format('3a')] = 0\n",
    "data.loc[row, 'question{}'.format('3b')] = 2\n",
    "data.loc[row, 'question{}'.format('4a')] = 0\n",
    "data.loc[row, 'question{}'.format('4b')] = 2\n",
    "data.loc[row, 'question{}'.format('5a')] = 0\n",
    "data.loc[row, 'question{}'.format('5b')] = 2"
   ]
  },
  {
   "cell_type": "code",
   "execution_count": 13,
   "metadata": {},
   "outputs": [
    {
     "data": {
      "text/plain": [
       "(random        121\n",
       " question1a      0\n",
       " question1b      5\n",
       " question2a      0\n",
       " question2b      1\n",
       " question3a      0\n",
       " question3b      2\n",
       " question4a      0\n",
       " question4b      2\n",
       " question5a      0\n",
       " question5b      2\n",
       " Name: 33, dtype: object, 12)"
      ]
     },
     "execution_count": 13,
     "metadata": {},
     "output_type": "execute_result"
    }
   ],
   "source": [
    "data.iloc[row][2:], data.iloc[row][3:].sum()"
   ]
  },
  {
   "cell_type": "markdown",
   "metadata": {},
   "source": [
    "### 122"
   ]
  },
  {
   "cell_type": "code",
   "execution_count": 14,
   "metadata": {},
   "outputs": [],
   "source": [
    "row = np.where(data['random'] == 122)[0][0]\n",
    "data.loc[row, 'question{}'.format('1a')] = 5\n",
    "data.loc[row, 'question{}'.format('1b')] = 5\n",
    "data.loc[row, 'question{}'.format('2a')] = 5\n",
    "data.loc[row, 'question{}'.format('2b')] = 1\n",
    "data.loc[row, 'question{}'.format('3a')] = 4\n",
    "data.loc[row, 'question{}'.format('3b')] = 4\n",
    "data.loc[row, 'question{}'.format('4a')] = 5\n",
    "data.loc[row, 'question{}'.format('4b')] = 3\n",
    "data.loc[row, 'question{}'.format('5a')] = 5\n",
    "data.loc[row, 'question{}'.format('5b')] = 2"
   ]
  },
  {
   "cell_type": "code",
   "execution_count": 15,
   "metadata": {},
   "outputs": [
    {
     "data": {
      "text/plain": [
       "(random        122\n",
       " question1a      5\n",
       " question1b      5\n",
       " question2a      5\n",
       " question2b      1\n",
       " question3a      4\n",
       " question3b      4\n",
       " question4a      5\n",
       " question4b      3\n",
       " question5a      5\n",
       " question5b      2\n",
       " Name: 7, dtype: object, 39)"
      ]
     },
     "execution_count": 15,
     "metadata": {},
     "output_type": "execute_result"
    }
   ],
   "source": [
    "data.iloc[row][2:], data.iloc[row][3:].sum()"
   ]
  },
  {
   "cell_type": "markdown",
   "metadata": {},
   "source": [
    "### 158"
   ]
  },
  {
   "cell_type": "code",
   "execution_count": 16,
   "metadata": {},
   "outputs": [],
   "source": [
    "row = np.where(data['random'] == 158)[0][0]\n",
    "data.loc[row, 'question{}'.format('1a')] = 5\n",
    "data.loc[row, 'question{}'.format('1b')] = 5\n",
    "data.loc[row, 'question{}'.format('2a')] = 5\n",
    "data.loc[row, 'question{}'.format('2b')] = 4\n",
    "data.loc[row, 'question{}'.format('3a')] = 5\n",
    "data.loc[row, 'question{}'.format('3b')] = 4\n",
    "data.loc[row, 'question{}'.format('4a')] = 5\n",
    "data.loc[row, 'question{}'.format('4b')] = 5\n",
    "data.loc[row, 'question{}'.format('5a')] = 4\n",
    "data.loc[row, 'question{}'.format('5b')] = 3"
   ]
  },
  {
   "cell_type": "code",
   "execution_count": 17,
   "metadata": {},
   "outputs": [
    {
     "data": {
      "text/plain": [
       "(random        158\n",
       " question1a      5\n",
       " question1b      5\n",
       " question2a      5\n",
       " question2b      4\n",
       " question3a      5\n",
       " question3b      4\n",
       " question4a      5\n",
       " question4b      5\n",
       " question5a      4\n",
       " question5b      3\n",
       " Name: 39, dtype: object, 45)"
      ]
     },
     "execution_count": 17,
     "metadata": {},
     "output_type": "execute_result"
    }
   ],
   "source": [
    "data.iloc[row][2:], data.iloc[row][3:].sum()"
   ]
  },
  {
   "cell_type": "markdown",
   "metadata": {},
   "source": [
    "### 171"
   ]
  },
  {
   "cell_type": "code",
   "execution_count": 18,
   "metadata": {},
   "outputs": [],
   "source": [
    "row = np.where(data['random'] == 171)[0][0]\n",
    "data.loc[row, 'question{}'.format('1a')] = 3\n",
    "data.loc[row, 'question{}'.format('1b')] = 2\n",
    "data.loc[row, 'question{}'.format('2a')] = 3\n",
    "data.loc[row, 'question{}'.format('2b')] = 2\n",
    "data.loc[row, 'question{}'.format('3a')] = 0\n",
    "data.loc[row, 'question{}'.format('3b')] = 0\n",
    "data.loc[row, 'question{}'.format('4a')] = 0\n",
    "data.loc[row, 'question{}'.format('4b')] = 0\n",
    "data.loc[row, 'question{}'.format('5a')] = 0\n",
    "data.loc[row, 'question{}'.format('5b')] = 0"
   ]
  },
  {
   "cell_type": "code",
   "execution_count": 19,
   "metadata": {},
   "outputs": [
    {
     "data": {
      "text/plain": [
       "(random        171\n",
       " question1a      3\n",
       " question1b      2\n",
       " question2a      3\n",
       " question2b      2\n",
       " question3a      0\n",
       " question3b      0\n",
       " question4a      0\n",
       " question4b      0\n",
       " question5a      0\n",
       " question5b      0\n",
       " Name: 5, dtype: object, 10)"
      ]
     },
     "execution_count": 19,
     "metadata": {},
     "output_type": "execute_result"
    }
   ],
   "source": [
    "data.iloc[row][2:], data.iloc[row][3:].sum()"
   ]
  },
  {
   "cell_type": "markdown",
   "metadata": {},
   "source": [
    "### 187"
   ]
  },
  {
   "cell_type": "code",
   "execution_count": 20,
   "metadata": {},
   "outputs": [],
   "source": [
    "row = np.where(data['random'] == 187)[0][0]\n",
    "data.loc[row, 'question{}'.format('1a')] = 5\n",
    "data.loc[row, 'question{}'.format('1b')] = 4\n",
    "data.loc[row, 'question{}'.format('2a')] = 5\n",
    "data.loc[row, 'question{}'.format('2b')] = 4\n",
    "data.loc[row, 'question{}'.format('3a')] = 5\n",
    "data.loc[row, 'question{}'.format('3b')] = 4\n",
    "data.loc[row, 'question{}'.format('4a')] = 3\n",
    "data.loc[row, 'question{}'.format('4b')] = 5\n",
    "data.loc[row, 'question{}'.format('5a')] = 5\n",
    "data.loc[row, 'question{}'.format('5b')] = 4"
   ]
  },
  {
   "cell_type": "code",
   "execution_count": 21,
   "metadata": {},
   "outputs": [
    {
     "data": {
      "text/plain": [
       "(random        187\n",
       " question1a      5\n",
       " question1b      4\n",
       " question2a      5\n",
       " question2b      4\n",
       " question3a      5\n",
       " question3b      4\n",
       " question4a      3\n",
       " question4b      5\n",
       " question5a      5\n",
       " question5b      4\n",
       " Name: 14, dtype: object, 44)"
      ]
     },
     "execution_count": 21,
     "metadata": {},
     "output_type": "execute_result"
    }
   ],
   "source": [
    "data.iloc[row][2:], data.iloc[row][3:].sum()"
   ]
  },
  {
   "cell_type": "markdown",
   "metadata": {},
   "source": [
    "### 199"
   ]
  },
  {
   "cell_type": "code",
   "execution_count": 22,
   "metadata": {},
   "outputs": [],
   "source": [
    "row = np.where(data['random'] == 199)[0][0]\n",
    "data.loc[row, 'question{}'.format('1a')] = 5\n",
    "data.loc[row, 'question{}'.format('1b')] = 5\n",
    "data.loc[row, 'question{}'.format('2a')] = 5\n",
    "data.loc[row, 'question{}'.format('2b')] = 5\n",
    "data.loc[row, 'question{}'.format('3a')] = 5\n",
    "data.loc[row, 'question{}'.format('3b')] = 3\n",
    "data.loc[row, 'question{}'.format('4a')] = 5\n",
    "data.loc[row, 'question{}'.format('4b')] = 4\n",
    "data.loc[row, 'question{}'.format('5a')] = 4\n",
    "data.loc[row, 'question{}'.format('5b')] = 5"
   ]
  },
  {
   "cell_type": "code",
   "execution_count": 23,
   "metadata": {},
   "outputs": [
    {
     "data": {
      "text/plain": [
       "(random        199\n",
       " question1a      5\n",
       " question1b      5\n",
       " question2a      5\n",
       " question2b      5\n",
       " question3a      5\n",
       " question3b      3\n",
       " question4a      5\n",
       " question4b      4\n",
       " question5a      4\n",
       " question5b      5\n",
       " Name: 16, dtype: object, 46)"
      ]
     },
     "execution_count": 23,
     "metadata": {},
     "output_type": "execute_result"
    }
   ],
   "source": [
    "data.iloc[row][2:], data.iloc[row][3:].sum()"
   ]
  },
  {
   "cell_type": "markdown",
   "metadata": {},
   "source": [
    "### 202"
   ]
  },
  {
   "cell_type": "code",
   "execution_count": 24,
   "metadata": {},
   "outputs": [],
   "source": [
    "row = np.where(data['random'] == 202)[0][0]\n",
    "data.loc[row, 'question{}'.format('1a')] = 4\n",
    "data.loc[row, 'question{}'.format('1b')] = 5\n",
    "data.loc[row, 'question{}'.format('2a')] = 5\n",
    "data.loc[row, 'question{}'.format('2b')] = 4\n",
    "data.loc[row, 'question{}'.format('3a')] = 4\n",
    "data.loc[row, 'question{}'.format('3b')] = 3\n",
    "data.loc[row, 'question{}'.format('4a')] = 5\n",
    "data.loc[row, 'question{}'.format('4b')] = 3\n",
    "data.loc[row, 'question{}'.format('5a')] = 5\n",
    "data.loc[row, 'question{}'.format('5b')] = 0"
   ]
  },
  {
   "cell_type": "code",
   "execution_count": 25,
   "metadata": {},
   "outputs": [
    {
     "data": {
      "text/plain": [
       "(random        202\n",
       " question1a      4\n",
       " question1b      5\n",
       " question2a      5\n",
       " question2b      4\n",
       " question3a      4\n",
       " question3b      3\n",
       " question4a      5\n",
       " question4b      3\n",
       " question5a      5\n",
       " question5b      0\n",
       " Name: 0, dtype: object, 38)"
      ]
     },
     "execution_count": 25,
     "metadata": {},
     "output_type": "execute_result"
    }
   ],
   "source": [
    "data.iloc[row][2:], data.iloc[row][3:].sum()"
   ]
  },
  {
   "cell_type": "markdown",
   "metadata": {},
   "source": [
    "### 206"
   ]
  },
  {
   "cell_type": "code",
   "execution_count": 26,
   "metadata": {},
   "outputs": [],
   "source": [
    "row = np.where(data['random'] == 206)[0][0]\n",
    "data.loc[row, 'question{}'.format('1a')] = 5\n",
    "data.loc[row, 'question{}'.format('1b')] = 5\n",
    "data.loc[row, 'question{}'.format('2a')] = 5\n",
    "data.loc[row, 'question{}'.format('2b')] = 2\n",
    "data.loc[row, 'question{}'.format('3a')] = 4\n",
    "data.loc[row, 'question{}'.format('3b')] = 4\n",
    "data.loc[row, 'question{}'.format('4a')] = 5\n",
    "data.loc[row, 'question{}'.format('4b')] = 5\n",
    "data.loc[row, 'question{}'.format('5a')] = 3\n",
    "data.loc[row, 'question{}'.format('5b')] = 3"
   ]
  },
  {
   "cell_type": "code",
   "execution_count": 27,
   "metadata": {},
   "outputs": [
    {
     "data": {
      "text/plain": [
       "(random        206\n",
       " question1a      5\n",
       " question1b      5\n",
       " question2a      5\n",
       " question2b      2\n",
       " question3a      4\n",
       " question3b      4\n",
       " question4a      5\n",
       " question4b      5\n",
       " question5a      3\n",
       " question5b      3\n",
       " Name: 4, dtype: object, 41)"
      ]
     },
     "execution_count": 27,
     "metadata": {},
     "output_type": "execute_result"
    }
   ],
   "source": [
    "data.iloc[row][2:], data.iloc[row][3:].sum()"
   ]
  },
  {
   "cell_type": "markdown",
   "metadata": {},
   "source": [
    "### 221"
   ]
  },
  {
   "cell_type": "code",
   "execution_count": 28,
   "metadata": {},
   "outputs": [],
   "source": [
    "row = np.where(data['random'] == 221)[0][0]\n",
    "data.loc[row, 'question{}'.format('1a')] = 5\n",
    "data.loc[row, 'question{}'.format('1b')] = 5\n",
    "data.loc[row, 'question{}'.format('2a')] = 4\n",
    "data.loc[row, 'question{}'.format('2b')] = 4\n",
    "data.loc[row, 'question{}'.format('3a')] = 5\n",
    "data.loc[row, 'question{}'.format('3b')] = 4\n",
    "data.loc[row, 'question{}'.format('4a')] = 5\n",
    "data.loc[row, 'question{}'.format('4b')] = 4\n",
    "data.loc[row, 'question{}'.format('5a')] = 5\n",
    "data.loc[row, 'question{}'.format('5b')] = 5"
   ]
  },
  {
   "cell_type": "code",
   "execution_count": 29,
   "metadata": {},
   "outputs": [
    {
     "data": {
      "text/plain": [
       "(random        221\n",
       " question1a      5\n",
       " question1b      5\n",
       " question2a      4\n",
       " question2b      4\n",
       " question3a      5\n",
       " question3b      4\n",
       " question4a      5\n",
       " question4b      4\n",
       " question5a      5\n",
       " question5b      5\n",
       " Name: 9, dtype: object, 46)"
      ]
     },
     "execution_count": 29,
     "metadata": {},
     "output_type": "execute_result"
    }
   ],
   "source": [
    "data.iloc[row][2:], data.iloc[row][3:].sum()"
   ]
  },
  {
   "cell_type": "markdown",
   "metadata": {},
   "source": [
    "### 230"
   ]
  },
  {
   "cell_type": "code",
   "execution_count": 30,
   "metadata": {},
   "outputs": [],
   "source": [
    "row = np.where(data['random'] == 230)[0][0]\n",
    "data.loc[row, 'question{}'.format('1a')] = 4\n",
    "data.loc[row, 'question{}'.format('1b')] = 5\n",
    "data.loc[row, 'question{}'.format('2a')] = 4\n",
    "data.loc[row, 'question{}'.format('2b')] = 4\n",
    "data.loc[row, 'question{}'.format('3a')] = 4\n",
    "data.loc[row, 'question{}'.format('3b')] = 3\n",
    "data.loc[row, 'question{}'.format('4a')] = 5\n",
    "data.loc[row, 'question{}'.format('4b')] = 3\n",
    "data.loc[row, 'question{}'.format('5a')] = 5\n",
    "data.loc[row, 'question{}'.format('5b')] = 2"
   ]
  },
  {
   "cell_type": "code",
   "execution_count": 31,
   "metadata": {},
   "outputs": [
    {
     "data": {
      "text/plain": [
       "(random        230\n",
       " question1a      4\n",
       " question1b      5\n",
       " question2a      4\n",
       " question2b      4\n",
       " question3a      4\n",
       " question3b      3\n",
       " question4a      5\n",
       " question4b      3\n",
       " question5a      5\n",
       " question5b      2\n",
       " Name: 53, dtype: object, 39)"
      ]
     },
     "execution_count": 31,
     "metadata": {},
     "output_type": "execute_result"
    }
   ],
   "source": [
    "data.iloc[row][2:], data.iloc[row][3:].sum()"
   ]
  },
  {
   "cell_type": "markdown",
   "metadata": {},
   "source": [
    "### 231"
   ]
  },
  {
   "cell_type": "code",
   "execution_count": 32,
   "metadata": {},
   "outputs": [],
   "source": [
    "row = np.where(data['random'] == 231)[0][0]\n",
    "data.loc[row, 'question{}'.format('1a')] = 4\n",
    "data.loc[row, 'question{}'.format('1b')] = 5\n",
    "data.loc[row, 'question{}'.format('2a')] = 5\n",
    "data.loc[row, 'question{}'.format('2b')] = 5\n",
    "data.loc[row, 'question{}'.format('3a')] = 4\n",
    "data.loc[row, 'question{}'.format('3b')] = 5\n",
    "data.loc[row, 'question{}'.format('4a')] = 5\n",
    "data.loc[row, 'question{}'.format('4b')] = 5\n",
    "data.loc[row, 'question{}'.format('5a')] = 5\n",
    "data.loc[row, 'question{}'.format('5b')] = 5"
   ]
  },
  {
   "cell_type": "code",
   "execution_count": 33,
   "metadata": {},
   "outputs": [
    {
     "data": {
      "text/plain": [
       "(random        231\n",
       " question1a      4\n",
       " question1b      5\n",
       " question2a      5\n",
       " question2b      5\n",
       " question3a      4\n",
       " question3b      5\n",
       " question4a      5\n",
       " question4b      5\n",
       " question5a      5\n",
       " question5b      5\n",
       " Name: 19, dtype: object, 48)"
      ]
     },
     "execution_count": 33,
     "metadata": {},
     "output_type": "execute_result"
    }
   ],
   "source": [
    "data.iloc[row][2:], data.iloc[row][3:].sum()"
   ]
  },
  {
   "cell_type": "markdown",
   "metadata": {},
   "source": [
    "### 260"
   ]
  },
  {
   "cell_type": "code",
   "execution_count": 34,
   "metadata": {},
   "outputs": [],
   "source": [
    "row = np.where(data['random'] == 260)[0][0]\n",
    "data.loc[row, 'question{}'.format('1a')] = 5\n",
    "data.loc[row, 'question{}'.format('1b')] = 4\n",
    "data.loc[row, 'question{}'.format('2a')] = 4\n",
    "data.loc[row, 'question{}'.format('2b')] = 4\n",
    "data.loc[row, 'question{}'.format('3a')] = 5\n",
    "data.loc[row, 'question{}'.format('3b')] = 4\n",
    "data.loc[row, 'question{}'.format('4a')] = 5\n",
    "data.loc[row, 'question{}'.format('4b')] = 5\n",
    "data.loc[row, 'question{}'.format('5a')] = 5\n",
    "data.loc[row, 'question{}'.format('5b')] = 4"
   ]
  },
  {
   "cell_type": "code",
   "execution_count": 35,
   "metadata": {},
   "outputs": [
    {
     "data": {
      "text/plain": [
       "(random        260\n",
       " question1a      5\n",
       " question1b      4\n",
       " question2a      4\n",
       " question2b      4\n",
       " question3a      5\n",
       " question3b      4\n",
       " question4a      5\n",
       " question4b      5\n",
       " question5a      5\n",
       " question5b      4\n",
       " Name: 30, dtype: object, 45)"
      ]
     },
     "execution_count": 35,
     "metadata": {},
     "output_type": "execute_result"
    }
   ],
   "source": [
    "data.iloc[row][2:], data.iloc[row][3:].sum()"
   ]
  },
  {
   "cell_type": "markdown",
   "metadata": {},
   "source": [
    "### 266"
   ]
  },
  {
   "cell_type": "code",
   "execution_count": 36,
   "metadata": {},
   "outputs": [],
   "source": [
    "row = np.where(data['random'] == 266)[0][0]\n",
    "data.loc[row, 'question{}'.format('1a')] = 5\n",
    "data.loc[row, 'question{}'.format('1b')] = 4\n",
    "data.loc[row, 'question{}'.format('2a')] = 5\n",
    "data.loc[row, 'question{}'.format('2b')] = 5\n",
    "data.loc[row, 'question{}'.format('3a')] = 4\n",
    "data.loc[row, 'question{}'.format('3b')] = 4\n",
    "data.loc[row, 'question{}'.format('4a')] = 5\n",
    "data.loc[row, 'question{}'.format('4b')] = 4\n",
    "data.loc[row, 'question{}'.format('5a')] = 5\n",
    "data.loc[row, 'question{}'.format('5b')] = 4"
   ]
  },
  {
   "cell_type": "code",
   "execution_count": 37,
   "metadata": {},
   "outputs": [
    {
     "data": {
      "text/plain": [
       "(random        266\n",
       " question1a      5\n",
       " question1b      4\n",
       " question2a      5\n",
       " question2b      5\n",
       " question3a      4\n",
       " question3b      4\n",
       " question4a      5\n",
       " question4b      4\n",
       " question5a      5\n",
       " question5b      4\n",
       " Name: 59, dtype: object, 45)"
      ]
     },
     "execution_count": 37,
     "metadata": {},
     "output_type": "execute_result"
    }
   ],
   "source": [
    "data.iloc[row][2:], data.iloc[row][3:].sum()"
   ]
  },
  {
   "cell_type": "markdown",
   "metadata": {},
   "source": [
    "### 289"
   ]
  },
  {
   "cell_type": "code",
   "execution_count": 38,
   "metadata": {},
   "outputs": [],
   "source": [
    "row = np.where(data['random'] == 289)[0][0]\n",
    "data.loc[row, 'question{}'.format('1a')] = 5\n",
    "data.loc[row, 'question{}'.format('1b')] = 4\n",
    "data.loc[row, 'question{}'.format('2a')] = 4\n",
    "data.loc[row, 'question{}'.format('2b')] = 2\n",
    "data.loc[row, 'question{}'.format('3a')] = 4\n",
    "data.loc[row, 'question{}'.format('3b')] = 4\n",
    "data.loc[row, 'question{}'.format('4a')] = 5\n",
    "data.loc[row, 'question{}'.format('4b')] = 3\n",
    "data.loc[row, 'question{}'.format('5a')] = 3\n",
    "data.loc[row, 'question{}'.format('5b')] = 5"
   ]
  },
  {
   "cell_type": "code",
   "execution_count": 39,
   "metadata": {},
   "outputs": [
    {
     "data": {
      "text/plain": [
       "(random        289\n",
       " question1a      5\n",
       " question1b      4\n",
       " question2a      4\n",
       " question2b      2\n",
       " question3a      4\n",
       " question3b      4\n",
       " question4a      5\n",
       " question4b      3\n",
       " question5a      3\n",
       " question5b      5\n",
       " Name: 45, dtype: object, 39)"
      ]
     },
     "execution_count": 39,
     "metadata": {},
     "output_type": "execute_result"
    }
   ],
   "source": [
    "data.iloc[row][2:], data.iloc[row][3:].sum()"
   ]
  },
  {
   "cell_type": "markdown",
   "metadata": {},
   "source": [
    "### 291"
   ]
  },
  {
   "cell_type": "code",
   "execution_count": 40,
   "metadata": {},
   "outputs": [],
   "source": [
    "row = np.where(data['random'] == 291)[0][0]\n",
    "data.loc[row, 'question{}'.format('1a')] = 5\n",
    "data.loc[row, 'question{}'.format('1b')] = 5\n",
    "data.loc[row, 'question{}'.format('2a')] = 5\n",
    "data.loc[row, 'question{}'.format('2b')] = 4\n",
    "data.loc[row, 'question{}'.format('3a')] = 4\n",
    "data.loc[row, 'question{}'.format('3b')] = 5\n",
    "data.loc[row, 'question{}'.format('4a')] = 5\n",
    "data.loc[row, 'question{}'.format('4b')] = 4\n",
    "data.loc[row, 'question{}'.format('5a')] = 5\n",
    "data.loc[row, 'question{}'.format('5b')] = 5"
   ]
  },
  {
   "cell_type": "code",
   "execution_count": 41,
   "metadata": {},
   "outputs": [
    {
     "data": {
      "text/plain": [
       "(random        291\n",
       " question1a      5\n",
       " question1b      5\n",
       " question2a      5\n",
       " question2b      4\n",
       " question3a      4\n",
       " question3b      5\n",
       " question4a      5\n",
       " question4b      4\n",
       " question5a      5\n",
       " question5b      5\n",
       " Name: 28, dtype: object, 47)"
      ]
     },
     "execution_count": 41,
     "metadata": {},
     "output_type": "execute_result"
    }
   ],
   "source": [
    "data.iloc[row][2:], data.iloc[row][3:].sum()"
   ]
  },
  {
   "cell_type": "markdown",
   "metadata": {},
   "source": [
    "### 314"
   ]
  },
  {
   "cell_type": "code",
   "execution_count": 42,
   "metadata": {},
   "outputs": [],
   "source": [
    "row = np.where(data['random'] == 314)[0][0]\n",
    "data.loc[row, 'question{}'.format('1a')] = 5\n",
    "data.loc[row, 'question{}'.format('1b')] = 5\n",
    "data.loc[row, 'question{}'.format('2a')] = 5\n",
    "data.loc[row, 'question{}'.format('2b')] = 4\n",
    "data.loc[row, 'question{}'.format('3a')] = 4\n",
    "data.loc[row, 'question{}'.format('3b')] = 3\n",
    "data.loc[row, 'question{}'.format('4a')] = 4\n",
    "data.loc[row, 'question{}'.format('4b')] = 2\n",
    "data.loc[row, 'question{}'.format('5a')] = 4\n",
    "data.loc[row, 'question{}'.format('5b')] = 1"
   ]
  },
  {
   "cell_type": "code",
   "execution_count": 43,
   "metadata": {},
   "outputs": [
    {
     "data": {
      "text/plain": [
       "(random        314\n",
       " question1a      5\n",
       " question1b      5\n",
       " question2a      5\n",
       " question2b      4\n",
       " question3a      4\n",
       " question3b      3\n",
       " question4a      4\n",
       " question4b      2\n",
       " question5a      4\n",
       " question5b      1\n",
       " Name: 11, dtype: object, 37)"
      ]
     },
     "execution_count": 43,
     "metadata": {},
     "output_type": "execute_result"
    }
   ],
   "source": [
    "data.iloc[row][2:], data.iloc[row][3:].sum()"
   ]
  },
  {
   "cell_type": "markdown",
   "metadata": {},
   "source": [
    "### 343"
   ]
  },
  {
   "cell_type": "code",
   "execution_count": 44,
   "metadata": {},
   "outputs": [],
   "source": [
    "row = np.where(data['random'] == 343)[0][0]\n",
    "data.loc[row, 'question{}'.format('1a')] = 4\n",
    "data.loc[row, 'question{}'.format('1b')] = 5\n",
    "data.loc[row, 'question{}'.format('2a')] = 3\n",
    "data.loc[row, 'question{}'.format('2b')] = 5\n",
    "data.loc[row, 'question{}'.format('3a')] = 5\n",
    "data.loc[row, 'question{}'.format('3b')] = 4\n",
    "data.loc[row, 'question{}'.format('4a')] = 3\n",
    "data.loc[row, 'question{}'.format('4b')] = 5\n",
    "data.loc[row, 'question{}'.format('5a')] = 5\n",
    "data.loc[row, 'question{}'.format('5b')] = 3"
   ]
  },
  {
   "cell_type": "code",
   "execution_count": 45,
   "metadata": {},
   "outputs": [
    {
     "data": {
      "text/plain": [
       "(random        343\n",
       " question1a      4\n",
       " question1b      5\n",
       " question2a      3\n",
       " question2b      5\n",
       " question3a      5\n",
       " question3b      4\n",
       " question4a      3\n",
       " question4b      5\n",
       " question5a      5\n",
       " question5b      3\n",
       " Name: 50, dtype: object, 42)"
      ]
     },
     "execution_count": 45,
     "metadata": {},
     "output_type": "execute_result"
    }
   ],
   "source": [
    "data.iloc[row][2:], data.iloc[row][3:].sum()"
   ]
  },
  {
   "cell_type": "markdown",
   "metadata": {},
   "source": [
    "### 352"
   ]
  },
  {
   "cell_type": "code",
   "execution_count": 46,
   "metadata": {},
   "outputs": [],
   "source": [
    "row = np.where(data['random'] == 352)[0][0]\n",
    "data.loc[row, 'question{}'.format('1a')] = 5\n",
    "data.loc[row, 'question{}'.format('1b')] = 5\n",
    "data.loc[row, 'question{}'.format('2a')] = 5\n",
    "data.loc[row, 'question{}'.format('2b')] = 5\n",
    "data.loc[row, 'question{}'.format('3a')] = 4\n",
    "data.loc[row, 'question{}'.format('3b')] = 2\n",
    "data.loc[row, 'question{}'.format('4a')] = 5\n",
    "data.loc[row, 'question{}'.format('4b')] = 3\n",
    "data.loc[row, 'question{}'.format('5a')] = 4\n",
    "data.loc[row, 'question{}'.format('5b')] = 4"
   ]
  },
  {
   "cell_type": "code",
   "execution_count": 47,
   "metadata": {},
   "outputs": [
    {
     "data": {
      "text/plain": [
       "(random        352\n",
       " question1a      5\n",
       " question1b      5\n",
       " question2a      5\n",
       " question2b      5\n",
       " question3a      4\n",
       " question3b      2\n",
       " question4a      5\n",
       " question4b      3\n",
       " question5a      4\n",
       " question5b      4\n",
       " Name: 34, dtype: object, 42)"
      ]
     },
     "execution_count": 47,
     "metadata": {},
     "output_type": "execute_result"
    }
   ],
   "source": [
    "data.iloc[row][2:], data.iloc[row][3:].sum()"
   ]
  },
  {
   "cell_type": "markdown",
   "metadata": {},
   "source": [
    "### 370"
   ]
  },
  {
   "cell_type": "code",
   "execution_count": 48,
   "metadata": {},
   "outputs": [],
   "source": [
    "row = np.where(data['random'] == 370)[0][0]\n",
    "data.loc[row, 'question{}'.format('1a')] = 5\n",
    "data.loc[row, 'question{}'.format('1b')] = 5\n",
    "data.loc[row, 'question{}'.format('2a')] = 5\n",
    "data.loc[row, 'question{}'.format('2b')] = 5\n",
    "data.loc[row, 'question{}'.format('3a')] = 5\n",
    "data.loc[row, 'question{}'.format('3b')] = 5\n",
    "data.loc[row, 'question{}'.format('4a')] = 5\n",
    "data.loc[row, 'question{}'.format('4b')] = 5\n",
    "data.loc[row, 'question{}'.format('5a')] = 5\n",
    "data.loc[row, 'question{}'.format('5b')] = 5"
   ]
  },
  {
   "cell_type": "code",
   "execution_count": 49,
   "metadata": {},
   "outputs": [
    {
     "data": {
      "text/plain": [
       "(random        370\n",
       " question1a      5\n",
       " question1b      5\n",
       " question2a      5\n",
       " question2b      5\n",
       " question3a      5\n",
       " question3b      5\n",
       " question4a      5\n",
       " question4b      5\n",
       " question5a      5\n",
       " question5b      5\n",
       " Name: 3, dtype: object, 50)"
      ]
     },
     "execution_count": 49,
     "metadata": {},
     "output_type": "execute_result"
    }
   ],
   "source": [
    "data.iloc[row][2:], data.iloc[row][3:].sum()"
   ]
  },
  {
   "cell_type": "markdown",
   "metadata": {},
   "source": [
    "### 373"
   ]
  },
  {
   "cell_type": "code",
   "execution_count": 50,
   "metadata": {},
   "outputs": [],
   "source": [
    "row = np.where(data['random'] == 373)[0][0]\n",
    "data.loc[row, 'question{}'.format('1a')] = 5\n",
    "data.loc[row, 'question{}'.format('1b')] = 5\n",
    "data.loc[row, 'question{}'.format('2a')] = 5\n",
    "data.loc[row, 'question{}'.format('2b')] = 5\n",
    "data.loc[row, 'question{}'.format('3a')] = 4\n",
    "data.loc[row, 'question{}'.format('3b')] = 1\n",
    "data.loc[row, 'question{}'.format('4a')] = 5\n",
    "data.loc[row, 'question{}'.format('4b')] = 0\n",
    "data.loc[row, 'question{}'.format('5a')] = 4\n",
    "data.loc[row, 'question{}'.format('5b')] = 2"
   ]
  },
  {
   "cell_type": "code",
   "execution_count": 51,
   "metadata": {},
   "outputs": [
    {
     "data": {
      "text/plain": [
       "(random        373\n",
       " question1a      5\n",
       " question1b      5\n",
       " question2a      5\n",
       " question2b      5\n",
       " question3a      4\n",
       " question3b      1\n",
       " question4a      5\n",
       " question4b      0\n",
       " question5a      4\n",
       " question5b      2\n",
       " Name: 60, dtype: object, 36)"
      ]
     },
     "execution_count": 51,
     "metadata": {},
     "output_type": "execute_result"
    }
   ],
   "source": [
    "data.iloc[row][2:], data.iloc[row][3:].sum()"
   ]
  },
  {
   "cell_type": "markdown",
   "metadata": {},
   "source": [
    "### 376"
   ]
  },
  {
   "cell_type": "code",
   "execution_count": 52,
   "metadata": {},
   "outputs": [],
   "source": [
    "row = np.where(data['random'] == 376)[0][0]\n",
    "data.loc[row, 'question{}'.format('1a')] = 3\n",
    "data.loc[row, 'question{}'.format('1b')] = 4\n",
    "data.loc[row, 'question{}'.format('2a')] = 3\n",
    "data.loc[row, 'question{}'.format('2b')] = 0\n",
    "data.loc[row, 'question{}'.format('3a')] = 4\n",
    "data.loc[row, 'question{}'.format('3b')] = 0\n",
    "data.loc[row, 'question{}'.format('4a')] = 0\n",
    "data.loc[row, 'question{}'.format('4b')] = 0\n",
    "data.loc[row, 'question{}'.format('5a')] = 0\n",
    "data.loc[row, 'question{}'.format('5b')] = 0"
   ]
  },
  {
   "cell_type": "code",
   "execution_count": 53,
   "metadata": {
    "scrolled": true
   },
   "outputs": [
    {
     "data": {
      "text/plain": [
       "(random        376\n",
       " question1a      3\n",
       " question1b      4\n",
       " question2a      3\n",
       " question2b      0\n",
       " question3a      4\n",
       " question3b      0\n",
       " question4a      0\n",
       " question4b      0\n",
       " question5a      0\n",
       " question5b      0\n",
       " Name: 29, dtype: object, 14)"
      ]
     },
     "execution_count": 53,
     "metadata": {},
     "output_type": "execute_result"
    }
   ],
   "source": [
    "data.iloc[row][2:], data.iloc[row][3:].sum()"
   ]
  },
  {
   "cell_type": "markdown",
   "metadata": {},
   "source": [
    "### 408"
   ]
  },
  {
   "cell_type": "code",
   "execution_count": 54,
   "metadata": {},
   "outputs": [],
   "source": [
    "row = np.where(data['random'] == 408)[0][0]\n",
    "data.loc[row, 'question{}'.format('1a')] = 4\n",
    "data.loc[row, 'question{}'.format('1b')] = 4\n",
    "data.loc[row, 'question{}'.format('2a')] = 5\n",
    "data.loc[row, 'question{}'.format('2b')] = 5\n",
    "data.loc[row, 'question{}'.format('3a')] = 5\n",
    "data.loc[row, 'question{}'.format('3b')] = 4\n",
    "data.loc[row, 'question{}'.format('4a')] = 4\n",
    "data.loc[row, 'question{}'.format('4b')] = 5\n",
    "data.loc[row, 'question{}'.format('5a')] = 4\n",
    "data.loc[row, 'question{}'.format('5b')] = 5"
   ]
  },
  {
   "cell_type": "code",
   "execution_count": 55,
   "metadata": {},
   "outputs": [
    {
     "data": {
      "text/plain": [
       "(random        408\n",
       " question1a      4\n",
       " question1b      4\n",
       " question2a      5\n",
       " question2b      5\n",
       " question3a      5\n",
       " question3b      4\n",
       " question4a      4\n",
       " question4b      5\n",
       " question5a      4\n",
       " question5b      5\n",
       " Name: 21, dtype: object, 45)"
      ]
     },
     "execution_count": 55,
     "metadata": {},
     "output_type": "execute_result"
    }
   ],
   "source": [
    "data.iloc[row][2:], data.iloc[row][3:].sum()"
   ]
  },
  {
   "cell_type": "markdown",
   "metadata": {},
   "source": [
    "### 413"
   ]
  },
  {
   "cell_type": "code",
   "execution_count": 56,
   "metadata": {},
   "outputs": [],
   "source": [
    "row = np.where(data['random'] == 413)[0][0]\n",
    "data.loc[row, 'question{}'.format('1a')] = 4\n",
    "data.loc[row, 'question{}'.format('1b')] = 5\n",
    "data.loc[row, 'question{}'.format('2a')] = 4\n",
    "data.loc[row, 'question{}'.format('2b')] = 5\n",
    "data.loc[row, 'question{}'.format('3a')] = 4\n",
    "data.loc[row, 'question{}'.format('3b')] = 5\n",
    "data.loc[row, 'question{}'.format('4a')] = 5\n",
    "data.loc[row, 'question{}'.format('4b')] = 5\n",
    "data.loc[row, 'question{}'.format('5a')] = 4\n",
    "data.loc[row, 'question{}'.format('5b')] = 5"
   ]
  },
  {
   "cell_type": "code",
   "execution_count": 57,
   "metadata": {},
   "outputs": [
    {
     "data": {
      "text/plain": [
       "(random        413\n",
       " question1a      4\n",
       " question1b      5\n",
       " question2a      4\n",
       " question2b      5\n",
       " question3a      4\n",
       " question3b      5\n",
       " question4a      5\n",
       " question4b      5\n",
       " question5a      4\n",
       " question5b      5\n",
       " Name: 32, dtype: object, 46)"
      ]
     },
     "execution_count": 57,
     "metadata": {},
     "output_type": "execute_result"
    }
   ],
   "source": [
    "data.iloc[row][2:], data.iloc[row][3:].sum()"
   ]
  },
  {
   "cell_type": "markdown",
   "metadata": {},
   "source": [
    "### 415"
   ]
  },
  {
   "cell_type": "code",
   "execution_count": 58,
   "metadata": {},
   "outputs": [],
   "source": [
    "row = np.where(data['random'] == 415)[0][0]\n",
    "data.loc[row, 'question{}'.format('1a')] = 5\n",
    "data.loc[row, 'question{}'.format('1b')] = 5\n",
    "data.loc[row, 'question{}'.format('2a')] = 5\n",
    "data.loc[row, 'question{}'.format('2b')] = 4\n",
    "data.loc[row, 'question{}'.format('3a')] = 4\n",
    "data.loc[row, 'question{}'.format('3b')] = 4\n",
    "data.loc[row, 'question{}'.format('4a')] = 5\n",
    "data.loc[row, 'question{}'.format('4b')] = 5\n",
    "data.loc[row, 'question{}'.format('5a')] = 4\n",
    "data.loc[row, 'question{}'.format('5b')] = 5"
   ]
  },
  {
   "cell_type": "code",
   "execution_count": 59,
   "metadata": {},
   "outputs": [
    {
     "data": {
      "text/plain": [
       "(random        415\n",
       " question1a      5\n",
       " question1b      5\n",
       " question2a      5\n",
       " question2b      4\n",
       " question3a      4\n",
       " question3b      4\n",
       " question4a      5\n",
       " question4b      5\n",
       " question5a      4\n",
       " question5b      5\n",
       " Name: 63, dtype: object, 46)"
      ]
     },
     "execution_count": 59,
     "metadata": {},
     "output_type": "execute_result"
    }
   ],
   "source": [
    "data.iloc[row][2:], data.iloc[row][3:].sum()"
   ]
  },
  {
   "cell_type": "markdown",
   "metadata": {},
   "source": [
    "### 430"
   ]
  },
  {
   "cell_type": "code",
   "execution_count": 60,
   "metadata": {},
   "outputs": [],
   "source": [
    "row = np.where(data['random'] == 430)[0][0]\n",
    "data.loc[row, 'question{}'.format('1a')] = 5\n",
    "data.loc[row, 'question{}'.format('1b')] = 5\n",
    "data.loc[row, 'question{}'.format('2a')] = 5\n",
    "data.loc[row, 'question{}'.format('2b')] = 4\n",
    "data.loc[row, 'question{}'.format('3a')] = 5\n",
    "data.loc[row, 'question{}'.format('3b')] = 3\n",
    "data.loc[row, 'question{}'.format('4a')] = 5\n",
    "data.loc[row, 'question{}'.format('4b')] = 5\n",
    "data.loc[row, 'question{}'.format('5a')] = 5\n",
    "data.loc[row, 'question{}'.format('5b')] = 3"
   ]
  },
  {
   "cell_type": "code",
   "execution_count": 61,
   "metadata": {},
   "outputs": [
    {
     "data": {
      "text/plain": [
       "(random        430\n",
       " question1a      5\n",
       " question1b      5\n",
       " question2a      5\n",
       " question2b      4\n",
       " question3a      5\n",
       " question3b      3\n",
       " question4a      5\n",
       " question4b      5\n",
       " question5a      5\n",
       " question5b      3\n",
       " Name: 12, dtype: object, 45)"
      ]
     },
     "execution_count": 61,
     "metadata": {},
     "output_type": "execute_result"
    }
   ],
   "source": [
    "data.iloc[row][2:], data.iloc[row][3:].sum()"
   ]
  },
  {
   "cell_type": "markdown",
   "metadata": {},
   "source": [
    "### 443"
   ]
  },
  {
   "cell_type": "code",
   "execution_count": 62,
   "metadata": {},
   "outputs": [],
   "source": [
    "row = np.where(data['random'] == 443)[0][0]\n",
    "data.loc[row, 'question{}'.format('1a')] = 5\n",
    "data.loc[row, 'question{}'.format('1b')] = 4\n",
    "data.loc[row, 'question{}'.format('2a')] = 5\n",
    "data.loc[row, 'question{}'.format('2b')] = 5\n",
    "data.loc[row, 'question{}'.format('3a')] = 4\n",
    "data.loc[row, 'question{}'.format('3b')] = 5\n",
    "data.loc[row, 'question{}'.format('4a')] = 5\n",
    "data.loc[row, 'question{}'.format('4b')] = 5\n",
    "data.loc[row, 'question{}'.format('5a')] = 4\n",
    "data.loc[row, 'question{}'.format('5b')] = 4"
   ]
  },
  {
   "cell_type": "code",
   "execution_count": 63,
   "metadata": {},
   "outputs": [
    {
     "data": {
      "text/plain": [
       "(random        443\n",
       " question1a      5\n",
       " question1b      4\n",
       " question2a      5\n",
       " question2b      5\n",
       " question3a      4\n",
       " question3b      5\n",
       " question4a      5\n",
       " question4b      5\n",
       " question5a      4\n",
       " question5b      4\n",
       " Name: 23, dtype: object, 46)"
      ]
     },
     "execution_count": 63,
     "metadata": {},
     "output_type": "execute_result"
    }
   ],
   "source": [
    "data.iloc[row][2:], data.iloc[row][3:].sum()"
   ]
  },
  {
   "cell_type": "markdown",
   "metadata": {},
   "source": [
    "### 472"
   ]
  },
  {
   "cell_type": "code",
   "execution_count": 64,
   "metadata": {},
   "outputs": [],
   "source": [
    "row = np.where(data['random'] == 472)[0][0]\n",
    "data.loc[row, 'question{}'.format('1a')] = 4\n",
    "data.loc[row, 'question{}'.format('1b')] = 5\n",
    "data.loc[row, 'question{}'.format('2a')] = 4\n",
    "data.loc[row, 'question{}'.format('2b')] = 3\n",
    "data.loc[row, 'question{}'.format('3a')] = 4\n",
    "data.loc[row, 'question{}'.format('3b')] = 5\n",
    "data.loc[row, 'question{}'.format('4a')] = 5\n",
    "data.loc[row, 'question{}'.format('4b')] = 3\n",
    "data.loc[row, 'question{}'.format('5a')] = 4\n",
    "data.loc[row, 'question{}'.format('5b')] = 3"
   ]
  },
  {
   "cell_type": "code",
   "execution_count": 65,
   "metadata": {},
   "outputs": [
    {
     "data": {
      "text/plain": [
       "(random        472\n",
       " question1a      4\n",
       " question1b      5\n",
       " question2a      4\n",
       " question2b      3\n",
       " question3a      4\n",
       " question3b      5\n",
       " question4a      5\n",
       " question4b      3\n",
       " question5a      4\n",
       " question5b      3\n",
       " Name: 15, dtype: object, 40)"
      ]
     },
     "execution_count": 65,
     "metadata": {},
     "output_type": "execute_result"
    }
   ],
   "source": [
    "data.iloc[row][2:], data.iloc[row][3:].sum()"
   ]
  },
  {
   "cell_type": "markdown",
   "metadata": {},
   "source": [
    "### 485"
   ]
  },
  {
   "cell_type": "code",
   "execution_count": 66,
   "metadata": {},
   "outputs": [],
   "source": [
    "row = np.where(data['random'] == 485)[0][0]\n",
    "data.loc[row, 'question{}'.format('1a')] = 4\n",
    "data.loc[row, 'question{}'.format('1b')] = 5\n",
    "data.loc[row, 'question{}'.format('2a')] = 5\n",
    "data.loc[row, 'question{}'.format('2b')] = 4\n",
    "data.loc[row, 'question{}'.format('3a')] = 4\n",
    "data.loc[row, 'question{}'.format('3b')] = 5\n",
    "data.loc[row, 'question{}'.format('4a')] = 5\n",
    "data.loc[row, 'question{}'.format('4b')] = 3\n",
    "data.loc[row, 'question{}'.format('5a')] = 5\n",
    "data.loc[row, 'question{}'.format('5b')] = 5"
   ]
  },
  {
   "cell_type": "code",
   "execution_count": 67,
   "metadata": {},
   "outputs": [
    {
     "data": {
      "text/plain": [
       "(random        485\n",
       " question1a      4\n",
       " question1b      5\n",
       " question2a      5\n",
       " question2b      4\n",
       " question3a      4\n",
       " question3b      5\n",
       " question4a      5\n",
       " question4b      3\n",
       " question5a      5\n",
       " question5b      5\n",
       " Name: 27, dtype: object, 45)"
      ]
     },
     "execution_count": 67,
     "metadata": {},
     "output_type": "execute_result"
    }
   ],
   "source": [
    "data.iloc[row][2:], data.iloc[row][3:].sum()"
   ]
  },
  {
   "cell_type": "markdown",
   "metadata": {},
   "source": [
    "### 487"
   ]
  },
  {
   "cell_type": "code",
   "execution_count": 68,
   "metadata": {},
   "outputs": [],
   "source": [
    "row = np.where(data['random'] == 487)[0][0]\n",
    "data.loc[row, 'question{}'.format('1a')] = 5\n",
    "data.loc[row, 'question{}'.format('1b')] = 5\n",
    "data.loc[row, 'question{}'.format('2a')] = 4\n",
    "data.loc[row, 'question{}'.format('2b')] = 5\n",
    "data.loc[row, 'question{}'.format('3a')] = 4\n",
    "data.loc[row, 'question{}'.format('3b')] = 3\n",
    "data.loc[row, 'question{}'.format('4a')] = 5\n",
    "data.loc[row, 'question{}'.format('4b')] = 3\n",
    "data.loc[row, 'question{}'.format('5a')] = 5\n",
    "data.loc[row, 'question{}'.format('5b')] = 5"
   ]
  },
  {
   "cell_type": "code",
   "execution_count": 69,
   "metadata": {},
   "outputs": [
    {
     "data": {
      "text/plain": [
       "(random        487\n",
       " question1a      5\n",
       " question1b      5\n",
       " question2a      4\n",
       " question2b      5\n",
       " question3a      4\n",
       " question3b      3\n",
       " question4a      5\n",
       " question4b      3\n",
       " question5a      5\n",
       " question5b      5\n",
       " Name: 61, dtype: object, 44)"
      ]
     },
     "execution_count": 69,
     "metadata": {},
     "output_type": "execute_result"
    }
   ],
   "source": [
    "data.iloc[row][2:], data.iloc[row][3:].sum()"
   ]
  },
  {
   "cell_type": "markdown",
   "metadata": {},
   "source": [
    "### 513"
   ]
  },
  {
   "cell_type": "code",
   "execution_count": 70,
   "metadata": {},
   "outputs": [],
   "source": [
    "row = np.where(data['random'] == 513)[0][0]\n",
    "data.loc[row, 'question{}'.format('1a')] = 5\n",
    "data.loc[row, 'question{}'.format('1b')] = 5\n",
    "data.loc[row, 'question{}'.format('2a')] = 4\n",
    "data.loc[row, 'question{}'.format('2b')] = 4\n",
    "data.loc[row, 'question{}'.format('3a')] = 4\n",
    "data.loc[row, 'question{}'.format('3b')] = 3\n",
    "data.loc[row, 'question{}'.format('4a')] = 5\n",
    "data.loc[row, 'question{}'.format('4b')] = 3\n",
    "data.loc[row, 'question{}'.format('5a')] = 5\n",
    "data.loc[row, 'question{}'.format('5b')] = 1"
   ]
  },
  {
   "cell_type": "code",
   "execution_count": 71,
   "metadata": {},
   "outputs": [
    {
     "data": {
      "text/plain": [
       "(random        513\n",
       " question1a      5\n",
       " question1b      5\n",
       " question2a      4\n",
       " question2b      4\n",
       " question3a      4\n",
       " question3b      3\n",
       " question4a      5\n",
       " question4b      3\n",
       " question5a      5\n",
       " question5b      1\n",
       " Name: 25, dtype: object, 39)"
      ]
     },
     "execution_count": 71,
     "metadata": {},
     "output_type": "execute_result"
    }
   ],
   "source": [
    "data.iloc[row][2:], data.iloc[row][3:].sum()"
   ]
  },
  {
   "cell_type": "markdown",
   "metadata": {},
   "source": [
    "### 535"
   ]
  },
  {
   "cell_type": "code",
   "execution_count": 72,
   "metadata": {},
   "outputs": [],
   "source": [
    "row = np.where(data['random'] == 535)[0][0]\n",
    "data.loc[row, 'question{}'.format('1a')] = 5\n",
    "data.loc[row, 'question{}'.format('1b')] = 4\n",
    "data.loc[row, 'question{}'.format('2a')] = 5\n",
    "data.loc[row, 'question{}'.format('2b')] = 4\n",
    "data.loc[row, 'question{}'.format('3a')] = 5\n",
    "data.loc[row, 'question{}'.format('3b')] = 5\n",
    "data.loc[row, 'question{}'.format('4a')] = 5\n",
    "data.loc[row, 'question{}'.format('4b')] = 5\n",
    "data.loc[row, 'question{}'.format('5a')] = 5\n",
    "data.loc[row, 'question{}'.format('5b')] = 4"
   ]
  },
  {
   "cell_type": "code",
   "execution_count": 73,
   "metadata": {},
   "outputs": [
    {
     "data": {
      "text/plain": [
       "(random        535\n",
       " question1a      5\n",
       " question1b      4\n",
       " question2a      5\n",
       " question2b      4\n",
       " question3a      5\n",
       " question3b      5\n",
       " question4a      5\n",
       " question4b      5\n",
       " question5a      5\n",
       " question5b      4\n",
       " Name: 1, dtype: object, 47)"
      ]
     },
     "execution_count": 73,
     "metadata": {},
     "output_type": "execute_result"
    }
   ],
   "source": [
    "data.iloc[row][2:], data.iloc[row][3:].sum()"
   ]
  },
  {
   "cell_type": "markdown",
   "metadata": {},
   "source": [
    "### 558"
   ]
  },
  {
   "cell_type": "code",
   "execution_count": 74,
   "metadata": {},
   "outputs": [],
   "source": [
    "row = np.where(data['random'] == 558)[0][0]\n",
    "data.loc[row, 'question{}'.format('1a')] = 5\n",
    "data.loc[row, 'question{}'.format('1b')] = 5\n",
    "data.loc[row, 'question{}'.format('2a')] = 4\n",
    "data.loc[row, 'question{}'.format('2b')] = 5\n",
    "data.loc[row, 'question{}'.format('3a')] = 4\n",
    "data.loc[row, 'question{}'.format('3b')] = 3\n",
    "data.loc[row, 'question{}'.format('4a')] = 4\n",
    "data.loc[row, 'question{}'.format('4b')] = 5\n",
    "data.loc[row, 'question{}'.format('5a')] = 4\n",
    "data.loc[row, 'question{}'.format('5b')] = 5"
   ]
  },
  {
   "cell_type": "code",
   "execution_count": 75,
   "metadata": {},
   "outputs": [
    {
     "data": {
      "text/plain": [
       "(random        558\n",
       " question1a      5\n",
       " question1b      5\n",
       " question2a      4\n",
       " question2b      5\n",
       " question3a      4\n",
       " question3b      3\n",
       " question4a      4\n",
       " question4b      5\n",
       " question5a      4\n",
       " question5b      5\n",
       " Name: 13, dtype: object, 44)"
      ]
     },
     "execution_count": 75,
     "metadata": {},
     "output_type": "execute_result"
    }
   ],
   "source": [
    "data.iloc[row][2:], data.iloc[row][3:].sum()"
   ]
  },
  {
   "cell_type": "markdown",
   "metadata": {},
   "source": [
    "### 559"
   ]
  },
  {
   "cell_type": "code",
   "execution_count": 76,
   "metadata": {},
   "outputs": [],
   "source": [
    "row = np.where(data['random'] == 559)[0][0]\n",
    "data.loc[row, 'question{}'.format('1a')] = 5\n",
    "data.loc[row, 'question{}'.format('1b')] = 5\n",
    "data.loc[row, 'question{}'.format('2a')] = 4\n",
    "data.loc[row, 'question{}'.format('2b')] = 1\n",
    "data.loc[row, 'question{}'.format('3a')] = 4\n",
    "data.loc[row, 'question{}'.format('3b')] = 3\n",
    "data.loc[row, 'question{}'.format('4a')] = 5\n",
    "data.loc[row, 'question{}'.format('4b')] = 3\n",
    "data.loc[row, 'question{}'.format('5a')] = 5\n",
    "data.loc[row, 'question{}'.format('5b')] = 1"
   ]
  },
  {
   "cell_type": "code",
   "execution_count": 77,
   "metadata": {},
   "outputs": [
    {
     "data": {
      "text/plain": [
       "(random        559\n",
       " question1a      5\n",
       " question1b      5\n",
       " question2a      4\n",
       " question2b      1\n",
       " question3a      4\n",
       " question3b      3\n",
       " question4a      5\n",
       " question4b      3\n",
       " question5a      5\n",
       " question5b      1\n",
       " Name: 31, dtype: object, 36)"
      ]
     },
     "execution_count": 77,
     "metadata": {},
     "output_type": "execute_result"
    }
   ],
   "source": [
    "data.iloc[row][2:], data.iloc[row][3:].sum()"
   ]
  },
  {
   "cell_type": "markdown",
   "metadata": {},
   "source": [
    "### 566"
   ]
  },
  {
   "cell_type": "code",
   "execution_count": 78,
   "metadata": {},
   "outputs": [],
   "source": [
    "row = np.where(data['random'] == 566)[0][0]\n",
    "data.loc[row, 'question{}'.format('1a')] = 5\n",
    "data.loc[row, 'question{}'.format('1b')] = 5\n",
    "data.loc[row, 'question{}'.format('2a')] = 5\n",
    "data.loc[row, 'question{}'.format('2b')] = 5\n",
    "data.loc[row, 'question{}'.format('3a')] = 4\n",
    "data.loc[row, 'question{}'.format('3b')] = 4\n",
    "data.loc[row, 'question{}'.format('4a')] = 5\n",
    "data.loc[row, 'question{}'.format('4b')] = 5\n",
    "data.loc[row, 'question{}'.format('5a')] = 5\n",
    "data.loc[row, 'question{}'.format('5b')] = 3"
   ]
  },
  {
   "cell_type": "code",
   "execution_count": 79,
   "metadata": {},
   "outputs": [
    {
     "data": {
      "text/plain": [
       "(random        566\n",
       " question1a      5\n",
       " question1b      5\n",
       " question2a      5\n",
       " question2b      5\n",
       " question3a      4\n",
       " question3b      4\n",
       " question4a      5\n",
       " question4b      5\n",
       " question5a      5\n",
       " question5b      3\n",
       " Name: 10, dtype: object, 46)"
      ]
     },
     "execution_count": 79,
     "metadata": {},
     "output_type": "execute_result"
    }
   ],
   "source": [
    "data.iloc[row][2:], data.iloc[row][3:].sum()"
   ]
  },
  {
   "cell_type": "markdown",
   "metadata": {},
   "source": [
    "### 574"
   ]
  },
  {
   "cell_type": "code",
   "execution_count": 80,
   "metadata": {},
   "outputs": [],
   "source": [
    "row = np.where(data['random'] == 574)[0][0]\n",
    "data.loc[row, 'question{}'.format('1a')] = 4\n",
    "data.loc[row, 'question{}'.format('1b')] = 5\n",
    "data.loc[row, 'question{}'.format('2a')] = 5\n",
    "data.loc[row, 'question{}'.format('2b')] = 5\n",
    "data.loc[row, 'question{}'.format('3a')] = 3\n",
    "data.loc[row, 'question{}'.format('3b')] = 3\n",
    "data.loc[row, 'question{}'.format('4a')] = 4\n",
    "data.loc[row, 'question{}'.format('4b')] = 5\n",
    "data.loc[row, 'question{}'.format('5a')] = 4\n",
    "data.loc[row, 'question{}'.format('5b')] = 3"
   ]
  },
  {
   "cell_type": "code",
   "execution_count": 81,
   "metadata": {},
   "outputs": [
    {
     "data": {
      "text/plain": [
       "(random        574\n",
       " question1a      4\n",
       " question1b      5\n",
       " question2a      5\n",
       " question2b      5\n",
       " question3a      3\n",
       " question3b      3\n",
       " question4a      4\n",
       " question4b      5\n",
       " question5a      4\n",
       " question5b      3\n",
       " Name: 38, dtype: object, 41)"
      ]
     },
     "execution_count": 81,
     "metadata": {},
     "output_type": "execute_result"
    }
   ],
   "source": [
    "data.iloc[row][2:], data.iloc[row][3:].sum()"
   ]
  },
  {
   "cell_type": "markdown",
   "metadata": {},
   "source": [
    "### 575"
   ]
  },
  {
   "cell_type": "code",
   "execution_count": 82,
   "metadata": {},
   "outputs": [],
   "source": [
    "row = np.where(data['random'] == 575)[0][0]\n",
    "data.loc[row, 'question{}'.format('1a')] = 4\n",
    "data.loc[row, 'question{}'.format('1b')] = 5\n",
    "data.loc[row, 'question{}'.format('2a')] = 3\n",
    "data.loc[row, 'question{}'.format('2b')] = 5\n",
    "data.loc[row, 'question{}'.format('3a')] = 4\n",
    "data.loc[row, 'question{}'.format('3b')] = 2\n",
    "data.loc[row, 'question{}'.format('4a')] = 4\n",
    "data.loc[row, 'question{}'.format('4b')] = 3\n",
    "data.loc[row, 'question{}'.format('5a')] = 4\n",
    "data.loc[row, 'question{}'.format('5b')] = 3"
   ]
  },
  {
   "cell_type": "code",
   "execution_count": 83,
   "metadata": {},
   "outputs": [
    {
     "data": {
      "text/plain": [
       "(random        575\n",
       " question1a      4\n",
       " question1b      5\n",
       " question2a      3\n",
       " question2b      5\n",
       " question3a      4\n",
       " question3b      2\n",
       " question4a      4\n",
       " question4b      3\n",
       " question5a      4\n",
       " question5b      3\n",
       " Name: 42, dtype: object, 37)"
      ]
     },
     "execution_count": 83,
     "metadata": {},
     "output_type": "execute_result"
    }
   ],
   "source": [
    "data.iloc[row][2:], data.iloc[row][3:].sum()"
   ]
  },
  {
   "cell_type": "markdown",
   "metadata": {},
   "source": [
    "### 584"
   ]
  },
  {
   "cell_type": "code",
   "execution_count": 84,
   "metadata": {},
   "outputs": [],
   "source": [
    "row = np.where(data['random'] == 584)[0][0]\n",
    "data.loc[row, 'question{}'.format('1a')] = 5\n",
    "data.loc[row, 'question{}'.format('1b')] = 5\n",
    "data.loc[row, 'question{}'.format('2a')] = 5\n",
    "data.loc[row, 'question{}'.format('2b')] = 5\n",
    "data.loc[row, 'question{}'.format('3a')] = 4\n",
    "data.loc[row, 'question{}'.format('3b')] = 5\n",
    "data.loc[row, 'question{}'.format('4a')] = 5\n",
    "data.loc[row, 'question{}'.format('4b')] = 5\n",
    "data.loc[row, 'question{}'.format('5a')] = 5\n",
    "data.loc[row, 'question{}'.format('5b')] = 5"
   ]
  },
  {
   "cell_type": "code",
   "execution_count": 85,
   "metadata": {},
   "outputs": [
    {
     "data": {
      "text/plain": [
       "(random        584\n",
       " question1a      5\n",
       " question1b      5\n",
       " question2a      5\n",
       " question2b      5\n",
       " question3a      4\n",
       " question3b      5\n",
       " question4a      5\n",
       " question4b      5\n",
       " question5a      5\n",
       " question5b      5\n",
       " Name: 54, dtype: object, 49)"
      ]
     },
     "execution_count": 85,
     "metadata": {},
     "output_type": "execute_result"
    }
   ],
   "source": [
    "data.iloc[row][2:], data.iloc[row][3:].sum()"
   ]
  },
  {
   "cell_type": "markdown",
   "metadata": {},
   "source": [
    "### 591"
   ]
  },
  {
   "cell_type": "code",
   "execution_count": 86,
   "metadata": {},
   "outputs": [],
   "source": [
    "row = np.where(data['random'] == 591)[0][0]\n",
    "data.loc[row, 'question{}'.format('1a')] = 5\n",
    "data.loc[row, 'question{}'.format('1b')] = 3\n",
    "data.loc[row, 'question{}'.format('2a')] = 4\n",
    "data.loc[row, 'question{}'.format('2b')] = 2\n",
    "data.loc[row, 'question{}'.format('3a')] = 4\n",
    "data.loc[row, 'question{}'.format('3b')] = 4\n",
    "data.loc[row, 'question{}'.format('4a')] = 3\n",
    "data.loc[row, 'question{}'.format('4b')] = 2\n",
    "data.loc[row, 'question{}'.format('5a')] = 3\n",
    "data.loc[row, 'question{}'.format('5b')] = 4"
   ]
  },
  {
   "cell_type": "code",
   "execution_count": 87,
   "metadata": {},
   "outputs": [
    {
     "data": {
      "text/plain": [
       "(random        591\n",
       " question1a      5\n",
       " question1b      3\n",
       " question2a      4\n",
       " question2b      2\n",
       " question3a      4\n",
       " question3b      4\n",
       " question4a      3\n",
       " question4b      2\n",
       " question5a      3\n",
       " question5b      4\n",
       " Name: 24, dtype: object, 34)"
      ]
     },
     "execution_count": 87,
     "metadata": {},
     "output_type": "execute_result"
    }
   ],
   "source": [
    "data.iloc[row][2:], data.iloc[row][3:].sum()"
   ]
  },
  {
   "cell_type": "markdown",
   "metadata": {},
   "source": [
    "### 604"
   ]
  },
  {
   "cell_type": "code",
   "execution_count": 88,
   "metadata": {},
   "outputs": [],
   "source": [
    "row = np.where(data['random'] == 604)[0][0]\n",
    "data.loc[row, 'question{}'.format('1a')] = 5\n",
    "data.loc[row, 'question{}'.format('1b')] = 5\n",
    "data.loc[row, 'question{}'.format('2a')] = 5\n",
    "data.loc[row, 'question{}'.format('2b')] = 5\n",
    "data.loc[row, 'question{}'.format('3a')] = 4\n",
    "data.loc[row, 'question{}'.format('3b')] = 4\n",
    "data.loc[row, 'question{}'.format('4a')] = 5\n",
    "data.loc[row, 'question{}'.format('4b')] = 3\n",
    "data.loc[row, 'question{}'.format('5a')] = 4\n",
    "data.loc[row, 'question{}'.format('5b')] = 3"
   ]
  },
  {
   "cell_type": "code",
   "execution_count": 89,
   "metadata": {},
   "outputs": [
    {
     "data": {
      "text/plain": [
       "(random        604\n",
       " question1a      5\n",
       " question1b      5\n",
       " question2a      5\n",
       " question2b      5\n",
       " question3a      4\n",
       " question3b      4\n",
       " question4a      5\n",
       " question4b      3\n",
       " question5a      4\n",
       " question5b      3\n",
       " Name: 52, dtype: object, 43)"
      ]
     },
     "execution_count": 89,
     "metadata": {},
     "output_type": "execute_result"
    }
   ],
   "source": [
    "data.iloc[row][2:], data.iloc[row][3:].sum()"
   ]
  },
  {
   "cell_type": "markdown",
   "metadata": {},
   "source": [
    "### 610"
   ]
  },
  {
   "cell_type": "code",
   "execution_count": 90,
   "metadata": {},
   "outputs": [],
   "source": [
    "row = np.where(data['random'] == 610)[0][0]\n",
    "data.loc[row, 'question{}'.format('1a')] = 4\n",
    "data.loc[row, 'question{}'.format('1b')] = 5\n",
    "data.loc[row, 'question{}'.format('2a')] = 5\n",
    "data.loc[row, 'question{}'.format('2b')] = 4\n",
    "data.loc[row, 'question{}'.format('3a')] = 5\n",
    "data.loc[row, 'question{}'.format('3b')] = 4\n",
    "data.loc[row, 'question{}'.format('4a')] = 5\n",
    "data.loc[row, 'question{}'.format('4b')] = 3\n",
    "data.loc[row, 'question{}'.format('5a')] = 4\n",
    "data.loc[row, 'question{}'.format('5b')] = 5"
   ]
  },
  {
   "cell_type": "code",
   "execution_count": 91,
   "metadata": {},
   "outputs": [
    {
     "data": {
      "text/plain": [
       "(random        610\n",
       " question1a      4\n",
       " question1b      5\n",
       " question2a      5\n",
       " question2b      4\n",
       " question3a      5\n",
       " question3b      4\n",
       " question4a      5\n",
       " question4b      3\n",
       " question5a      4\n",
       " question5b      5\n",
       " Name: 40, dtype: object, 44)"
      ]
     },
     "execution_count": 91,
     "metadata": {},
     "output_type": "execute_result"
    }
   ],
   "source": [
    "data.iloc[row][2:], data.iloc[row][3:].sum()"
   ]
  },
  {
   "cell_type": "markdown",
   "metadata": {},
   "source": [
    "### 660 "
   ]
  },
  {
   "cell_type": "code",
   "execution_count": 92,
   "metadata": {},
   "outputs": [],
   "source": [
    "row = np.where(data['random'] == 660)[0][0]\n",
    "data.loc[row, 'question{}'.format('1a')] = 4\n",
    "data.loc[row, 'question{}'.format('1b')] = 5\n",
    "data.loc[row, 'question{}'.format('2a')] = 4\n",
    "data.loc[row, 'question{}'.format('2b')] = 5\n",
    "data.loc[row, 'question{}'.format('3a')] = 4\n",
    "data.loc[row, 'question{}'.format('3b')] = 4\n",
    "data.loc[row, 'question{}'.format('4a')] = 4\n",
    "data.loc[row, 'question{}'.format('4b')] = 3\n",
    "data.loc[row, 'question{}'.format('5a')] = 4\n",
    "data.loc[row, 'question{}'.format('5b')] = 1"
   ]
  },
  {
   "cell_type": "code",
   "execution_count": 93,
   "metadata": {},
   "outputs": [
    {
     "data": {
      "text/plain": [
       "(random        660\n",
       " question1a      4\n",
       " question1b      5\n",
       " question2a      4\n",
       " question2b      5\n",
       " question3a      4\n",
       " question3b      4\n",
       " question4a      4\n",
       " question4b      3\n",
       " question5a      4\n",
       " question5b      1\n",
       " Name: 37, dtype: object, 38)"
      ]
     },
     "execution_count": 93,
     "metadata": {},
     "output_type": "execute_result"
    }
   ],
   "source": [
    "data.iloc[row][2:], data.iloc[row][3:].sum()"
   ]
  },
  {
   "cell_type": "markdown",
   "metadata": {},
   "source": [
    "### 662"
   ]
  },
  {
   "cell_type": "code",
   "execution_count": 94,
   "metadata": {},
   "outputs": [],
   "source": [
    "row = np.where(data['random'] == 662)[0][0]\n",
    "data.loc[row, 'question{}'.format('1a')] = 5\n",
    "data.loc[row, 'question{}'.format('1b')] = 5\n",
    "data.loc[row, 'question{}'.format('2a')] = 5\n",
    "data.loc[row, 'question{}'.format('2b')] = 5\n",
    "data.loc[row, 'question{}'.format('3a')] = 4\n",
    "data.loc[row, 'question{}'.format('3b')] = 4\n",
    "data.loc[row, 'question{}'.format('4a')] = 3\n",
    "data.loc[row, 'question{}'.format('4b')] = 3\n",
    "data.loc[row, 'question{}'.format('5a')] = 5\n",
    "data.loc[row, 'question{}'.format('5b')] = 2"
   ]
  },
  {
   "cell_type": "code",
   "execution_count": 95,
   "metadata": {},
   "outputs": [
    {
     "data": {
      "text/plain": [
       "(random        662\n",
       " question1a      5\n",
       " question1b      5\n",
       " question2a      5\n",
       " question2b      5\n",
       " question3a      4\n",
       " question3b      4\n",
       " question4a      3\n",
       " question4b      3\n",
       " question5a      5\n",
       " question5b      2\n",
       " Name: 47, dtype: object, 41)"
      ]
     },
     "execution_count": 95,
     "metadata": {},
     "output_type": "execute_result"
    }
   ],
   "source": [
    "data.iloc[row][2:], data.iloc[row][3:].sum()"
   ]
  },
  {
   "cell_type": "markdown",
   "metadata": {},
   "source": [
    "### 666"
   ]
  },
  {
   "cell_type": "code",
   "execution_count": 96,
   "metadata": {},
   "outputs": [],
   "source": [
    "row = np.where(data['random'] == 666)[0][0]\n",
    "data.loc[row, 'question{}'.format('1a')] = 5\n",
    "data.loc[row, 'question{}'.format('1b')] = 5\n",
    "data.loc[row, 'question{}'.format('2a')] = 5\n",
    "data.loc[row, 'question{}'.format('2b')] = 5\n",
    "data.loc[row, 'question{}'.format('3a')] = 4\n",
    "data.loc[row, 'question{}'.format('3b')] = 4\n",
    "data.loc[row, 'question{}'.format('4a')] = 5\n",
    "data.loc[row, 'question{}'.format('4b')] = 5\n",
    "data.loc[row, 'question{}'.format('5a')] = 4\n",
    "data.loc[row, 'question{}'.format('5b')] = 3"
   ]
  },
  {
   "cell_type": "code",
   "execution_count": 97,
   "metadata": {},
   "outputs": [
    {
     "data": {
      "text/plain": [
       "(random        666\n",
       " question1a      5\n",
       " question1b      5\n",
       " question2a      5\n",
       " question2b      5\n",
       " question3a      4\n",
       " question3b      4\n",
       " question4a      5\n",
       " question4b      5\n",
       " question5a      4\n",
       " question5b      3\n",
       " Name: 49, dtype: object, 45)"
      ]
     },
     "execution_count": 97,
     "metadata": {},
     "output_type": "execute_result"
    }
   ],
   "source": [
    "data.iloc[row][2:], data.iloc[row][3:].sum()"
   ]
  },
  {
   "cell_type": "markdown",
   "metadata": {},
   "source": [
    "### 700"
   ]
  },
  {
   "cell_type": "code",
   "execution_count": 98,
   "metadata": {},
   "outputs": [],
   "source": [
    "row = np.where(data['random'] == 700)[0][0]\n",
    "data.loc[row, 'question{}'.format('1a')] = 5\n",
    "data.loc[row, 'question{}'.format('1b')] = 5\n",
    "data.loc[row, 'question{}'.format('2a')] = 4\n",
    "data.loc[row, 'question{}'.format('2b')] = 5\n",
    "data.loc[row, 'question{}'.format('3a')] = 4\n",
    "data.loc[row, 'question{}'.format('3b')] = 3\n",
    "data.loc[row, 'question{}'.format('4a')] = 5\n",
    "data.loc[row, 'question{}'.format('4b')] = 5\n",
    "data.loc[row, 'question{}'.format('5a')] = 4\n",
    "data.loc[row, 'question{}'.format('5b')] = 4"
   ]
  },
  {
   "cell_type": "code",
   "execution_count": 99,
   "metadata": {},
   "outputs": [
    {
     "data": {
      "text/plain": [
       "(random        700\n",
       " question1a      5\n",
       " question1b      5\n",
       " question2a      4\n",
       " question2b      5\n",
       " question3a      4\n",
       " question3b      3\n",
       " question4a      5\n",
       " question4b      5\n",
       " question5a      4\n",
       " question5b      4\n",
       " Name: 62, dtype: object, 44)"
      ]
     },
     "execution_count": 99,
     "metadata": {},
     "output_type": "execute_result"
    }
   ],
   "source": [
    "data.iloc[row][2:], data.iloc[row][3:].sum()"
   ]
  },
  {
   "cell_type": "markdown",
   "metadata": {},
   "source": [
    "### 714"
   ]
  },
  {
   "cell_type": "code",
   "execution_count": 100,
   "metadata": {},
   "outputs": [],
   "source": [
    "row = np.where(data['random'] == 714)[0][0]\n",
    "data.loc[row, 'question{}'.format('1a')] = 5\n",
    "data.loc[row, 'question{}'.format('1b')] = 5\n",
    "data.loc[row, 'question{}'.format('2a')] = 5\n",
    "data.loc[row, 'question{}'.format('2b')] = 5\n",
    "data.loc[row, 'question{}'.format('3a')] = 5\n",
    "data.loc[row, 'question{}'.format('3b')] = 5\n",
    "data.loc[row, 'question{}'.format('4a')] = 4\n",
    "data.loc[row, 'question{}'.format('4b')] = 4\n",
    "data.loc[row, 'question{}'.format('5a')] = 3\n",
    "data.loc[row, 'question{}'.format('5b')] = 4"
   ]
  },
  {
   "cell_type": "code",
   "execution_count": 101,
   "metadata": {},
   "outputs": [
    {
     "data": {
      "text/plain": [
       "(random        714\n",
       " question1a      5\n",
       " question1b      5\n",
       " question2a      5\n",
       " question2b      5\n",
       " question3a      5\n",
       " question3b      5\n",
       " question4a      4\n",
       " question4b      4\n",
       " question5a      3\n",
       " question5b      4\n",
       " Name: 8, dtype: object, 45)"
      ]
     },
     "execution_count": 101,
     "metadata": {},
     "output_type": "execute_result"
    }
   ],
   "source": [
    "data.iloc[row][2:], data.iloc[row][3:].sum()"
   ]
  },
  {
   "cell_type": "markdown",
   "metadata": {},
   "source": [
    "### 746"
   ]
  },
  {
   "cell_type": "code",
   "execution_count": 102,
   "metadata": {},
   "outputs": [],
   "source": [
    "row = np.where(data['random'] == 746)[0][0]\n",
    "data.loc[row, 'question{}'.format('1a')] = 4\n",
    "data.loc[row, 'question{}'.format('1b')] = 5\n",
    "data.loc[row, 'question{}'.format('2a')] = 5\n",
    "data.loc[row, 'question{}'.format('2b')] = 5\n",
    "data.loc[row, 'question{}'.format('3a')] = 4\n",
    "data.loc[row, 'question{}'.format('3b')] = 3\n",
    "data.loc[row, 'question{}'.format('4a')] = 5\n",
    "data.loc[row, 'question{}'.format('4b')] = 3\n",
    "data.loc[row, 'question{}'.format('5a')] = 5\n",
    "data.loc[row, 'question{}'.format('5b')] = 3"
   ]
  },
  {
   "cell_type": "code",
   "execution_count": 103,
   "metadata": {},
   "outputs": [
    {
     "data": {
      "text/plain": [
       "(random        746\n",
       " question1a      4\n",
       " question1b      5\n",
       " question2a      5\n",
       " question2b      5\n",
       " question3a      4\n",
       " question3b      3\n",
       " question4a      5\n",
       " question4b      3\n",
       " question5a      5\n",
       " question5b      3\n",
       " Name: 56, dtype: object, 42)"
      ]
     },
     "execution_count": 103,
     "metadata": {},
     "output_type": "execute_result"
    }
   ],
   "source": [
    "data.iloc[row][2:], data.iloc[row][3:].sum()"
   ]
  },
  {
   "cell_type": "markdown",
   "metadata": {},
   "source": [
    "### 761"
   ]
  },
  {
   "cell_type": "code",
   "execution_count": 104,
   "metadata": {},
   "outputs": [],
   "source": [
    "row = np.where(data['random'] == 761)[0][0]\n",
    "data.loc[row, 'question{}'.format('1a')] = 4\n",
    "data.loc[row, 'question{}'.format('1b')] = 4\n",
    "data.loc[row, 'question{}'.format('2a')] = 5\n",
    "data.loc[row, 'question{}'.format('2b')] = 4\n",
    "data.loc[row, 'question{}'.format('3a')] = 4\n",
    "data.loc[row, 'question{}'.format('3b')] = 4\n",
    "data.loc[row, 'question{}'.format('4a')] = 5\n",
    "data.loc[row, 'question{}'.format('4b')] = 5\n",
    "data.loc[row, 'question{}'.format('5a')] = 4\n",
    "data.loc[row, 'question{}'.format('5b')] = 5"
   ]
  },
  {
   "cell_type": "code",
   "execution_count": 105,
   "metadata": {},
   "outputs": [
    {
     "data": {
      "text/plain": [
       "(random        761\n",
       " question1a      4\n",
       " question1b      4\n",
       " question2a      5\n",
       " question2b      4\n",
       " question3a      4\n",
       " question3b      4\n",
       " question4a      5\n",
       " question4b      5\n",
       " question5a      4\n",
       " question5b      5\n",
       " Name: 20, dtype: object, 44)"
      ]
     },
     "execution_count": 105,
     "metadata": {},
     "output_type": "execute_result"
    }
   ],
   "source": [
    "data.iloc[row][2:], data.iloc[row][3:].sum()"
   ]
  },
  {
   "cell_type": "markdown",
   "metadata": {},
   "source": [
    "### 763"
   ]
  },
  {
   "cell_type": "code",
   "execution_count": 106,
   "metadata": {},
   "outputs": [],
   "source": [
    "row = np.where(data['random'] == 763)[0][0]\n",
    "data.loc[row, 'question{}'.format('1a')] = 4\n",
    "data.loc[row, 'question{}'.format('1b')] = 5\n",
    "data.loc[row, 'question{}'.format('2a')] = 5\n",
    "data.loc[row, 'question{}'.format('2b')] = 5\n",
    "data.loc[row, 'question{}'.format('3a')] = 4\n",
    "data.loc[row, 'question{}'.format('3b')] = 5\n",
    "data.loc[row, 'question{}'.format('4a')] = 5\n",
    "data.loc[row, 'question{}'.format('4b')] = 5\n",
    "data.loc[row, 'question{}'.format('5a')] = 4\n",
    "data.loc[row, 'question{}'.format('5b')] = 3"
   ]
  },
  {
   "cell_type": "code",
   "execution_count": 107,
   "metadata": {},
   "outputs": [
    {
     "data": {
      "text/plain": [
       "(random        763\n",
       " question1a      4\n",
       " question1b      5\n",
       " question2a      5\n",
       " question2b      5\n",
       " question3a      4\n",
       " question3b      5\n",
       " question4a      5\n",
       " question4b      5\n",
       " question5a      4\n",
       " question5b      3\n",
       " Name: 18, dtype: object, 45)"
      ]
     },
     "execution_count": 107,
     "metadata": {},
     "output_type": "execute_result"
    }
   ],
   "source": [
    "data.iloc[row][2:], data.iloc[row][3:].sum()"
   ]
  },
  {
   "cell_type": "markdown",
   "metadata": {},
   "source": [
    "### 781"
   ]
  },
  {
   "cell_type": "code",
   "execution_count": 108,
   "metadata": {},
   "outputs": [],
   "source": [
    "row = np.where(data['random'] == 781)[0][0]\n",
    "data.loc[row, 'question{}'.format('1a')] = 5\n",
    "data.loc[row, 'question{}'.format('1b')] = 5\n",
    "data.loc[row, 'question{}'.format('2a')] = 5\n",
    "data.loc[row, 'question{}'.format('2b')] = 5\n",
    "data.loc[row, 'question{}'.format('3a')] = 4\n",
    "data.loc[row, 'question{}'.format('3b')] = 5\n",
    "data.loc[row, 'question{}'.format('4a')] = 5\n",
    "data.loc[row, 'question{}'.format('4b')] = 3\n",
    "data.loc[row, 'question{}'.format('5a')] = 5\n",
    "data.loc[row, 'question{}'.format('5b')] = 2"
   ]
  },
  {
   "cell_type": "code",
   "execution_count": 109,
   "metadata": {},
   "outputs": [
    {
     "data": {
      "text/plain": [
       "(random        781\n",
       " question1a      5\n",
       " question1b      5\n",
       " question2a      5\n",
       " question2b      5\n",
       " question3a      4\n",
       " question3b      5\n",
       " question4a      5\n",
       " question4b      3\n",
       " question5a      5\n",
       " question5b      2\n",
       " Name: 41, dtype: object, 44)"
      ]
     },
     "execution_count": 109,
     "metadata": {},
     "output_type": "execute_result"
    }
   ],
   "source": [
    "data.iloc[row][2:], data.iloc[row][3:].sum()"
   ]
  },
  {
   "cell_type": "markdown",
   "metadata": {},
   "source": [
    "### 786"
   ]
  },
  {
   "cell_type": "code",
   "execution_count": 110,
   "metadata": {},
   "outputs": [],
   "source": [
    "row = np.where(data['random'] == 786)[0][0]\n",
    "data.loc[row, 'question{}'.format('1a')] = 5\n",
    "data.loc[row, 'question{}'.format('1b')] = 5\n",
    "data.loc[row, 'question{}'.format('2a')] = 5\n",
    "data.loc[row, 'question{}'.format('2b')] = 5\n",
    "data.loc[row, 'question{}'.format('3a')] = 3\n",
    "data.loc[row, 'question{}'.format('3b')] = 4\n",
    "data.loc[row, 'question{}'.format('4a')] = 5\n",
    "data.loc[row, 'question{}'.format('4b')] = 3\n",
    "data.loc[row, 'question{}'.format('5a')] = 5\n",
    "data.loc[row, 'question{}'.format('5b')] = 3"
   ]
  },
  {
   "cell_type": "code",
   "execution_count": 111,
   "metadata": {},
   "outputs": [
    {
     "data": {
      "text/plain": [
       "(random        786\n",
       " question1a      5\n",
       " question1b      5\n",
       " question2a      5\n",
       " question2b      5\n",
       " question3a      3\n",
       " question3b      4\n",
       " question4a      5\n",
       " question4b      3\n",
       " question5a      5\n",
       " question5b      3\n",
       " Name: 46, dtype: object, 43)"
      ]
     },
     "execution_count": 111,
     "metadata": {},
     "output_type": "execute_result"
    }
   ],
   "source": [
    "data.iloc[row][2:], data.iloc[row][3:].sum()"
   ]
  },
  {
   "cell_type": "markdown",
   "metadata": {},
   "source": [
    "### 799"
   ]
  },
  {
   "cell_type": "code",
   "execution_count": 112,
   "metadata": {},
   "outputs": [],
   "source": [
    "row = np.where(data['random'] == 799)[0][0]\n",
    "data.loc[row, 'question{}'.format('1a')] = 4\n",
    "data.loc[row, 'question{}'.format('1b')] = 5\n",
    "data.loc[row, 'question{}'.format('2a')] = 5\n",
    "data.loc[row, 'question{}'.format('2b')] = 5\n",
    "data.loc[row, 'question{}'.format('3a')] = 4\n",
    "data.loc[row, 'question{}'.format('3b')] = 4\n",
    "data.loc[row, 'question{}'.format('4a')] = 5\n",
    "data.loc[row, 'question{}'.format('4b')] = 5\n",
    "data.loc[row, 'question{}'.format('5a')] = 2\n",
    "data.loc[row, 'question{}'.format('5b')] = 5"
   ]
  },
  {
   "cell_type": "code",
   "execution_count": 113,
   "metadata": {},
   "outputs": [
    {
     "data": {
      "text/plain": [
       "(random        799\n",
       " question1a      4\n",
       " question1b      5\n",
       " question2a      5\n",
       " question2b      5\n",
       " question3a      4\n",
       " question3b      4\n",
       " question4a      5\n",
       " question4b      5\n",
       " question5a      2\n",
       " question5b      5\n",
       " Name: 43, dtype: object, 44)"
      ]
     },
     "execution_count": 113,
     "metadata": {},
     "output_type": "execute_result"
    }
   ],
   "source": [
    "data.iloc[row][2:], data.iloc[row][3:].sum()"
   ]
  },
  {
   "cell_type": "markdown",
   "metadata": {},
   "source": [
    "### 800"
   ]
  },
  {
   "cell_type": "code",
   "execution_count": 114,
   "metadata": {},
   "outputs": [],
   "source": [
    "row = np.where(data['random'] == 800)[0][0]\n",
    "data.loc[row, 'question{}'.format('1a')] = 5\n",
    "data.loc[row, 'question{}'.format('1b')] = 5\n",
    "data.loc[row, 'question{}'.format('2a')] = 3\n",
    "data.loc[row, 'question{}'.format('2b')] = 5\n",
    "data.loc[row, 'question{}'.format('3a')] = 4\n",
    "data.loc[row, 'question{}'.format('3b')] = 4\n",
    "data.loc[row, 'question{}'.format('4a')] = 5\n",
    "data.loc[row, 'question{}'.format('4b')] = 3\n",
    "data.loc[row, 'question{}'.format('5a')] = 5\n",
    "data.loc[row, 'question{}'.format('5b')] = 3"
   ]
  },
  {
   "cell_type": "code",
   "execution_count": 115,
   "metadata": {},
   "outputs": [
    {
     "data": {
      "text/plain": [
       "(random        800\n",
       " question1a      5\n",
       " question1b      5\n",
       " question2a      3\n",
       " question2b      5\n",
       " question3a      4\n",
       " question3b      4\n",
       " question4a      5\n",
       " question4b      3\n",
       " question5a      5\n",
       " question5b      3\n",
       " Name: 6, dtype: object, 42)"
      ]
     },
     "execution_count": 115,
     "metadata": {},
     "output_type": "execute_result"
    }
   ],
   "source": [
    "data.iloc[row][2:], data.iloc[row][3:].sum()"
   ]
  },
  {
   "cell_type": "markdown",
   "metadata": {},
   "source": [
    "### 847"
   ]
  },
  {
   "cell_type": "code",
   "execution_count": 116,
   "metadata": {},
   "outputs": [],
   "source": [
    "row = np.where(data['random'] == 847)[0][0]\n",
    "data.loc[row, 'question{}'.format('1a')] = 5\n",
    "data.loc[row, 'question{}'.format('1b')] = 5\n",
    "data.loc[row, 'question{}'.format('2a')] = 4\n",
    "data.loc[row, 'question{}'.format('2b')] = 0\n",
    "data.loc[row, 'question{}'.format('3a')] = 4\n",
    "data.loc[row, 'question{}'.format('3b')] = 1\n",
    "data.loc[row, 'question{}'.format('4a')] = 5\n",
    "data.loc[row, 'question{}'.format('4b')] = 3\n",
    "data.loc[row, 'question{}'.format('5a')] = 5\n",
    "data.loc[row, 'question{}'.format('5b')] = 1"
   ]
  },
  {
   "cell_type": "code",
   "execution_count": 117,
   "metadata": {},
   "outputs": [
    {
     "data": {
      "text/plain": [
       "(random        847\n",
       " question1a      5\n",
       " question1b      5\n",
       " question2a      4\n",
       " question2b      0\n",
       " question3a      4\n",
       " question3b      1\n",
       " question4a      5\n",
       " question4b      3\n",
       " question5a      5\n",
       " question5b      1\n",
       " Name: 35, dtype: object, 33)"
      ]
     },
     "execution_count": 117,
     "metadata": {},
     "output_type": "execute_result"
    }
   ],
   "source": [
    "data.iloc[row][2:], data.iloc[row][3:].sum()"
   ]
  },
  {
   "cell_type": "markdown",
   "metadata": {},
   "source": [
    "### 869"
   ]
  },
  {
   "cell_type": "code",
   "execution_count": 118,
   "metadata": {},
   "outputs": [],
   "source": [
    "row = np.where(data['random'] == 869)[0][0]\n",
    "data.loc[row, 'question{}'.format('1a')] = 3\n",
    "data.loc[row, 'question{}'.format('1b')] = 5\n",
    "data.loc[row, 'question{}'.format('2a')] = 4\n",
    "data.loc[row, 'question{}'.format('2b')] = 5\n",
    "data.loc[row, 'question{}'.format('3a')] = 4\n",
    "data.loc[row, 'question{}'.format('3b')] = 3\n",
    "data.loc[row, 'question{}'.format('4a')] = 4\n",
    "data.loc[row, 'question{}'.format('4b')] = 4\n",
    "data.loc[row, 'question{}'.format('5a')] = 3\n",
    "data.loc[row, 'question{}'.format('5b')] = 5"
   ]
  },
  {
   "cell_type": "code",
   "execution_count": 119,
   "metadata": {},
   "outputs": [
    {
     "data": {
      "text/plain": [
       "(random        869\n",
       " question1a      3\n",
       " question1b      5\n",
       " question2a      4\n",
       " question2b      5\n",
       " question3a      4\n",
       " question3b      3\n",
       " question4a      4\n",
       " question4b      4\n",
       " question5a      3\n",
       " question5b      5\n",
       " Name: 22, dtype: object, 40)"
      ]
     },
     "execution_count": 119,
     "metadata": {},
     "output_type": "execute_result"
    }
   ],
   "source": [
    "data.iloc[row][2:], data.iloc[row][3:].sum()"
   ]
  },
  {
   "cell_type": "markdown",
   "metadata": {},
   "source": [
    "### 882"
   ]
  },
  {
   "cell_type": "code",
   "execution_count": 120,
   "metadata": {},
   "outputs": [],
   "source": [
    "row = np.where(data['random'] == 882)[0][0]\n",
    "data.loc[row, 'question{}'.format('1a')] = 4\n",
    "data.loc[row, 'question{}'.format('1b')] = 5\n",
    "data.loc[row, 'question{}'.format('2a')] = 5\n",
    "data.loc[row, 'question{}'.format('2b')] = 5\n",
    "data.loc[row, 'question{}'.format('3a')] = 4\n",
    "data.loc[row, 'question{}'.format('3b')] = 4\n",
    "data.loc[row, 'question{}'.format('4a')] = 5\n",
    "data.loc[row, 'question{}'.format('4b')] = 3\n",
    "data.loc[row, 'question{}'.format('5a')] = 4\n",
    "data.loc[row, 'question{}'.format('5b')] = 3"
   ]
  },
  {
   "cell_type": "code",
   "execution_count": 121,
   "metadata": {},
   "outputs": [
    {
     "data": {
      "text/plain": [
       "(random        882\n",
       " question1a      4\n",
       " question1b      5\n",
       " question2a      5\n",
       " question2b      5\n",
       " question3a      4\n",
       " question3b      4\n",
       " question4a      5\n",
       " question4b      3\n",
       " question5a      4\n",
       " question5b      3\n",
       " Name: 44, dtype: object, 42)"
      ]
     },
     "execution_count": 121,
     "metadata": {},
     "output_type": "execute_result"
    }
   ],
   "source": [
    "data.iloc[row][2:], data.iloc[row][3:].sum()"
   ]
  },
  {
   "cell_type": "markdown",
   "metadata": {},
   "source": [
    "### 905"
   ]
  },
  {
   "cell_type": "code",
   "execution_count": 122,
   "metadata": {},
   "outputs": [],
   "source": [
    "row = np.where(data['random'] == 905)[0][0]\n",
    "data.loc[row, 'question{}'.format('1a')] = 5\n",
    "data.loc[row, 'question{}'.format('1b')] = 5\n",
    "data.loc[row, 'question{}'.format('2a')] = 5\n",
    "data.loc[row, 'question{}'.format('2b')] = 5\n",
    "data.loc[row, 'question{}'.format('3a')] = 4\n",
    "data.loc[row, 'question{}'.format('3b')] = 5\n",
    "data.loc[row, 'question{}'.format('4a')] = 5\n",
    "data.loc[row, 'question{}'.format('4b')] = 5\n",
    "data.loc[row, 'question{}'.format('5a')] = 5\n",
    "data.loc[row, 'question{}'.format('5b')] = 5"
   ]
  },
  {
   "cell_type": "code",
   "execution_count": 123,
   "metadata": {},
   "outputs": [
    {
     "data": {
      "text/plain": [
       "(random        905\n",
       " question1a      5\n",
       " question1b      5\n",
       " question2a      5\n",
       " question2b      5\n",
       " question3a      4\n",
       " question3b      5\n",
       " question4a      5\n",
       " question4b      5\n",
       " question5a      5\n",
       " question5b      5\n",
       " Name: 26, dtype: object, 49)"
      ]
     },
     "execution_count": 123,
     "metadata": {},
     "output_type": "execute_result"
    }
   ],
   "source": [
    "data.iloc[row][2:], data.iloc[row][3:].sum()"
   ]
  },
  {
   "cell_type": "markdown",
   "metadata": {},
   "source": [
    "### 918"
   ]
  },
  {
   "cell_type": "code",
   "execution_count": 124,
   "metadata": {},
   "outputs": [],
   "source": [
    "row = np.where(data['random'] == 918)[0][0]\n",
    "data.loc[row, 'question{}'.format('1a')] = 5\n",
    "data.loc[row, 'question{}'.format('1b')] = 5\n",
    "data.loc[row, 'question{}'.format('2a')] = 4\n",
    "data.loc[row, 'question{}'.format('2b')] = 5\n",
    "data.loc[row, 'question{}'.format('3a')] = 4\n",
    "data.loc[row, 'question{}'.format('3b')] = 3\n",
    "data.loc[row, 'question{}'.format('4a')] = 4\n",
    "data.loc[row, 'question{}'.format('4b')] = 1\n",
    "data.loc[row, 'question{}'.format('5a')] = 4\n",
    "data.loc[row, 'question{}'.format('5b')] = 1"
   ]
  },
  {
   "cell_type": "code",
   "execution_count": 125,
   "metadata": {},
   "outputs": [
    {
     "data": {
      "text/plain": [
       "(random        918\n",
       " question1a      5\n",
       " question1b      5\n",
       " question2a      4\n",
       " question2b      5\n",
       " question3a      4\n",
       " question3b      3\n",
       " question4a      4\n",
       " question4b      1\n",
       " question5a      4\n",
       " question5b      1\n",
       " Name: 55, dtype: object, 36)"
      ]
     },
     "execution_count": 125,
     "metadata": {},
     "output_type": "execute_result"
    }
   ],
   "source": [
    "data.iloc[row][2:], data.iloc[row][3:].sum()"
   ]
  },
  {
   "cell_type": "markdown",
   "metadata": {},
   "source": [
    "### 931"
   ]
  },
  {
   "cell_type": "code",
   "execution_count": 126,
   "metadata": {},
   "outputs": [],
   "source": [
    "row = np.where(data['random'] == 931)[0][0]\n",
    "data.loc[row, 'question{}'.format('1a')] = 4\n",
    "data.loc[row, 'question{}'.format('1b')] = 5\n",
    "data.loc[row, 'question{}'.format('2a')] = 0\n",
    "data.loc[row, 'question{}'.format('2b')] = 2\n",
    "data.loc[row, 'question{}'.format('3a')] = 4\n",
    "data.loc[row, 'question{}'.format('3b')] = 3\n",
    "data.loc[row, 'question{}'.format('4a')] = 4\n",
    "data.loc[row, 'question{}'.format('4b')] = 4\n",
    "data.loc[row, 'question{}'.format('5a')] = 3\n",
    "data.loc[row, 'question{}'.format('5b')] = 3"
   ]
  },
  {
   "cell_type": "code",
   "execution_count": 127,
   "metadata": {},
   "outputs": [
    {
     "data": {
      "text/plain": [
       "(random        931\n",
       " question1a      4\n",
       " question1b      5\n",
       " question2a      0\n",
       " question2b      2\n",
       " question3a      4\n",
       " question3b      3\n",
       " question4a      4\n",
       " question4b      4\n",
       " question5a      3\n",
       " question5b      3\n",
       " Name: 51, dtype: object, 32)"
      ]
     },
     "execution_count": 127,
     "metadata": {},
     "output_type": "execute_result"
    }
   ],
   "source": [
    "data.iloc[row][2:], data.iloc[row][3:].sum()"
   ]
  },
  {
   "cell_type": "markdown",
   "metadata": {},
   "source": [
    "### 940"
   ]
  },
  {
   "cell_type": "code",
   "execution_count": 128,
   "metadata": {},
   "outputs": [],
   "source": [
    "row = np.where(data['random'] == 940)[0][0]\n",
    "data.loc[row, 'question{}'.format('1a')] = 5\n",
    "data.loc[row, 'question{}'.format('1b')] = 5\n",
    "data.loc[row, 'question{}'.format('2a')] = 5\n",
    "data.loc[row, 'question{}'.format('2b')] = 5\n",
    "data.loc[row, 'question{}'.format('3a')] = 4\n",
    "data.loc[row, 'question{}'.format('3b')] = 5\n",
    "data.loc[row, 'question{}'.format('4a')] = 4\n",
    "data.loc[row, 'question{}'.format('4b')] = 4\n",
    "data.loc[row, 'question{}'.format('5a')] = 4\n",
    "data.loc[row, 'question{}'.format('5b')] = 3"
   ]
  },
  {
   "cell_type": "code",
   "execution_count": 129,
   "metadata": {},
   "outputs": [
    {
     "data": {
      "text/plain": [
       "(random        940\n",
       " question1a      5\n",
       " question1b      5\n",
       " question2a      5\n",
       " question2b      5\n",
       " question3a      4\n",
       " question3b      5\n",
       " question4a      4\n",
       " question4b      4\n",
       " question5a      4\n",
       " question5b      3\n",
       " Name: 58, dtype: object, 44)"
      ]
     },
     "execution_count": 129,
     "metadata": {},
     "output_type": "execute_result"
    }
   ],
   "source": [
    "data.iloc[row][2:], data.iloc[row][3:].sum()"
   ]
  },
  {
   "cell_type": "markdown",
   "metadata": {},
   "source": [
    "### 956"
   ]
  },
  {
   "cell_type": "code",
   "execution_count": 130,
   "metadata": {},
   "outputs": [],
   "source": [
    "row = np.where(data['random'] == 956)[0][0]\n",
    "data.loc[row, 'question{}'.format('1a')] = 5\n",
    "data.loc[row, 'question{}'.format('1b')] = 5\n",
    "data.loc[row, 'question{}'.format('2a')] = 3\n",
    "data.loc[row, 'question{}'.format('2b')] = 1\n",
    "data.loc[row, 'question{}'.format('3a')] = 4\n",
    "data.loc[row, 'question{}'.format('3b')] = 4\n",
    "data.loc[row, 'question{}'.format('4a')] = 2\n",
    "data.loc[row, 'question{}'.format('4b')] = 3\n",
    "data.loc[row, 'question{}'.format('5a')] = 3\n",
    "data.loc[row, 'question{}'.format('5b')] = 3"
   ]
  },
  {
   "cell_type": "code",
   "execution_count": 131,
   "metadata": {},
   "outputs": [
    {
     "data": {
      "text/plain": [
       "(random        956\n",
       " question1a      5\n",
       " question1b      5\n",
       " question2a      3\n",
       " question2b      1\n",
       " question3a      4\n",
       " question3b      4\n",
       " question4a      2\n",
       " question4b      3\n",
       " question5a      3\n",
       " question5b      3\n",
       " Name: 36, dtype: object, 33)"
      ]
     },
     "execution_count": 131,
     "metadata": {},
     "output_type": "execute_result"
    }
   ],
   "source": [
    "data.iloc[row][2:], data.iloc[row][3:].sum()"
   ]
  },
  {
   "cell_type": "markdown",
   "metadata": {},
   "source": [
    "### 960"
   ]
  },
  {
   "cell_type": "code",
   "execution_count": 132,
   "metadata": {},
   "outputs": [],
   "source": [
    "row = np.where(data['random'] == 960)[0][0]\n",
    "data.loc[row, 'question{}'.format('1a')] = 5\n",
    "data.loc[row, 'question{}'.format('1b')] = 5\n",
    "data.loc[row, 'question{}'.format('2a')] = 4\n",
    "data.loc[row, 'question{}'.format('2b')] = 5\n",
    "data.loc[row, 'question{}'.format('3a')] = 4\n",
    "data.loc[row, 'question{}'.format('3b')] = 4\n",
    "data.loc[row, 'question{}'.format('4a')] = 4\n",
    "data.loc[row, 'question{}'.format('4b')] = 2\n",
    "data.loc[row, 'question{}'.format('5a')] = 5\n",
    "data.loc[row, 'question{}'.format('5b')] = 3"
   ]
  },
  {
   "cell_type": "code",
   "execution_count": 133,
   "metadata": {},
   "outputs": [
    {
     "data": {
      "text/plain": [
       "(random        960\n",
       " question1a      5\n",
       " question1b      5\n",
       " question2a      4\n",
       " question2b      5\n",
       " question3a      4\n",
       " question3b      4\n",
       " question4a      4\n",
       " question4b      2\n",
       " question5a      5\n",
       " question5b      3\n",
       " Name: 2, dtype: object, 41)"
      ]
     },
     "execution_count": 133,
     "metadata": {},
     "output_type": "execute_result"
    }
   ],
   "source": [
    "data.iloc[row][2:], data.iloc[row][3:].sum()"
   ]
  },
  {
   "cell_type": "markdown",
   "metadata": {},
   "source": [
    "### 971"
   ]
  },
  {
   "cell_type": "code",
   "execution_count": 134,
   "metadata": {},
   "outputs": [],
   "source": [
    "row = np.where(data['random'] == 971)[0][0]\n",
    "data.loc[row, 'question{}'.format('1a')] = 5\n",
    "data.loc[row, 'question{}'.format('1b')] = 5\n",
    "data.loc[row, 'question{}'.format('2a')] = 4\n",
    "data.loc[row, 'question{}'.format('2b')] = 5\n",
    "data.loc[row, 'question{}'.format('3a')] = 4\n",
    "data.loc[row, 'question{}'.format('3b')] = 4\n",
    "data.loc[row, 'question{}'.format('4a')] = 5\n",
    "data.loc[row, 'question{}'.format('4b')] = 5\n",
    "data.loc[row, 'question{}'.format('5a')] = 4\n",
    "data.loc[row, 'question{}'.format('5b')] = 5"
   ]
  },
  {
   "cell_type": "code",
   "execution_count": 135,
   "metadata": {},
   "outputs": [
    {
     "data": {
      "text/plain": [
       "(random        971\n",
       " question1a      5\n",
       " question1b      5\n",
       " question2a      4\n",
       " question2b      5\n",
       " question3a      4\n",
       " question3b      4\n",
       " question4a      5\n",
       " question4b      5\n",
       " question5a      4\n",
       " question5b      5\n",
       " Name: 17, dtype: object, 46)"
      ]
     },
     "execution_count": 135,
     "metadata": {},
     "output_type": "execute_result"
    }
   ],
   "source": [
    "data.iloc[row][2:], data.iloc[row][3:].sum()"
   ]
  },
  {
   "cell_type": "markdown",
   "metadata": {},
   "source": [
    "### 975"
   ]
  },
  {
   "cell_type": "code",
   "execution_count": 136,
   "metadata": {},
   "outputs": [],
   "source": [
    "row = np.where(data['random'] == 975)[0][0]\n",
    "data.loc[row, 'question{}'.format('1a')] = 5\n",
    "data.loc[row, 'question{}'.format('1b')] = 4\n",
    "data.loc[row, 'question{}'.format('2a')] = 4\n",
    "data.loc[row, 'question{}'.format('2b')] = 4\n",
    "data.loc[row, 'question{}'.format('3a')] = 4\n",
    "data.loc[row, 'question{}'.format('3b')] = 5\n",
    "data.loc[row, 'question{}'.format('4a')] = 5\n",
    "data.loc[row, 'question{}'.format('4b')] = 3\n",
    "data.loc[row, 'question{}'.format('5a')] = 3\n",
    "data.loc[row, 'question{}'.format('5b')] = 1"
   ]
  },
  {
   "cell_type": "code",
   "execution_count": 137,
   "metadata": {},
   "outputs": [
    {
     "data": {
      "text/plain": [
       "(random        975\n",
       " question1a      5\n",
       " question1b      4\n",
       " question2a      4\n",
       " question2b      4\n",
       " question3a      4\n",
       " question3b      5\n",
       " question4a      5\n",
       " question4b      3\n",
       " question5a      3\n",
       " question5b      1\n",
       " Name: 48, dtype: object, 38)"
      ]
     },
     "execution_count": 137,
     "metadata": {},
     "output_type": "execute_result"
    }
   ],
   "source": [
    "data.iloc[row][2:], data.iloc[row][3:].sum()"
   ]
  },
  {
   "cell_type": "code",
   "execution_count": 138,
   "metadata": {},
   "outputs": [
    {
     "data": {
      "text/plain": [
       "0     38\n",
       "1     47\n",
       "2     41\n",
       "3     50\n",
       "4     41\n",
       "      ..\n",
       "60    36\n",
       "61    44\n",
       "62    44\n",
       "63    46\n",
       "64    30\n",
       "Length: 65, dtype: int64"
      ]
     },
     "execution_count": 138,
     "metadata": {},
     "output_type": "execute_result"
    }
   ],
   "source": [
    "data.iloc[:, 3::2].sum(axis=1) + data.iloc[:, 4::2].sum(axis=1)"
   ]
  },
  {
   "cell_type": "code",
   "execution_count": 151,
   "metadata": {},
   "outputs": [],
   "source": [
    "b_weight = 0.5"
   ]
  },
  {
   "cell_type": "code",
   "execution_count": 152,
   "metadata": {},
   "outputs": [
    {
     "data": {
      "text/plain": [
       "Text(0.5, 0, '%')"
      ]
     },
     "execution_count": 152,
     "metadata": {},
     "output_type": "execute_result"
    },
    {
     "data": {
      "image/png": "[encoded data removed]",
      "text/plain": [
       "<Figure size 432x288 with 1 Axes>"
      ]
     },
     "metadata": {
      "needs_background": "light"
     },
     "output_type": "display_data"
    }
   ],
   "source": [
    "plt.hist(((1 - b_weight) * data.iloc[:, 3::2].sum(axis=1) + (b_weight) * data.iloc[:, 4::2].sum(axis=1)) / 25 * 100, bins=25)\n",
    "plt.xlabel('%')"
   ]
  },
  {
   "cell_type": "code",
   "execution_count": 153,
   "metadata": {},
   "outputs": [],
   "source": [
    "data['total'] = ((1 - b_weight) * data.iloc[:, 3::2].sum(axis=1) + (b_weight) * data.iloc[:, 4::2].sum(axis=1)) / 25 * 100"
   ]
  },
  {
   "cell_type": "code",
   "execution_count": 154,
   "metadata": {},
   "outputs": [
    {
     "data": {
      "text/html": [
       "<div>\n",
       "<style scoped>\n",
       "    .dataframe tbody tr th:only-of-type {\n",
       "        vertical-align: middle;\n",
       "    }\n",
       "\n",
       "    .dataframe tbody tr th {\n",
       "        vertical-align: top;\n",
       "    }\n",
       "\n",
       "    .dataframe thead th {\n",
       "        text-align: right;\n",
       "    }\n",
       "</style>\n",
       "<table border=\"1\" class=\"dataframe\">\n",
       "  <thead>\n",
       "    <tr style=\"text-align: right;\">\n",
       "      <th></th>\n",
       "      <th>forename</th>\n",
       "      <th>surname</th>\n",
       "      <th>random</th>\n",
       "      <th>question1a</th>\n",
       "      <th>question1b</th>\n",
       "      <th>question2a</th>\n",
       "      <th>question2b</th>\n",
       "      <th>question3a</th>\n",
       "      <th>question3b</th>\n",
       "      <th>question4a</th>\n",
       "      <th>question4b</th>\n",
       "      <th>question5a</th>\n",
       "      <th>question5b</th>\n",
       "      <th>total</th>\n",
       "    </tr>\n",
       "  </thead>\n",
       "  <tbody>\n",
       "    <tr>\n",
       "      <th>0</th>\n",
       "      <td>Abin</td>\n",
       "      <td>Punnoose</td>\n",
       "      <td>202</td>\n",
       "      <td>4</td>\n",
       "      <td>5</td>\n",
       "      <td>5</td>\n",
       "      <td>4</td>\n",
       "      <td>4</td>\n",
       "      <td>3</td>\n",
       "      <td>5</td>\n",
       "      <td>3</td>\n",
       "      <td>5</td>\n",
       "      <td>0</td>\n",
       "      <td>76.0</td>\n",
       "    </tr>\n",
       "    <tr>\n",
       "      <th>1</th>\n",
       "      <td>Aidan</td>\n",
       "      <td>Ryan</td>\n",
       "      <td>535</td>\n",
       "      <td>5</td>\n",
       "      <td>4</td>\n",
       "      <td>5</td>\n",
       "      <td>4</td>\n",
       "      <td>5</td>\n",
       "      <td>5</td>\n",
       "      <td>5</td>\n",
       "      <td>5</td>\n",
       "      <td>5</td>\n",
       "      <td>4</td>\n",
       "      <td>94.0</td>\n",
       "    </tr>\n",
       "    <tr>\n",
       "      <th>2</th>\n",
       "      <td>Alex</td>\n",
       "      <td>Clarke</td>\n",
       "      <td>960</td>\n",
       "      <td>5</td>\n",
       "      <td>5</td>\n",
       "      <td>4</td>\n",
       "      <td>5</td>\n",
       "      <td>4</td>\n",
       "      <td>4</td>\n",
       "      <td>4</td>\n",
       "      <td>2</td>\n",
       "      <td>5</td>\n",
       "      <td>3</td>\n",
       "      <td>82.0</td>\n",
       "    </tr>\n",
       "    <tr>\n",
       "      <th>3</th>\n",
       "      <td>Alex</td>\n",
       "      <td>Todd</td>\n",
       "      <td>370</td>\n",
       "      <td>5</td>\n",
       "      <td>5</td>\n",
       "      <td>5</td>\n",
       "      <td>5</td>\n",
       "      <td>5</td>\n",
       "      <td>5</td>\n",
       "      <td>5</td>\n",
       "      <td>5</td>\n",
       "      <td>5</td>\n",
       "      <td>5</td>\n",
       "      <td>100.0</td>\n",
       "    </tr>\n",
       "    <tr>\n",
       "      <th>4</th>\n",
       "      <td>Ali</td>\n",
       "      <td>McIntosh</td>\n",
       "      <td>206</td>\n",
       "      <td>5</td>\n",
       "      <td>5</td>\n",
       "      <td>5</td>\n",
       "      <td>2</td>\n",
       "      <td>4</td>\n",
       "      <td>4</td>\n",
       "      <td>5</td>\n",
       "      <td>5</td>\n",
       "      <td>3</td>\n",
       "      <td>3</td>\n",
       "      <td>82.0</td>\n",
       "    </tr>\n",
       "    <tr>\n",
       "      <th>...</th>\n",
       "      <td>...</td>\n",
       "      <td>...</td>\n",
       "      <td>...</td>\n",
       "      <td>...</td>\n",
       "      <td>...</td>\n",
       "      <td>...</td>\n",
       "      <td>...</td>\n",
       "      <td>...</td>\n",
       "      <td>...</td>\n",
       "      <td>...</td>\n",
       "      <td>...</td>\n",
       "      <td>...</td>\n",
       "      <td>...</td>\n",
       "      <td>...</td>\n",
       "    </tr>\n",
       "    <tr>\n",
       "      <th>60</th>\n",
       "      <td>Suruthi</td>\n",
       "      <td>Gnanenthiran</td>\n",
       "      <td>373</td>\n",
       "      <td>5</td>\n",
       "      <td>5</td>\n",
       "      <td>5</td>\n",
       "      <td>5</td>\n",
       "      <td>4</td>\n",
       "      <td>1</td>\n",
       "      <td>5</td>\n",
       "      <td>0</td>\n",
       "      <td>4</td>\n",
       "      <td>2</td>\n",
       "      <td>72.0</td>\n",
       "    </tr>\n",
       "    <tr>\n",
       "      <th>61</th>\n",
       "      <td>Thomas</td>\n",
       "      <td>Melloy</td>\n",
       "      <td>487</td>\n",
       "      <td>5</td>\n",
       "      <td>5</td>\n",
       "      <td>4</td>\n",
       "      <td>5</td>\n",
       "      <td>4</td>\n",
       "      <td>3</td>\n",
       "      <td>5</td>\n",
       "      <td>3</td>\n",
       "      <td>5</td>\n",
       "      <td>5</td>\n",
       "      <td>88.0</td>\n",
       "    </tr>\n",
       "    <tr>\n",
       "      <th>62</th>\n",
       "      <td>Tom</td>\n",
       "      <td>Banks</td>\n",
       "      <td>700</td>\n",
       "      <td>5</td>\n",
       "      <td>5</td>\n",
       "      <td>4</td>\n",
       "      <td>5</td>\n",
       "      <td>4</td>\n",
       "      <td>3</td>\n",
       "      <td>5</td>\n",
       "      <td>5</td>\n",
       "      <td>4</td>\n",
       "      <td>4</td>\n",
       "      <td>88.0</td>\n",
       "    </tr>\n",
       "    <tr>\n",
       "      <th>63</th>\n",
       "      <td>Tom</td>\n",
       "      <td>Lister</td>\n",
       "      <td>415</td>\n",
       "      <td>5</td>\n",
       "      <td>5</td>\n",
       "      <td>5</td>\n",
       "      <td>4</td>\n",
       "      <td>4</td>\n",
       "      <td>4</td>\n",
       "      <td>5</td>\n",
       "      <td>5</td>\n",
       "      <td>4</td>\n",
       "      <td>5</td>\n",
       "      <td>92.0</td>\n",
       "    </tr>\n",
       "    <tr>\n",
       "      <th>64</th>\n",
       "      <td>Zac</td>\n",
       "      <td>Daniel</td>\n",
       "      <td>113</td>\n",
       "      <td>2</td>\n",
       "      <td>5</td>\n",
       "      <td>4</td>\n",
       "      <td>4</td>\n",
       "      <td>3</td>\n",
       "      <td>4</td>\n",
       "      <td>3</td>\n",
       "      <td>0</td>\n",
       "      <td>3</td>\n",
       "      <td>2</td>\n",
       "      <td>60.0</td>\n",
       "    </tr>\n",
       "  </tbody>\n",
       "</table>\n",
       "<p>65 rows × 14 columns</p>\n",
       "</div>"
      ],
      "text/plain": [
       "   forename       surname  random  question1a  question1b  question2a  \\\n",
       "0      Abin      Punnoose     202           4           5           5   \n",
       "1     Aidan          Ryan     535           5           4           5   \n",
       "2      Alex        Clarke     960           5           5           4   \n",
       "3      Alex          Todd     370           5           5           5   \n",
       "4       Ali      McIntosh     206           5           5           5   \n",
       "..      ...           ...     ...         ...         ...         ...   \n",
       "60  Suruthi  Gnanenthiran     373           5           5           5   \n",
       "61   Thomas        Melloy     487           5           5           4   \n",
       "62      Tom         Banks     700           5           5           4   \n",
       "63      Tom        Lister     415           5           5           5   \n",
       "64      Zac        Daniel     113           2           5           4   \n",
       "\n",
       "    question2b  question3a  question3b  question4a  question4b  question5a  \\\n",
       "0            4           4           3           5           3           5   \n",
       "1            4           5           5           5           5           5   \n",
       "2            5           4           4           4           2           5   \n",
       "3            5           5           5           5           5           5   \n",
       "4            2           4           4           5           5           3   \n",
       "..         ...         ...         ...         ...         ...         ...   \n",
       "60           5           4           1           5           0           4   \n",
       "61           5           4           3           5           3           5   \n",
       "62           5           4           3           5           5           4   \n",
       "63           4           4           4           5           5           4   \n",
       "64           4           3           4           3           0           3   \n",
       "\n",
       "    question5b  total  \n",
       "0            0   76.0  \n",
       "1            4   94.0  \n",
       "2            3   82.0  \n",
       "3            5  100.0  \n",
       "4            3   82.0  \n",
       "..         ...    ...  \n",
       "60           2   72.0  \n",
       "61           5   88.0  \n",
       "62           4   88.0  \n",
       "63           5   92.0  \n",
       "64           2   60.0  \n",
       "\n",
       "[65 rows x 14 columns]"
      ]
     },
     "execution_count": 154,
     "metadata": {},
     "output_type": "execute_result"
    }
   ],
   "source": [
    "data"
   ]
  },
  {
   "cell_type": "code",
   "execution_count": 155,
   "metadata": {},
   "outputs": [],
   "source": [
    "data.to_csv('marking_arm_total.csv')"
   ]
  },
  {
   "cell_type": "code",
   "execution_count": null,
   "metadata": {},
   "outputs": [],
   "source": []
  }
 ],
 "metadata": {
  "kernelspec": {
   "display_name": "Python 3",
   "language": "python",
   "name": "python3"
  },
  "language_info": {
   "codemirror_mode": {
    "name": "ipython",
    "version": 3
   },
   "file_extension": ".py",
   "mimetype": "text/x-python",
   "name": "python",
   "nbconvert_exporter": "python",
   "pygments_lexer": "ipython3",
   "version": "3.7.3"
  }
 },
 "nbformat": 4,
 "nbformat_minor": 4
}
