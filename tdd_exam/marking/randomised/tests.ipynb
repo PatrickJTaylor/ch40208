{
 "cells": [
  {
   "cell_type": "markdown",
   "metadata": {},
   "source": [
    "# Test Driven Development Assessment\n"
   ]
  },
  {
   "cell_type": "code",
   "execution_count": 1,
   "metadata": {},
   "outputs": [],
   "source": [
    "import numpy as np"
   ]
  },
  {
   "cell_type": "markdown",
   "metadata": {},
   "source": [
    "### Problem 1\n",
    "\n",
    "The ideal gas law relates the pressure ($p$), temperature ($T$), and number of moles of a gas ($n$) to the volume ($V$) that the gas occupies. \n",
    "The ideal gas law is as follows, \n",
    "\n",
    "$$\n",
    "pV = nRT.\n",
    "$$\n",
    "\n",
    "Write a function to determine, and return, the pressure of an ideal gas. \n",
    "- The ideal gas constant has been imported for you as `R`\n",
    "- The function should raise an appropriate error if an unphysical temperature (when $T < 0\\text{ K}$) is given\n",
    "- The function should raise another appropriate error if an unphysical number of moles of gas (when $n < 0\\text{ mol}$) is given\n",
    "- Finally, the function should should raise an appropriate error if an unphysical volume (when $V < 0\\text{ m}^3$) is given"
   ]
  },
  {
   "cell_type": "code",
   "execution_count": 2,
   "metadata": {
    "scrolled": true
   },
   "outputs": [],
   "source": [
    "from functions_122 import ideal_gas_law"
   ]
  },
  {
   "cell_type": "code",
   "execution_count": 3,
   "metadata": {},
   "outputs": [
    {
     "name": "stdout",
     "output_type": "stream",
     "text": [
      "Test 1 for Problem 1 Passed!\n",
      "Test 2 for Problem 1 Passed!\n",
      "Test 3 for Problem 1 Passed!\n",
      "Test 4 for Problem 1 Passed!\n",
      "Test 5 for Problem 1 Passed!\n"
     ]
    }
   ],
   "source": [
    "# Tests correct equation\n",
    "np.testing.assert_almost_equal(ideal_gas_law(100, 100, 0.82057338), 101325.03467270655)\n",
    "print('Test 1 for Problem 1 Passed!')\n",
    "\n",
    "# Tests correct equation\n",
    "np.testing.assert_almost_equal(ideal_gas_law(1, 500, 5), 831.4462618)\n",
    "print('Test 2 for Problem 1 Passed!')\n",
    "\n",
    "# Tests for unphysical temperatures\n",
    "np.testing.assert_raises(ValueError, ideal_gas_law, 1, -1, 10)\n",
    "print('Test 3 for Problem 1 Passed!')\n",
    "\n",
    "# Tests for unphysical number of moles\n",
    "np.testing.assert_raises(ValueError, ideal_gas_law, -1, 1, 10)\n",
    "print('Test 4 for Problem 1 Passed!')\n",
    "\n",
    "# Tests for unphysical volume\n",
    "np.testing.assert_raises(ValueError, ideal_gas_law, 1, 1, -101325)\n",
    "print('Test 5 for Problem 1 Passed!')"
   ]
  },
  {
   "cell_type": "markdown",
   "metadata": {},
   "source": [
    "### Problem 2\n",
    "\n",
    "Selection rules describe the allowed transitions between one quantum state and another. \n",
    "The selection rule for vibrational spectroscopy is \n",
    "\n",
    "$$\n",
    "\\Delta v = \\pm 1,\n",
    "$$\n",
    "\n",
    "where $\\Delta v$ is the difference between the original and final vibrational energy levels. \n",
    "\n",
    "Write a function that when passed the initial and final vibrational energy levels will return a **Boolean** variable describing whether the transition is allowed or not. \n",
    "- The vibrational energy levels are quantised, therefore values **must** be integers greater than or equal to 0, if they are not return the appripriate error. "
   ]
  },
  {
   "cell_type": "code",
   "execution_count": 4,
   "metadata": {},
   "outputs": [],
   "source": [
    "from functions_122 import vib_spec_transition"
   ]
  },
  {
   "cell_type": "code",
   "execution_count": 5,
   "metadata": {},
   "outputs": [
    {
     "name": "stdout",
     "output_type": "stream",
     "text": [
      "Test 1 for Problem 2 Passed!\n",
      "Test 2 for Problem 2 Passed!\n",
      "Test 3 for Problem 2 Passed!\n",
      "Test 4 for Problem 2 Passed!\n",
      "Test 5 for Problem 2 Passed!\n",
      "Test 6 for Problem 2 Passed!\n",
      "Test 7 for Problem 2 Passed!\n"
     ]
    },
    {
     "ename": "AssertionError",
     "evalue": "TypeError not raised by vib_spec_transition",
     "output_type": "error",
     "traceback": [
      "\u001b[0;31m---------------------------------------------------------------------------\u001b[0m",
      "\u001b[0;31mAssertionError\u001b[0m                            Traceback (most recent call last)",
      "\u001b[0;32m<ipython-input-5-f2ee78101d9f>\u001b[0m in \u001b[0;36m<module>\u001b[0;34m\u001b[0m\n\u001b[1;32m     28\u001b[0m \u001b[0;34m\u001b[0m\u001b[0m\n\u001b[1;32m     29\u001b[0m \u001b[0;31m# Test non-integer v_0\u001b[0m\u001b[0;34m\u001b[0m\u001b[0;34m\u001b[0m\u001b[0;34m\u001b[0m\u001b[0m\n\u001b[0;32m---> 30\u001b[0;31m \u001b[0mnp\u001b[0m\u001b[0;34m.\u001b[0m\u001b[0mtesting\u001b[0m\u001b[0;34m.\u001b[0m\u001b[0massert_raises\u001b[0m\u001b[0;34m(\u001b[0m\u001b[0mTypeError\u001b[0m\u001b[0;34m,\u001b[0m \u001b[0mvib_spec_transition\u001b[0m\u001b[0;34m,\u001b[0m \u001b[0;36m2.5\u001b[0m\u001b[0;34m,\u001b[0m \u001b[0;36m1\u001b[0m\u001b[0;34m)\u001b[0m\u001b[0;34m\u001b[0m\u001b[0;34m\u001b[0m\u001b[0m\n\u001b[0m\u001b[1;32m     31\u001b[0m \u001b[0mprint\u001b[0m\u001b[0;34m(\u001b[0m\u001b[0;34m'Test 8 for Problem 2 Passed!'\u001b[0m\u001b[0;34m)\u001b[0m\u001b[0;34m\u001b[0m\u001b[0;34m\u001b[0m\u001b[0m\n\u001b[1;32m     32\u001b[0m \u001b[0;34m\u001b[0m\u001b[0m\n",
      "\u001b[0;32m~/miniconda3/lib/python3.7/site-packages/numpy/testing/_private/utils.py\u001b[0m in \u001b[0;36massert_raises\u001b[0;34m(*args, **kwargs)\u001b[0m\n\u001b[1;32m   1305\u001b[0m     \"\"\"\n\u001b[1;32m   1306\u001b[0m     \u001b[0m__tracebackhide__\u001b[0m \u001b[0;34m=\u001b[0m \u001b[0;32mTrue\u001b[0m  \u001b[0;31m# Hide traceback for py.test\u001b[0m\u001b[0;34m\u001b[0m\u001b[0;34m\u001b[0m\u001b[0m\n\u001b[0;32m-> 1307\u001b[0;31m     \u001b[0;32mreturn\u001b[0m \u001b[0m_d\u001b[0m\u001b[0;34m.\u001b[0m\u001b[0massertRaises\u001b[0m\u001b[0;34m(\u001b[0m\u001b[0;34m*\u001b[0m\u001b[0margs\u001b[0m\u001b[0;34m,\u001b[0m\u001b[0;34m**\u001b[0m\u001b[0mkwargs\u001b[0m\u001b[0;34m)\u001b[0m\u001b[0;34m\u001b[0m\u001b[0;34m\u001b[0m\u001b[0m\n\u001b[0m\u001b[1;32m   1308\u001b[0m \u001b[0;34m\u001b[0m\u001b[0m\n\u001b[1;32m   1309\u001b[0m \u001b[0;34m\u001b[0m\u001b[0m\n",
      "\u001b[0;32m~/miniconda3/lib/python3.7/unittest/case.py\u001b[0m in \u001b[0;36massertRaises\u001b[0;34m(self, expected_exception, *args, **kwargs)\u001b[0m\n\u001b[1;32m    741\u001b[0m         \u001b[0mcontext\u001b[0m \u001b[0;34m=\u001b[0m \u001b[0m_AssertRaisesContext\u001b[0m\u001b[0;34m(\u001b[0m\u001b[0mexpected_exception\u001b[0m\u001b[0;34m,\u001b[0m \u001b[0mself\u001b[0m\u001b[0;34m)\u001b[0m\u001b[0;34m\u001b[0m\u001b[0;34m\u001b[0m\u001b[0m\n\u001b[1;32m    742\u001b[0m         \u001b[0;32mtry\u001b[0m\u001b[0;34m:\u001b[0m\u001b[0;34m\u001b[0m\u001b[0;34m\u001b[0m\u001b[0m\n\u001b[0;32m--> 743\u001b[0;31m             \u001b[0;32mreturn\u001b[0m \u001b[0mcontext\u001b[0m\u001b[0;34m.\u001b[0m\u001b[0mhandle\u001b[0m\u001b[0;34m(\u001b[0m\u001b[0;34m'assertRaises'\u001b[0m\u001b[0;34m,\u001b[0m \u001b[0margs\u001b[0m\u001b[0;34m,\u001b[0m \u001b[0mkwargs\u001b[0m\u001b[0;34m)\u001b[0m\u001b[0;34m\u001b[0m\u001b[0;34m\u001b[0m\u001b[0m\n\u001b[0m\u001b[1;32m    744\u001b[0m         \u001b[0;32mfinally\u001b[0m\u001b[0;34m:\u001b[0m\u001b[0;34m\u001b[0m\u001b[0;34m\u001b[0m\u001b[0m\n\u001b[1;32m    745\u001b[0m             \u001b[0;31m# bpo-23890: manually break a reference cycle\u001b[0m\u001b[0;34m\u001b[0m\u001b[0;34m\u001b[0m\u001b[0;34m\u001b[0m\u001b[0m\n",
      "\u001b[0;32m~/miniconda3/lib/python3.7/unittest/case.py\u001b[0m in \u001b[0;36mhandle\u001b[0;34m(self, name, args, kwargs)\u001b[0m\n\u001b[1;32m    176\u001b[0m                 \u001b[0mself\u001b[0m\u001b[0;34m.\u001b[0m\u001b[0mobj_name\u001b[0m \u001b[0;34m=\u001b[0m \u001b[0mstr\u001b[0m\u001b[0;34m(\u001b[0m\u001b[0mcallable_obj\u001b[0m\u001b[0;34m)\u001b[0m\u001b[0;34m\u001b[0m\u001b[0;34m\u001b[0m\u001b[0m\n\u001b[1;32m    177\u001b[0m             \u001b[0;32mwith\u001b[0m \u001b[0mself\u001b[0m\u001b[0;34m:\u001b[0m\u001b[0;34m\u001b[0m\u001b[0;34m\u001b[0m\u001b[0m\n\u001b[0;32m--> 178\u001b[0;31m                 \u001b[0mcallable_obj\u001b[0m\u001b[0;34m(\u001b[0m\u001b[0;34m*\u001b[0m\u001b[0margs\u001b[0m\u001b[0;34m,\u001b[0m \u001b[0;34m**\u001b[0m\u001b[0mkwargs\u001b[0m\u001b[0;34m)\u001b[0m\u001b[0;34m\u001b[0m\u001b[0;34m\u001b[0m\u001b[0m\n\u001b[0m\u001b[1;32m    179\u001b[0m         \u001b[0;32mfinally\u001b[0m\u001b[0;34m:\u001b[0m\u001b[0;34m\u001b[0m\u001b[0;34m\u001b[0m\u001b[0m\n\u001b[1;32m    180\u001b[0m             \u001b[0;31m# bpo-23890: manually break a reference cycle\u001b[0m\u001b[0;34m\u001b[0m\u001b[0;34m\u001b[0m\u001b[0;34m\u001b[0m\u001b[0m\n",
      "\u001b[0;32m~/miniconda3/lib/python3.7/unittest/case.py\u001b[0m in \u001b[0;36m__exit__\u001b[0;34m(self, exc_type, exc_value, tb)\u001b[0m\n\u001b[1;32m    199\u001b[0m             \u001b[0;32mif\u001b[0m \u001b[0mself\u001b[0m\u001b[0;34m.\u001b[0m\u001b[0mobj_name\u001b[0m\u001b[0;34m:\u001b[0m\u001b[0;34m\u001b[0m\u001b[0;34m\u001b[0m\u001b[0m\n\u001b[1;32m    200\u001b[0m                 self._raiseFailure(\"{} not raised by {}\".format(exc_name,\n\u001b[0;32m--> 201\u001b[0;31m                                                                 self.obj_name))\n\u001b[0m\u001b[1;32m    202\u001b[0m             \u001b[0;32melse\u001b[0m\u001b[0;34m:\u001b[0m\u001b[0;34m\u001b[0m\u001b[0;34m\u001b[0m\u001b[0m\n\u001b[1;32m    203\u001b[0m                 \u001b[0mself\u001b[0m\u001b[0;34m.\u001b[0m\u001b[0m_raiseFailure\u001b[0m\u001b[0;34m(\u001b[0m\u001b[0;34m\"{} not raised\"\u001b[0m\u001b[0;34m.\u001b[0m\u001b[0mformat\u001b[0m\u001b[0;34m(\u001b[0m\u001b[0mexc_name\u001b[0m\u001b[0;34m)\u001b[0m\u001b[0;34m)\u001b[0m\u001b[0;34m\u001b[0m\u001b[0;34m\u001b[0m\u001b[0m\n",
      "\u001b[0;32m~/miniconda3/lib/python3.7/unittest/case.py\u001b[0m in \u001b[0;36m_raiseFailure\u001b[0;34m(self, standardMsg)\u001b[0m\n\u001b[1;32m    133\u001b[0m     \u001b[0;32mdef\u001b[0m \u001b[0m_raiseFailure\u001b[0m\u001b[0;34m(\u001b[0m\u001b[0mself\u001b[0m\u001b[0;34m,\u001b[0m \u001b[0mstandardMsg\u001b[0m\u001b[0;34m)\u001b[0m\u001b[0;34m:\u001b[0m\u001b[0;34m\u001b[0m\u001b[0;34m\u001b[0m\u001b[0m\n\u001b[1;32m    134\u001b[0m         \u001b[0mmsg\u001b[0m \u001b[0;34m=\u001b[0m \u001b[0mself\u001b[0m\u001b[0;34m.\u001b[0m\u001b[0mtest_case\u001b[0m\u001b[0;34m.\u001b[0m\u001b[0m_formatMessage\u001b[0m\u001b[0;34m(\u001b[0m\u001b[0mself\u001b[0m\u001b[0;34m.\u001b[0m\u001b[0mmsg\u001b[0m\u001b[0;34m,\u001b[0m \u001b[0mstandardMsg\u001b[0m\u001b[0;34m)\u001b[0m\u001b[0;34m\u001b[0m\u001b[0;34m\u001b[0m\u001b[0m\n\u001b[0;32m--> 135\u001b[0;31m         \u001b[0;32mraise\u001b[0m \u001b[0mself\u001b[0m\u001b[0;34m.\u001b[0m\u001b[0mtest_case\u001b[0m\u001b[0;34m.\u001b[0m\u001b[0mfailureException\u001b[0m\u001b[0;34m(\u001b[0m\u001b[0mmsg\u001b[0m\u001b[0;34m)\u001b[0m\u001b[0;34m\u001b[0m\u001b[0;34m\u001b[0m\u001b[0m\n\u001b[0m\u001b[1;32m    136\u001b[0m \u001b[0;34m\u001b[0m\u001b[0m\n\u001b[1;32m    137\u001b[0m \u001b[0;32mclass\u001b[0m \u001b[0m_AssertRaisesBaseContext\u001b[0m\u001b[0;34m(\u001b[0m\u001b[0m_BaseTestCaseContext\u001b[0m\u001b[0;34m)\u001b[0m\u001b[0;34m:\u001b[0m\u001b[0;34m\u001b[0m\u001b[0;34m\u001b[0m\u001b[0m\n",
      "\u001b[0;31mAssertionError\u001b[0m: TypeError not raised by vib_spec_transition"
     ]
    }
   ],
   "source": [
    "# Test +1 selection rule\n",
    "np.testing.assert_equal(vib_spec_transition(1, 2), True)\n",
    "print('Test 1 for Problem 2 Passed!')\n",
    "\n",
    "# Test -1 selection rule\n",
    "np.testing.assert_equal(vib_spec_transition(3, 2), True)\n",
    "print('Test 2 for Problem 2 Passed!')\n",
    "\n",
    "# Test False selection rule (+ve)\n",
    "np.testing.assert_equal(vib_spec_transition(1, 3), False)\n",
    "print('Test 3 for Problem 2 Passed!')\n",
    "\n",
    "# Test False selection rule (-ve)\n",
    "np.testing.assert_equal(vib_spec_transition(4, 1), False)\n",
    "print('Test 4 for Problem 2 Passed!')\n",
    "\n",
    "# Test negative quantum number v_1\n",
    "np.testing.assert_raises(ValueError, vib_spec_transition, 4, -1)\n",
    "print('Test 5 for Problem 2 Passed!')\n",
    "\n",
    "# Test negative quantum number v_0\n",
    "np.testing.assert_raises(ValueError, vib_spec_transition, -4, 1)\n",
    "print('Test 6 for Problem 2 Passed!')\n",
    "\n",
    "# Test negative quantum number v_0 and v_1\n",
    "np.testing.assert_raises(ValueError, vib_spec_transition, -4, -1)\n",
    "print('Test 7 for Problem 2 Passed!')\n",
    "\n",
    "# Test non-integer v_0\n",
    "np.testing.assert_raises(TypeError, vib_spec_transition, 2.5, 1)\n",
    "print('Test 8 for Problem 2 Passed!')\n",
    "\n",
    "# Test non-integer v_1\n",
    "np.testing.assert_raises(TypeError, vib_spec_transition, 1, 5.5)\n",
    "print('Test 9 for Problem 2 Passed!')\n",
    "\n",
    "# Test non-integer v_0 and v_1\n",
    "np.testing.assert_raises(TypeError, vib_spec_transition, 1.5, 2.5)\n",
    "print('Test 10 for Problem 2 Passed!')"
   ]
  },
  {
   "cell_type": "markdown",
   "metadata": {},
   "source": [
    "### Problem 3 \n",
    "\n",
    "The potential energy ($V(r)$) between two charged particles, at a separation ($r$), can be modeled with the Coulomb potential, which has the following functional form, \n",
    "\n",
    "$$\n",
    "V(r) = \\frac{q_iq_j}{4\\pi\\epsilon_0 r}\n",
    "$$\n",
    "\n",
    "where, $q_i$ and $q_j$ are the charges on each of the particles (where Li<sup>+</sup> will have a charge of 1, while O<sup>2-</sup> will have a charge of -2), and $\\epsilon_0$ is the vacuum permittivity (the latter of these has been imported for you as `epsilon_0`. \n",
    "\n",
    "Using the above equation, create a function that will return the potential energy between two particles when given the separation and charges. \n",
    "- This function should be capable of handling both signle values and lists/arrays of separations\n",
    "- Note, only single values for each of the charges are expected"
   ]
  },
  {
   "cell_type": "code",
   "execution_count": 6,
   "metadata": {},
   "outputs": [],
   "source": [
    "from functions_122 import coulomb"
   ]
  },
  {
   "cell_type": "code",
   "execution_count": 7,
   "metadata": {},
   "outputs": [
    {
     "name": "stdout",
     "output_type": "stream",
     "text": [
      "Test 1 for Problem 3 Passed!\n"
     ]
    },
    {
     "ename": "TypeError",
     "evalue": "can't multiply sequence by non-int of type 'float'",
     "output_type": "error",
     "traceback": [
      "\u001b[0;31m---------------------------------------------------------------------------\u001b[0m",
      "\u001b[0;31mTypeError\u001b[0m                                 Traceback (most recent call last)",
      "\u001b[0;32m<ipython-input-7-cea085e73d14>\u001b[0m in \u001b[0;36m<module>\u001b[0;34m\u001b[0m\n\u001b[1;32m      4\u001b[0m \u001b[0;34m\u001b[0m\u001b[0m\n\u001b[1;32m      5\u001b[0m \u001b[0;31m# Test correct equation for array/list of r\u001b[0m\u001b[0;34m\u001b[0m\u001b[0;34m\u001b[0m\u001b[0;34m\u001b[0m\u001b[0m\n\u001b[0;32m----> 6\u001b[0;31m \u001b[0mnp\u001b[0m\u001b[0;34m.\u001b[0m\u001b[0mtesting\u001b[0m\u001b[0;34m.\u001b[0m\u001b[0massert_almost_equal\u001b[0m\u001b[0;34m(\u001b[0m\u001b[0mcoulomb\u001b[0m\u001b[0;34m(\u001b[0m\u001b[0;34m[\u001b[0m\u001b[0;36m30000\u001b[0m\u001b[0;34m,\u001b[0m \u001b[0;36m400000\u001b[0m\u001b[0;34m]\u001b[0m\u001b[0;34m,\u001b[0m \u001b[0;36m1\u001b[0m\u001b[0;34m,\u001b[0m \u001b[0;36m3\u001b[0m\u001b[0;34m)\u001b[0m\u001b[0;34m,\u001b[0m \u001b[0;34m[\u001b[0m\u001b[0;36m898755.1787368\u001b[0m\u001b[0;34m,\u001b[0m  \u001b[0;36m67406.6384053\u001b[0m\u001b[0;34m]\u001b[0m\u001b[0;34m)\u001b[0m\u001b[0;34m\u001b[0m\u001b[0;34m\u001b[0m\u001b[0m\n\u001b[0m\u001b[1;32m      7\u001b[0m \u001b[0mprint\u001b[0m\u001b[0;34m(\u001b[0m\u001b[0;34m'Test 2 for Problem 3 Passed!'\u001b[0m\u001b[0;34m)\u001b[0m\u001b[0;34m\u001b[0m\u001b[0;34m\u001b[0m\u001b[0m\n",
      "\u001b[0;32m~/work/teaching/ch40208/tdd_exam/marking/randomised/functions_122.py\u001b[0m in \u001b[0;36mcoulomb\u001b[0;34m(r, q_i, q_j)\u001b[0m\n\u001b[1;32m     73\u001b[0m     \"\"\"\n\u001b[1;32m     74\u001b[0m \u001b[0;34m\u001b[0m\u001b[0m\n\u001b[0;32m---> 75\u001b[0;31m     \u001b[0;32mreturn\u001b[0m \u001b[0;34m(\u001b[0m\u001b[0mq_i\u001b[0m \u001b[0;34m*\u001b[0m \u001b[0mq_j\u001b[0m\u001b[0;34m)\u001b[0m\u001b[0;34m/\u001b[0m\u001b[0;34m(\u001b[0m\u001b[0;36m4\u001b[0m \u001b[0;34m*\u001b[0m \u001b[0mpi\u001b[0m \u001b[0;34m*\u001b[0m \u001b[0mepsilon_0\u001b[0m \u001b[0;34m*\u001b[0m \u001b[0mr\u001b[0m\u001b[0;34m)\u001b[0m\u001b[0;34m\u001b[0m\u001b[0;34m\u001b[0m\u001b[0m\n\u001b[0m\u001b[1;32m     76\u001b[0m \u001b[0;34m\u001b[0m\u001b[0m\n\u001b[1;32m     77\u001b[0m \u001b[0;34m\u001b[0m\u001b[0m\n",
      "\u001b[0;31mTypeError\u001b[0m: can't multiply sequence by non-int of type 'float'"
     ]
    }
   ],
   "source": [
    "# Test correct equation for single value r\n",
    "np.testing.assert_almost_equal(coulomb(30, 2, -1), -5.991701191578785e8)\n",
    "print('Test 1 for Problem 3 Passed!')\n",
    "\n",
    "# Test correct equation for array/list of r\n",
    "np.testing.assert_almost_equal(coulomb([30000, 400000], 1, 3), [898755.1787368,  67406.6384053])\n",
    "print('Test 2 for Problem 3 Passed!')"
   ]
  },
  {
   "cell_type": "markdown",
   "metadata": {},
   "source": [
    "### Problem 4\n",
    "\n",
    "Often in the analysis of experimental data, we aim to reduce the sum of the squared difference between the experimental data ($y_{\\text{exp}}$) and some model ($y_{\\text{model}}$). This *goodness-of-fit* parameter is known as the $\\chi^2$-value and is found by the following equation, \n",
    "\n",
    "$$\n",
    "\\chi^2 = \\sum_{i}^{N}{\\bigg(\\frac{y_{\\text{exp, i}} - y_{\\text{model, i}}}{\\text{d}y_{\\text{exp, i}}}\\bigg) ^ 2},\n",
    "$$\n",
    "\n",
    "where, $N$ is the number of data points, $\\text{d}y_{\\text{exp}}$ are the experimental uncertainty in the measurement of $y_{\\text{exp}}$, and $\\sum_{i^{N}$ indicates a summation over all data points. \n",
    "\n",
    "Write a single function that determines the $\\chi^2$ of a set of experimental data and the output from a model.\n",
    "- This function **should** be able to cope with arrays of data, *not* single values.\n",
    "- The function should also check that all the arrays of data are the same length and provide a string describing *why* the error has been raised. "
   ]
  },
  {
   "cell_type": "code",
   "execution_count": 8,
   "metadata": {},
   "outputs": [],
   "source": [
    "from functions_122 import chi_squared"
   ]
  },
  {
   "cell_type": "code",
   "execution_count": 9,
   "metadata": {},
   "outputs": [
    {
     "name": "stdout",
     "output_type": "stream",
     "text": [
      "Test 1 for Problem 5 Passed!\n",
      "Test 2 for Problem 5 Passed!\n",
      "Test 3 for Problem 5 Passed!\n",
      "Test 4 for Problem 5 Passed!\n"
     ]
    }
   ],
   "source": [
    "# Test chi-square for array of data\n",
    "np.testing.assert_almost_equal(\n",
    "    chi_squared(np.array([1.0, 1.0, 1.0]), \n",
    "                np.array([1.0, 2.0, 1.0]), \n",
    "                np.array([0.1, 0.2, 0.1])), 25)\n",
    "print('Test 1 for Problem 5 Passed!')\n",
    "\n",
    "# Test for when the exp has too few values\n",
    "np.testing.assert_raises(ValueError, chi_squared, \n",
    "                         np.array([1.0, 1.0, 1.0]), \n",
    "                         np.array([1.0, 2.0]), \n",
    "                         np.array([0.1, 0.2, 0.1]))\n",
    "print('Test 2 for Problem 5 Passed!')\n",
    "\n",
    "# Test for when the model has too few values\n",
    "np.testing.assert_raises(ValueError, chi_squared, \n",
    "                         np.array([1.0, 1.0]), \n",
    "                         np.array([1.0, 2.0, 1.0]), \n",
    "                         np.array([0.1, 0.2, 0.1]))\n",
    "print('Test 3 for Problem 5 Passed!')\n",
    "\n",
    "# Test for when the exp_uncertainty has too few values\n",
    "np.testing.assert_raises(ValueError, chi_squared, \n",
    "                         np.array([1.0, 1.0, 1.0]), \n",
    "                         np.array([1.0, 2.0, 0.1]), \n",
    "                         np.array([0.1, 0.2]))\n",
    "print('Test 4 for Problem 5 Passed!')"
   ]
  },
  {
   "cell_type": "markdown",
   "metadata": {},
   "source": [
    "### Problem 5\n",
    "\n",
    "The rotational contribution, $q^R$, to the total partition coefficient is found with the following summation, \n",
    "\n",
    "$$\n",
    "q^R = \\sum_{J=0}^{N}{(2J + 1) \\exp{\\bigg(\\frac{-hcBJ(J+1)}{k T}\\bigg)}}, \n",
    "$$\n",
    "\n",
    "where, $J$ is the energy level, $h$ is the Planck constant, $c$ is the speed of light, $B$ is the rotational constant for the molecule, $k$ is the Boltzmann constant and $T$ is the temperature. Above, $\\sum_{J=0}^{N}$ indicates the summation over values from $J=0$ to $J=N$. \n",
    "\n",
    "Using the above equation, create a function that will return the rotational contribution to the total partition function from the first $N$ energy levels. \n",
    "- This function should also take $B$ (in units of cm<sup>-1</sup>) and $T$ (in units of K) as arguments\n",
    "- An appropriate error should be returned for a non-integer $N$ and unphysical ($B < 0$ and $T < 0$) rotational constant and temperature\n",
    "- The constants, $h$, $c$, and $k$ have been imported for you as `h`, `c`, and `k` respectively."
   ]
  },
  {
   "cell_type": "code",
   "execution_count": 10,
   "metadata": {},
   "outputs": [],
   "source": [
    "from functions_122 import partition"
   ]
  },
  {
   "cell_type": "code",
   "execution_count": 11,
   "metadata": {},
   "outputs": [
    {
     "ename": "TypeError",
     "evalue": "can only concatenate list (not \"int\") to list",
     "output_type": "error",
     "traceback": [
      "\u001b[0;31m---------------------------------------------------------------------------\u001b[0m",
      "\u001b[0;31mTypeError\u001b[0m                                 Traceback (most recent call last)",
      "\u001b[0;32m<ipython-input-11-7ab098f68920>\u001b[0m in \u001b[0;36m<module>\u001b[0;34m\u001b[0m\n\u001b[1;32m      1\u001b[0m \u001b[0;31m# Test for correct implementation\u001b[0m\u001b[0;34m\u001b[0m\u001b[0;34m\u001b[0m\u001b[0;34m\u001b[0m\u001b[0m\n\u001b[0;32m----> 2\u001b[0;31m \u001b[0mnp\u001b[0m\u001b[0;34m.\u001b[0m\u001b[0mtesting\u001b[0m\u001b[0;34m.\u001b[0m\u001b[0massert_almost_equal\u001b[0m\u001b[0;34m(\u001b[0m\u001b[0mpartition\u001b[0m\u001b[0;34m(\u001b[0m\u001b[0;36m7\u001b[0m\u001b[0;34m,\u001b[0m \u001b[0;36m44.5\u001b[0m\u001b[0;34m,\u001b[0m \u001b[0;36m300\u001b[0m\u001b[0;34m)\u001b[0m\u001b[0;34m,\u001b[0m \u001b[0;36m5.033797336459535\u001b[0m\u001b[0;34m)\u001b[0m\u001b[0;34m\u001b[0m\u001b[0;34m\u001b[0m\u001b[0m\n\u001b[0m\u001b[1;32m      3\u001b[0m \u001b[0mprint\u001b[0m\u001b[0;34m(\u001b[0m\u001b[0;34m'Test 1 for Problem 5 Passed!'\u001b[0m\u001b[0;34m)\u001b[0m\u001b[0;34m\u001b[0m\u001b[0;34m\u001b[0m\u001b[0m\n\u001b[1;32m      4\u001b[0m \u001b[0;34m\u001b[0m\u001b[0m\n\u001b[1;32m      5\u001b[0m \u001b[0;31m# Test for correct implementation\u001b[0m\u001b[0;34m\u001b[0m\u001b[0;34m\u001b[0m\u001b[0;34m\u001b[0m\u001b[0m\n",
      "\u001b[0;32m~/work/teaching/ch40208/tdd_exam/marking/randomised/functions_122.py\u001b[0m in \u001b[0;36mpartition\u001b[0;34m(N, rotational_constant, temperature)\u001b[0m\n\u001b[1;32m    116\u001b[0m \u001b[0;34m\u001b[0m\u001b[0m\n\u001b[1;32m    117\u001b[0m \u001b[0;34m\u001b[0m\u001b[0m\n\u001b[0;32m--> 118\u001b[0;31m     \u001b[0;32mreturn\u001b[0m \u001b[0mnp\u001b[0m\u001b[0;34m.\u001b[0m\u001b[0msum\u001b[0m\u001b[0;34m(\u001b[0m\u001b[0;34m(\u001b[0m\u001b[0;34m(\u001b[0m\u001b[0;36m2\u001b[0m \u001b[0;34m*\u001b[0m \u001b[0mJ_values\u001b[0m\u001b[0;34m)\u001b[0m \u001b[0;34m+\u001b[0m \u001b[0;36m1\u001b[0m\u001b[0;34m)\u001b[0m \u001b[0;34m*\u001b[0m \u001b[0mnp\u001b[0m\u001b[0;34m.\u001b[0m\u001b[0mexp\u001b[0m\u001b[0;34m(\u001b[0m\u001b[0;34m(\u001b[0m\u001b[0;34m-\u001b[0m\u001b[0mh\u001b[0m \u001b[0;34m*\u001b[0m \u001b[0mc\u001b[0m \u001b[0;34m*\u001b[0m \u001b[0mrotational_constant\u001b[0m \u001b[0;34m*\u001b[0m \u001b[0mJ_values\u001b[0m \u001b[0;34m*\u001b[0m \u001b[0;34m(\u001b[0m\u001b[0mJ_values\u001b[0m \u001b[0;34m+\u001b[0m \u001b[0;36m1\u001b[0m\u001b[0;34m)\u001b[0m\u001b[0;34m)\u001b[0m\u001b[0;34m/\u001b[0m\u001b[0;34m(\u001b[0m\u001b[0mk\u001b[0m \u001b[0;34m*\u001b[0m \u001b[0mtemperature\u001b[0m\u001b[0;34m)\u001b[0m\u001b[0;34m)\u001b[0m\u001b[0;34m)\u001b[0m\u001b[0;34m\u001b[0m\u001b[0;34m\u001b[0m\u001b[0m\n\u001b[0m\u001b[1;32m    119\u001b[0m \u001b[0;34m\u001b[0m\u001b[0m\n\u001b[1;32m    120\u001b[0m \u001b[0;34m\u001b[0m\u001b[0m\n",
      "\u001b[0;31mTypeError\u001b[0m: can only concatenate list (not \"int\") to list"
     ]
    }
   ],
   "source": [
    "# Test for correct implementation\n",
    "np.testing.assert_almost_equal(partition(7, 44.5, 300), 5.033797336459535)\n",
    "print('Test 1 for Problem 5 Passed!')\n",
    "\n",
    "# Test for correct implementation\n",
    "np.testing.assert_almost_equal(partition(1, 13.6, 20), 1.4239565672461714)\n",
    "print('Test 2 for Problem 5 Passed!')\n",
    "\n",
    "# Test for negative rotational constant\n",
    "np.testing.assert_raises(ValueError, partition, 1, -20, 123)\n",
    "print('Test 3 for Problem 5 Passed!')\n",
    "\n",
    "# Test for negative temperature\n",
    "np.testing.assert_raises(ValueError, partition, 1, 20, -123)\n",
    "print('Test 4 for Problem 5 Passed!')\n",
    "\n",
    "# Test for non-integer N\n",
    "np.testing.assert_raises(TypeError, partition, 1.5, 20, 123)\n",
    "print('Test 5 for Problem 5 Passed!')"
   ]
  },
  {
   "cell_type": "code",
   "execution_count": null,
   "metadata": {},
   "outputs": [],
   "source": []
  }
 ],
 "metadata": {
  "kernelspec": {
   "display_name": "Python 3",
   "language": "python",
   "name": "python3"
  },
  "language_info": {
   "codemirror_mode": {
    "name": "ipython",
    "version": 3
   },
   "file_extension": ".py",
   "mimetype": "text/x-python",
   "name": "python",
   "nbconvert_exporter": "python",
   "pygments_lexer": "ipython3",
   "version": "3.7.3"
  }
 },
 "nbformat": 4,
 "nbformat_minor": 2
}
